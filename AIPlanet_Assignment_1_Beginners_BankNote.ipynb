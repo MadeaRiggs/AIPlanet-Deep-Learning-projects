{
  "nbformat": 4,
  "nbformat_minor": 0,
  "metadata": {
    "colab": {
      "provenance": [],
      "authorship_tag": "ABX9TyOLIftr1r/nhvGBZnUvAJCf",
      "include_colab_link": true
    },
    "kernelspec": {
      "name": "python3",
      "display_name": "Python 3"
    },
    "language_info": {
      "name": "python"
    }
  },
  "cells": [
    {
      "cell_type": "markdown",
      "metadata": {
        "id": "view-in-github",
        "colab_type": "text"
      },
      "source": [
        "<a href=\"https://colab.research.google.com/github/MadeaRiggs/AIPlanet-Deep-Learning-projects/blob/main/AIPlanet_Assignment_1_Beginners_BankNote.ipynb\" target=\"_parent\"><img src=\"https://colab.research.google.com/assets/colab-badge.svg\" alt=\"Open In Colab\"/></a>"
      ]
    },
    {
      "cell_type": "markdown",
      "source": [
        "Data Description\n",
        "\n",
        "VWTI: Variance of Wavelet Transformed Image\n",
        "\n",
        "SWTI: Skewness of Wavelet Transformed Image\n",
        "\n",
        "CWTI: Curtosis of Wavelet Transformed Image\n",
        "\n",
        "EI: Entropy of Image\n",
        "\n",
        "Class: Class (1: genuine, 0: forged)"
      ],
      "metadata": {
        "id": "Qtf9MLu4CopW"
      }
    },
    {
      "cell_type": "code",
      "execution_count": null,
      "metadata": {
        "id": "qajVE_4wCIvc"
      },
      "outputs": [],
      "source": [
        "#import libraries\n",
        "import pandas as pd\n",
        "import numpy as np"
      ]
    },
    {
      "cell_type": "code",
      "source": [
        "#load data\n",
        "bank_note_data  = pd.read_csv(\"https://raw.githubusercontent.com/dphi-official/Datasets/master/bank_note_data/training_set_label.csv\" )\n",
        "bank_note_data.head()"
      ],
      "metadata": {
        "colab": {
          "base_uri": "https://localhost:8080/",
          "height": 206
        },
        "id": "o-fJ_RFsCYuR",
        "outputId": "85583cbf-3257-4875-d93b-e7f36cdd278e"
      },
      "execution_count": null,
      "outputs": [
        {
          "output_type": "execute_result",
          "data": {
            "text/plain": [
              "     VWTI     SWTI     CWTI        EI  Class\n",
              "0  2.2634  -4.4862   3.6558 -0.612510      0\n",
              "1  3.2718   1.7837   2.1161  0.613340      0\n",
              "2 -3.9411 -12.8792  13.0597 -3.312500      1\n",
              "3  0.5195  -3.2633   3.0895 -0.984900      0\n",
              "4  2.5698  -4.4076   5.9856  0.078002      0"
            ],
            "text/html": [
              "\n",
              "  <div id=\"df-1d143db1-44d9-4d9a-b340-5fe6cb90ec6a\">\n",
              "    <div class=\"colab-df-container\">\n",
              "      <div>\n",
              "<style scoped>\n",
              "    .dataframe tbody tr th:only-of-type {\n",
              "        vertical-align: middle;\n",
              "    }\n",
              "\n",
              "    .dataframe tbody tr th {\n",
              "        vertical-align: top;\n",
              "    }\n",
              "\n",
              "    .dataframe thead th {\n",
              "        text-align: right;\n",
              "    }\n",
              "</style>\n",
              "<table border=\"1\" class=\"dataframe\">\n",
              "  <thead>\n",
              "    <tr style=\"text-align: right;\">\n",
              "      <th></th>\n",
              "      <th>VWTI</th>\n",
              "      <th>SWTI</th>\n",
              "      <th>CWTI</th>\n",
              "      <th>EI</th>\n",
              "      <th>Class</th>\n",
              "    </tr>\n",
              "  </thead>\n",
              "  <tbody>\n",
              "    <tr>\n",
              "      <th>0</th>\n",
              "      <td>2.2634</td>\n",
              "      <td>-4.4862</td>\n",
              "      <td>3.6558</td>\n",
              "      <td>-0.612510</td>\n",
              "      <td>0</td>\n",
              "    </tr>\n",
              "    <tr>\n",
              "      <th>1</th>\n",
              "      <td>3.2718</td>\n",
              "      <td>1.7837</td>\n",
              "      <td>2.1161</td>\n",
              "      <td>0.613340</td>\n",
              "      <td>0</td>\n",
              "    </tr>\n",
              "    <tr>\n",
              "      <th>2</th>\n",
              "      <td>-3.9411</td>\n",
              "      <td>-12.8792</td>\n",
              "      <td>13.0597</td>\n",
              "      <td>-3.312500</td>\n",
              "      <td>1</td>\n",
              "    </tr>\n",
              "    <tr>\n",
              "      <th>3</th>\n",
              "      <td>0.5195</td>\n",
              "      <td>-3.2633</td>\n",
              "      <td>3.0895</td>\n",
              "      <td>-0.984900</td>\n",
              "      <td>0</td>\n",
              "    </tr>\n",
              "    <tr>\n",
              "      <th>4</th>\n",
              "      <td>2.5698</td>\n",
              "      <td>-4.4076</td>\n",
              "      <td>5.9856</td>\n",
              "      <td>0.078002</td>\n",
              "      <td>0</td>\n",
              "    </tr>\n",
              "  </tbody>\n",
              "</table>\n",
              "</div>\n",
              "      <button class=\"colab-df-convert\" onclick=\"convertToInteractive('df-1d143db1-44d9-4d9a-b340-5fe6cb90ec6a')\"\n",
              "              title=\"Convert this dataframe to an interactive table.\"\n",
              "              style=\"display:none;\">\n",
              "        \n",
              "  <svg xmlns=\"http://www.w3.org/2000/svg\" height=\"24px\"viewBox=\"0 0 24 24\"\n",
              "       width=\"24px\">\n",
              "    <path d=\"M0 0h24v24H0V0z\" fill=\"none\"/>\n",
              "    <path d=\"M18.56 5.44l.94 2.06.94-2.06 2.06-.94-2.06-.94-.94-2.06-.94 2.06-2.06.94zm-11 1L8.5 8.5l.94-2.06 2.06-.94-2.06-.94L8.5 2.5l-.94 2.06-2.06.94zm10 10l.94 2.06.94-2.06 2.06-.94-2.06-.94-.94-2.06-.94 2.06-2.06.94z\"/><path d=\"M17.41 7.96l-1.37-1.37c-.4-.4-.92-.59-1.43-.59-.52 0-1.04.2-1.43.59L10.3 9.45l-7.72 7.72c-.78.78-.78 2.05 0 2.83L4 21.41c.39.39.9.59 1.41.59.51 0 1.02-.2 1.41-.59l7.78-7.78 2.81-2.81c.8-.78.8-2.07 0-2.86zM5.41 20L4 18.59l7.72-7.72 1.47 1.35L5.41 20z\"/>\n",
              "  </svg>\n",
              "      </button>\n",
              "      \n",
              "  <style>\n",
              "    .colab-df-container {\n",
              "      display:flex;\n",
              "      flex-wrap:wrap;\n",
              "      gap: 12px;\n",
              "    }\n",
              "\n",
              "    .colab-df-convert {\n",
              "      background-color: #E8F0FE;\n",
              "      border: none;\n",
              "      border-radius: 50%;\n",
              "      cursor: pointer;\n",
              "      display: none;\n",
              "      fill: #1967D2;\n",
              "      height: 32px;\n",
              "      padding: 0 0 0 0;\n",
              "      width: 32px;\n",
              "    }\n",
              "\n",
              "    .colab-df-convert:hover {\n",
              "      background-color: #E2EBFA;\n",
              "      box-shadow: 0px 1px 2px rgba(60, 64, 67, 0.3), 0px 1px 3px 1px rgba(60, 64, 67, 0.15);\n",
              "      fill: #174EA6;\n",
              "    }\n",
              "\n",
              "    [theme=dark] .colab-df-convert {\n",
              "      background-color: #3B4455;\n",
              "      fill: #D2E3FC;\n",
              "    }\n",
              "\n",
              "    [theme=dark] .colab-df-convert:hover {\n",
              "      background-color: #434B5C;\n",
              "      box-shadow: 0px 1px 3px 1px rgba(0, 0, 0, 0.15);\n",
              "      filter: drop-shadow(0px 1px 2px rgba(0, 0, 0, 0.3));\n",
              "      fill: #FFFFFF;\n",
              "    }\n",
              "  </style>\n",
              "\n",
              "      <script>\n",
              "        const buttonEl =\n",
              "          document.querySelector('#df-1d143db1-44d9-4d9a-b340-5fe6cb90ec6a button.colab-df-convert');\n",
              "        buttonEl.style.display =\n",
              "          google.colab.kernel.accessAllowed ? 'block' : 'none';\n",
              "\n",
              "        async function convertToInteractive(key) {\n",
              "          const element = document.querySelector('#df-1d143db1-44d9-4d9a-b340-5fe6cb90ec6a');\n",
              "          const dataTable =\n",
              "            await google.colab.kernel.invokeFunction('convertToInteractive',\n",
              "                                                     [key], {});\n",
              "          if (!dataTable) return;\n",
              "\n",
              "          const docLinkHtml = 'Like what you see? Visit the ' +\n",
              "            '<a target=\"_blank\" href=https://colab.research.google.com/notebooks/data_table.ipynb>data table notebook</a>'\n",
              "            + ' to learn more about interactive tables.';\n",
              "          element.innerHTML = '';\n",
              "          dataTable['output_type'] = 'display_data';\n",
              "          await google.colab.output.renderOutput(dataTable, element);\n",
              "          const docLink = document.createElement('div');\n",
              "          docLink.innerHTML = docLinkHtml;\n",
              "          element.appendChild(docLink);\n",
              "        }\n",
              "      </script>\n",
              "    </div>\n",
              "  </div>\n",
              "  "
            ]
          },
          "metadata": {},
          "execution_count": 20
        }
      ]
    },
    {
      "cell_type": "code",
      "source": [
        "bank_note_data.info()"
      ],
      "metadata": {
        "id": "eCllJMJWm0Wi",
        "colab": {
          "base_uri": "https://localhost:8080/"
        },
        "outputId": "944bf536-4a5c-416a-a28c-2a39e286bfce"
      },
      "execution_count": null,
      "outputs": [
        {
          "output_type": "stream",
          "name": "stdout",
          "text": [
            "<class 'pandas.core.frame.DataFrame'>\n",
            "RangeIndex: 1096 entries, 0 to 1095\n",
            "Data columns (total 5 columns):\n",
            " #   Column  Non-Null Count  Dtype  \n",
            "---  ------  --------------  -----  \n",
            " 0   VWTI    1096 non-null   float64\n",
            " 1   SWTI    1096 non-null   float64\n",
            " 2   CWTI    1096 non-null   float64\n",
            " 3   EI      1096 non-null   float64\n",
            " 4   Class   1096 non-null   int64  \n",
            "dtypes: float64(4), int64(1)\n",
            "memory usage: 42.9 KB\n"
          ]
        }
      ]
    },
    {
      "cell_type": "code",
      "source": [
        "bank_note_data.describe()"
      ],
      "metadata": {
        "colab": {
          "base_uri": "https://localhost:8080/",
          "height": 300
        },
        "id": "UWLzuCihEmGv",
        "outputId": "f7a3f9be-34d7-421f-b4aa-56fb9e8e1f48"
      },
      "execution_count": null,
      "outputs": [
        {
          "output_type": "execute_result",
          "data": {
            "text/plain": [
              "              VWTI         SWTI         CWTI           EI        Class\n",
              "count  1096.000000  1096.000000  1096.000000  1096.000000  1096.000000\n",
              "mean      0.448500     1.780643     1.493533    -1.157454     0.445255\n",
              "std       2.852623     5.922621     4.375655     2.084983     0.497221\n",
              "min      -7.036400   -13.773100    -5.286100    -8.548200     0.000000\n",
              "25%      -1.790850    -2.125200    -1.574975    -2.246975     0.000000\n",
              "50%       0.540430     2.205850     0.671900    -0.569190     0.000000\n",
              "75%       2.835350     6.793925     3.574450     0.399980     1.000000\n",
              "max       6.563300    12.730200    17.927400     2.449500     1.000000"
            ],
            "text/html": [
              "\n",
              "  <div id=\"df-d26aba13-e71d-4063-9494-589054a044a6\">\n",
              "    <div class=\"colab-df-container\">\n",
              "      <div>\n",
              "<style scoped>\n",
              "    .dataframe tbody tr th:only-of-type {\n",
              "        vertical-align: middle;\n",
              "    }\n",
              "\n",
              "    .dataframe tbody tr th {\n",
              "        vertical-align: top;\n",
              "    }\n",
              "\n",
              "    .dataframe thead th {\n",
              "        text-align: right;\n",
              "    }\n",
              "</style>\n",
              "<table border=\"1\" class=\"dataframe\">\n",
              "  <thead>\n",
              "    <tr style=\"text-align: right;\">\n",
              "      <th></th>\n",
              "      <th>VWTI</th>\n",
              "      <th>SWTI</th>\n",
              "      <th>CWTI</th>\n",
              "      <th>EI</th>\n",
              "      <th>Class</th>\n",
              "    </tr>\n",
              "  </thead>\n",
              "  <tbody>\n",
              "    <tr>\n",
              "      <th>count</th>\n",
              "      <td>1096.000000</td>\n",
              "      <td>1096.000000</td>\n",
              "      <td>1096.000000</td>\n",
              "      <td>1096.000000</td>\n",
              "      <td>1096.000000</td>\n",
              "    </tr>\n",
              "    <tr>\n",
              "      <th>mean</th>\n",
              "      <td>0.448500</td>\n",
              "      <td>1.780643</td>\n",
              "      <td>1.493533</td>\n",
              "      <td>-1.157454</td>\n",
              "      <td>0.445255</td>\n",
              "    </tr>\n",
              "    <tr>\n",
              "      <th>std</th>\n",
              "      <td>2.852623</td>\n",
              "      <td>5.922621</td>\n",
              "      <td>4.375655</td>\n",
              "      <td>2.084983</td>\n",
              "      <td>0.497221</td>\n",
              "    </tr>\n",
              "    <tr>\n",
              "      <th>min</th>\n",
              "      <td>-7.036400</td>\n",
              "      <td>-13.773100</td>\n",
              "      <td>-5.286100</td>\n",
              "      <td>-8.548200</td>\n",
              "      <td>0.000000</td>\n",
              "    </tr>\n",
              "    <tr>\n",
              "      <th>25%</th>\n",
              "      <td>-1.790850</td>\n",
              "      <td>-2.125200</td>\n",
              "      <td>-1.574975</td>\n",
              "      <td>-2.246975</td>\n",
              "      <td>0.000000</td>\n",
              "    </tr>\n",
              "    <tr>\n",
              "      <th>50%</th>\n",
              "      <td>0.540430</td>\n",
              "      <td>2.205850</td>\n",
              "      <td>0.671900</td>\n",
              "      <td>-0.569190</td>\n",
              "      <td>0.000000</td>\n",
              "    </tr>\n",
              "    <tr>\n",
              "      <th>75%</th>\n",
              "      <td>2.835350</td>\n",
              "      <td>6.793925</td>\n",
              "      <td>3.574450</td>\n",
              "      <td>0.399980</td>\n",
              "      <td>1.000000</td>\n",
              "    </tr>\n",
              "    <tr>\n",
              "      <th>max</th>\n",
              "      <td>6.563300</td>\n",
              "      <td>12.730200</td>\n",
              "      <td>17.927400</td>\n",
              "      <td>2.449500</td>\n",
              "      <td>1.000000</td>\n",
              "    </tr>\n",
              "  </tbody>\n",
              "</table>\n",
              "</div>\n",
              "      <button class=\"colab-df-convert\" onclick=\"convertToInteractive('df-d26aba13-e71d-4063-9494-589054a044a6')\"\n",
              "              title=\"Convert this dataframe to an interactive table.\"\n",
              "              style=\"display:none;\">\n",
              "        \n",
              "  <svg xmlns=\"http://www.w3.org/2000/svg\" height=\"24px\"viewBox=\"0 0 24 24\"\n",
              "       width=\"24px\">\n",
              "    <path d=\"M0 0h24v24H0V0z\" fill=\"none\"/>\n",
              "    <path d=\"M18.56 5.44l.94 2.06.94-2.06 2.06-.94-2.06-.94-.94-2.06-.94 2.06-2.06.94zm-11 1L8.5 8.5l.94-2.06 2.06-.94-2.06-.94L8.5 2.5l-.94 2.06-2.06.94zm10 10l.94 2.06.94-2.06 2.06-.94-2.06-.94-.94-2.06-.94 2.06-2.06.94z\"/><path d=\"M17.41 7.96l-1.37-1.37c-.4-.4-.92-.59-1.43-.59-.52 0-1.04.2-1.43.59L10.3 9.45l-7.72 7.72c-.78.78-.78 2.05 0 2.83L4 21.41c.39.39.9.59 1.41.59.51 0 1.02-.2 1.41-.59l7.78-7.78 2.81-2.81c.8-.78.8-2.07 0-2.86zM5.41 20L4 18.59l7.72-7.72 1.47 1.35L5.41 20z\"/>\n",
              "  </svg>\n",
              "      </button>\n",
              "      \n",
              "  <style>\n",
              "    .colab-df-container {\n",
              "      display:flex;\n",
              "      flex-wrap:wrap;\n",
              "      gap: 12px;\n",
              "    }\n",
              "\n",
              "    .colab-df-convert {\n",
              "      background-color: #E8F0FE;\n",
              "      border: none;\n",
              "      border-radius: 50%;\n",
              "      cursor: pointer;\n",
              "      display: none;\n",
              "      fill: #1967D2;\n",
              "      height: 32px;\n",
              "      padding: 0 0 0 0;\n",
              "      width: 32px;\n",
              "    }\n",
              "\n",
              "    .colab-df-convert:hover {\n",
              "      background-color: #E2EBFA;\n",
              "      box-shadow: 0px 1px 2px rgba(60, 64, 67, 0.3), 0px 1px 3px 1px rgba(60, 64, 67, 0.15);\n",
              "      fill: #174EA6;\n",
              "    }\n",
              "\n",
              "    [theme=dark] .colab-df-convert {\n",
              "      background-color: #3B4455;\n",
              "      fill: #D2E3FC;\n",
              "    }\n",
              "\n",
              "    [theme=dark] .colab-df-convert:hover {\n",
              "      background-color: #434B5C;\n",
              "      box-shadow: 0px 1px 3px 1px rgba(0, 0, 0, 0.15);\n",
              "      filter: drop-shadow(0px 1px 2px rgba(0, 0, 0, 0.3));\n",
              "      fill: #FFFFFF;\n",
              "    }\n",
              "  </style>\n",
              "\n",
              "      <script>\n",
              "        const buttonEl =\n",
              "          document.querySelector('#df-d26aba13-e71d-4063-9494-589054a044a6 button.colab-df-convert');\n",
              "        buttonEl.style.display =\n",
              "          google.colab.kernel.accessAllowed ? 'block' : 'none';\n",
              "\n",
              "        async function convertToInteractive(key) {\n",
              "          const element = document.querySelector('#df-d26aba13-e71d-4063-9494-589054a044a6');\n",
              "          const dataTable =\n",
              "            await google.colab.kernel.invokeFunction('convertToInteractive',\n",
              "                                                     [key], {});\n",
              "          if (!dataTable) return;\n",
              "\n",
              "          const docLinkHtml = 'Like what you see? Visit the ' +\n",
              "            '<a target=\"_blank\" href=https://colab.research.google.com/notebooks/data_table.ipynb>data table notebook</a>'\n",
              "            + ' to learn more about interactive tables.';\n",
              "          element.innerHTML = '';\n",
              "          dataTable['output_type'] = 'display_data';\n",
              "          await google.colab.output.renderOutput(dataTable, element);\n",
              "          const docLink = document.createElement('div');\n",
              "          docLink.innerHTML = docLinkHtml;\n",
              "          element.appendChild(docLink);\n",
              "        }\n",
              "      </script>\n",
              "    </div>\n",
              "  </div>\n",
              "  "
            ]
          },
          "metadata": {},
          "execution_count": 22
        }
      ]
    },
    {
      "cell_type": "code",
      "source": [
        "from sklearn.model_selection import train_test_split\n",
        "import tensorflow as tf\n",
        "from tensorflow.keras.models import Sequential\n",
        "from tensorflow.keras.losses import BinaryCrossentropy\n",
        "from tensorflow.keras.layers import Dense, Dropout\n",
        "from tensorflow.keras.optimizers import Adam\n",
        "from tensorflow.keras.callbacks import EarlyStopping"
      ],
      "metadata": {
        "id": "2y5Kouj6Eq7f"
      },
      "execution_count": null,
      "outputs": []
    },
    {
      "cell_type": "code",
      "source": [
        "X= bank_note_data.drop('Class', axis=1)\n",
        "y=bank_note_data['Class']"
      ],
      "metadata": {
        "id": "6mt6Q7epUYiP"
      },
      "execution_count": null,
      "outputs": []
    },
    {
      "cell_type": "code",
      "source": [
        "X_train, X_test, y_train, y_test = train_test_split(X, y, test_size=0.2, random_state=42)"
      ],
      "metadata": {
        "id": "AGaaq0WdUAbE"
      },
      "execution_count": null,
      "outputs": []
    },
    {
      "cell_type": "code",
      "source": [
        "#building NN model\n",
        "def create_model() :\n",
        "  model= Sequential()\n",
        "  model.add(Dense(10, input_shape=(4, ), activation='relu'))\n",
        "  model.add(Dense(200, activation='relu'))\n",
        "  model.add(Dropout(0.3))\n",
        "  model.add(Dense(300, activation='relu'))\n",
        "  model.add(Dense(1, activation='sigmoid'))\n",
        "\n",
        "  return model\n"
      ],
      "metadata": {
        "id": "0lYbGYFRFCaQ"
      },
      "execution_count": null,
      "outputs": []
    },
    {
      "cell_type": "code",
      "source": [
        "model= create_model()\n",
        "model.summary()\n",
        "\n",
        "opt= Adam(learning_rate=0.1)\n",
        "model.compile(\n",
        "    optimizer=opt,\n",
        "    loss=BinaryCrossentropy(from_logits=True),\n",
        "    metrics=['accuracy']\n",
        ")\n",
        "earlystopping_callback = EarlyStopping(\n",
        "    monitor='val_loss', min_delta=0, patience=3, verbose=0, mode='auto',\n",
        "    baseline=None, restore_best_weights=True\n",
        ")"
      ],
      "metadata": {
        "colab": {
          "base_uri": "https://localhost:8080/"
        },
        "id": "YQdA1GJNHMso",
        "outputId": "f119792d-16ef-4be6-cea2-9fff1c5f8599"
      },
      "execution_count": null,
      "outputs": [
        {
          "output_type": "stream",
          "name": "stdout",
          "text": [
            "Model: \"sequential_1\"\n",
            "_________________________________________________________________\n",
            " Layer (type)                Output Shape              Param #   \n",
            "=================================================================\n",
            " dense_4 (Dense)             (None, 10)                50        \n",
            "                                                                 \n",
            " dense_5 (Dense)             (None, 200)               2200      \n",
            "                                                                 \n",
            " dropout_1 (Dropout)         (None, 200)               0         \n",
            "                                                                 \n",
            " dense_6 (Dense)             (None, 300)               60300     \n",
            "                                                                 \n",
            " dense_7 (Dense)             (None, 1)                 301       \n",
            "                                                                 \n",
            "=================================================================\n",
            "Total params: 62,851\n",
            "Trainable params: 62,851\n",
            "Non-trainable params: 0\n",
            "_________________________________________________________________\n"
          ]
        }
      ]
    },
    {
      "cell_type": "code",
      "source": [
        "model.fit(\n",
        "    X_train,\n",
        "    y_train,\n",
        "    epochs=30,\n",
        "    validation_split=0.2,\n",
        "    callbacks= earlystopping_callback\n",
        ")"
      ],
      "metadata": {
        "colab": {
          "base_uri": "https://localhost:8080/"
        },
        "id": "c3_sxyN0KgC9",
        "outputId": "a841bc0a-3e84-4509-ffb4-7823fd870d5f"
      },
      "execution_count": null,
      "outputs": [
        {
          "output_type": "stream",
          "name": "stdout",
          "text": [
            "Epoch 1/30\n"
          ]
        },
        {
          "output_type": "stream",
          "name": "stderr",
          "text": [
            "/usr/local/lib/python3.8/dist-packages/tensorflow/python/util/dispatch.py:1082: UserWarning: \"`binary_crossentropy` received `from_logits=True`, but the `output` argument was produced by a sigmoid or softmax activation and thus does not represent logits. Was this intended?\"\n",
            "  return dispatch_target(*args, **kwargs)\n"
          ]
        },
        {
          "output_type": "stream",
          "name": "stdout",
          "text": [
            "22/22 [==============================] - 1s 17ms/step - loss: 3.7457 - accuracy: 0.7371 - val_loss: 0.4104 - val_accuracy: 0.8636\n",
            "Epoch 2/30\n",
            "13/22 [================>.............] - ETA: 0s - loss: 0.2238 - accuracy: 0.9423"
          ]
        },
        {
          "output_type": "stream",
          "name": "stderr",
          "text": [
            "/usr/local/lib/python3.8/dist-packages/tensorflow/python/util/dispatch.py:1082: UserWarning: \"`binary_crossentropy` received `from_logits=True`, but the `output` argument was produced by a sigmoid or softmax activation and thus does not represent logits. Was this intended?\"\n",
            "  return dispatch_target(*args, **kwargs)\n"
          ]
        },
        {
          "output_type": "stream",
          "name": "stdout",
          "text": [
            "\b\b\b\b\b\b\b\b\b\b\b\b\b\b\b\b\b\b\b\b\b\b\b\b\b\b\b\b\b\b\b\b\b\b\b\b\b\b\b\b\b\b\b\b\b\b\b\b\b\b\b\b\b\b\b\b\b\b\b\b\b\b\b\b\b\b\b\b\b\b\b\b\b\b\b\b\b\b\b\b\b\b\r22/22 [==============================] - 0s 6ms/step - loss: 0.1943 - accuracy: 0.9529 - val_loss: 0.1394 - val_accuracy: 0.9602\n",
            "Epoch 3/30\n",
            "22/22 [==============================] - 0s 6ms/step - loss: 0.2066 - accuracy: 0.9600 - val_loss: 0.1013 - val_accuracy: 0.9716\n",
            "Epoch 4/30\n",
            "22/22 [==============================] - 0s 6ms/step - loss: 0.1640 - accuracy: 0.9600 - val_loss: 0.0550 - val_accuracy: 0.9886\n",
            "Epoch 5/30\n",
            "22/22 [==============================] - 0s 6ms/step - loss: 0.0862 - accuracy: 0.9786 - val_loss: 0.0192 - val_accuracy: 0.9943\n",
            "Epoch 6/30\n",
            "22/22 [==============================] - 0s 6ms/step - loss: 0.2404 - accuracy: 0.9729 - val_loss: 0.0230 - val_accuracy: 1.0000\n",
            "Epoch 7/30\n",
            "22/22 [==============================] - 0s 5ms/step - loss: 0.0597 - accuracy: 0.9957 - val_loss: 0.0020 - val_accuracy: 1.0000\n",
            "Epoch 8/30\n",
            "22/22 [==============================] - 0s 7ms/step - loss: 0.0302 - accuracy: 0.9929 - val_loss: 4.9329e-04 - val_accuracy: 1.0000\n",
            "Epoch 9/30\n",
            "22/22 [==============================] - 0s 6ms/step - loss: 0.0190 - accuracy: 0.9971 - val_loss: 9.2630e-04 - val_accuracy: 1.0000\n",
            "Epoch 10/30\n",
            "22/22 [==============================] - 0s 7ms/step - loss: 0.0037 - accuracy: 0.9971 - val_loss: 9.4847e-05 - val_accuracy: 1.0000\n",
            "Epoch 11/30\n",
            "22/22 [==============================] - 0s 6ms/step - loss: 4.5532e-04 - accuracy: 1.0000 - val_loss: 2.9133e-05 - val_accuracy: 1.0000\n",
            "Epoch 12/30\n",
            "22/22 [==============================] - 0s 6ms/step - loss: 2.3805e-04 - accuracy: 1.0000 - val_loss: 1.7438e-05 - val_accuracy: 1.0000\n",
            "Epoch 13/30\n",
            "22/22 [==============================] - 0s 6ms/step - loss: 1.6448e-04 - accuracy: 1.0000 - val_loss: 1.1810e-05 - val_accuracy: 1.0000\n",
            "Epoch 14/30\n",
            "22/22 [==============================] - 0s 6ms/step - loss: 0.0018 - accuracy: 0.9986 - val_loss: 4.3253e-05 - val_accuracy: 1.0000\n",
            "Epoch 15/30\n",
            "22/22 [==============================] - 0s 7ms/step - loss: 0.0034 - accuracy: 0.9986 - val_loss: 0.0156 - val_accuracy: 0.9886\n",
            "Epoch 16/30\n",
            "22/22 [==============================] - 0s 6ms/step - loss: 0.0997 - accuracy: 0.9929 - val_loss: 0.0025 - val_accuracy: 1.0000\n"
          ]
        },
        {
          "output_type": "execute_result",
          "data": {
            "text/plain": [
              "<keras.callbacks.History at 0x7fd10e640850>"
            ]
          },
          "metadata": {},
          "execution_count": 28
        }
      ]
    },
    {
      "cell_type": "code",
      "source": [
        "model.evaluate(X_test, y_test)"
      ],
      "metadata": {
        "colab": {
          "base_uri": "https://localhost:8080/"
        },
        "id": "6j_UxznQUy15",
        "outputId": "06a5f725-ad7b-4c44-aa0f-f9fe5cae99f2"
      },
      "execution_count": null,
      "outputs": [
        {
          "output_type": "stream",
          "name": "stdout",
          "text": [
            "7/7 [==============================] - 0s 3ms/step - loss: 1.2503e-05 - accuracy: 1.0000\n"
          ]
        },
        {
          "output_type": "execute_result",
          "data": {
            "text/plain": [
              "[1.250296008947771e-05, 1.0]"
            ]
          },
          "metadata": {},
          "execution_count": 29
        }
      ]
    },
    {
      "cell_type": "code",
      "source": [],
      "metadata": {
        "id": "UA4xkiEJyVz5"
      },
      "execution_count": null,
      "outputs": []
    },
    {
      "cell_type": "code",
      "source": [
        "test_data = pd.read_csv('https://raw.githubusercontent.com/dphi-official/Datasets/master/bank_note_data/testing_set_label.csv')"
      ],
      "metadata": {
        "id": "1kqmhC_qLF3F"
      },
      "execution_count": null,
      "outputs": []
    },
    {
      "cell_type": "code",
      "source": [
        "test_data.info()"
      ],
      "metadata": {
        "colab": {
          "base_uri": "https://localhost:8080/"
        },
        "id": "o1jcYxh5QIKo",
        "outputId": "c49bc0c5-ddec-4fb3-97ce-66ab2f2f1d3f"
      },
      "execution_count": null,
      "outputs": [
        {
          "output_type": "stream",
          "name": "stdout",
          "text": [
            "<class 'pandas.core.frame.DataFrame'>\n",
            "RangeIndex: 275 entries, 0 to 274\n",
            "Data columns (total 4 columns):\n",
            " #   Column  Non-Null Count  Dtype  \n",
            "---  ------  --------------  -----  \n",
            " 0   VWTI    275 non-null    float64\n",
            " 1   SWTI    275 non-null    float64\n",
            " 2   CWTI    275 non-null    float64\n",
            " 3   EI      275 non-null    float64\n",
            "dtypes: float64(4)\n",
            "memory usage: 8.7 KB\n"
          ]
        }
      ]
    },
    {
      "cell_type": "code",
      "source": [
        "pred= model.predict(test_data)\n",
        "pred"
      ],
      "metadata": {
        "colab": {
          "base_uri": "https://localhost:8080/"
        },
        "id": "KGcWJghNQWG0",
        "outputId": "cfdee84b-2f98-41bf-d5d8-8dfba7e2cb33"
      },
      "execution_count": null,
      "outputs": [
        {
          "output_type": "stream",
          "name": "stdout",
          "text": [
            "9/9 [==============================] - 0s 2ms/step\n"
          ]
        },
        {
          "output_type": "execute_result",
          "data": {
            "text/plain": [
              "array([[1.0000000e+00],\n",
              "       [1.0000000e+00],\n",
              "       [1.8818586e-05],\n",
              "       [1.8818586e-05],\n",
              "       [1.8818586e-05],\n",
              "       [1.0000000e+00],\n",
              "       [1.0000000e+00],\n",
              "       [1.8818586e-05],\n",
              "       [1.0000000e+00],\n",
              "       [1.0000000e+00],\n",
              "       [1.8818586e-05],\n",
              "       [1.0000000e+00],\n",
              "       [1.8818586e-05],\n",
              "       [1.0000000e+00],\n",
              "       [1.8818586e-05],\n",
              "       [1.8818586e-05],\n",
              "       [1.8818586e-05],\n",
              "       [1.0000000e+00],\n",
              "       [1.8818586e-05],\n",
              "       [1.0000000e+00],\n",
              "       [1.0000000e+00],\n",
              "       [1.0000000e+00],\n",
              "       [1.8818586e-05],\n",
              "       [1.8818586e-05],\n",
              "       [1.8818586e-05],\n",
              "       [1.0000000e+00],\n",
              "       [1.8818586e-05],\n",
              "       [1.8818586e-05],\n",
              "       [1.0000000e+00],\n",
              "       [1.0000000e+00],\n",
              "       [1.0000000e+00],\n",
              "       [1.0000000e+00],\n",
              "       [1.8818586e-05],\n",
              "       [1.8818586e-05],\n",
              "       [1.8818586e-05],\n",
              "       [1.0000000e+00],\n",
              "       [1.0000000e+00],\n",
              "       [1.8818586e-05],\n",
              "       [1.8818586e-05],\n",
              "       [1.0000000e+00],\n",
              "       [1.0000000e+00],\n",
              "       [1.8818586e-05],\n",
              "       [1.0000000e+00],\n",
              "       [1.8818586e-05],\n",
              "       [1.0000000e+00],\n",
              "       [1.0000000e+00],\n",
              "       [1.0000000e+00],\n",
              "       [1.0000000e+00],\n",
              "       [1.8818586e-05],\n",
              "       [1.8818586e-05],\n",
              "       [1.0000000e+00],\n",
              "       [1.8818586e-05],\n",
              "       [1.0000000e+00],\n",
              "       [1.8818586e-05],\n",
              "       [9.9937820e-01],\n",
              "       [1.0000000e+00],\n",
              "       [1.0000000e+00],\n",
              "       [1.8818586e-05],\n",
              "       [1.8818586e-05],\n",
              "       [1.8818586e-05],\n",
              "       [1.8818586e-05],\n",
              "       [1.8818586e-05],\n",
              "       [1.8818586e-05],\n",
              "       [1.8818586e-05],\n",
              "       [1.8818586e-05],\n",
              "       [1.8818586e-05],\n",
              "       [1.0000000e+00],\n",
              "       [1.8818586e-05],\n",
              "       [1.8818586e-05],\n",
              "       [1.8818586e-05],\n",
              "       [1.0000000e+00],\n",
              "       [1.8818586e-05],\n",
              "       [1.8818586e-05],\n",
              "       [1.8818586e-05],\n",
              "       [1.8818586e-05],\n",
              "       [1.8818586e-05],\n",
              "       [1.8818586e-05],\n",
              "       [1.0000000e+00],\n",
              "       [1.0000000e+00],\n",
              "       [1.8818586e-05],\n",
              "       [1.0000000e+00],\n",
              "       [1.8818586e-05],\n",
              "       [1.8818586e-05],\n",
              "       [1.0000000e+00],\n",
              "       [1.0000000e+00],\n",
              "       [1.8818586e-05],\n",
              "       [1.8818586e-05],\n",
              "       [1.8818586e-05],\n",
              "       [1.0000000e+00],\n",
              "       [1.0000000e+00],\n",
              "       [1.0000000e+00],\n",
              "       [1.8818586e-05],\n",
              "       [1.0000000e+00],\n",
              "       [1.8818586e-05],\n",
              "       [1.8818586e-05],\n",
              "       [1.0000000e+00],\n",
              "       [1.8818586e-05],\n",
              "       [1.8818586e-05],\n",
              "       [1.8818586e-05],\n",
              "       [1.0000000e+00],\n",
              "       [1.0000000e+00],\n",
              "       [1.8818586e-05],\n",
              "       [1.0000000e+00],\n",
              "       [1.8818586e-05],\n",
              "       [1.8818586e-05],\n",
              "       [1.0000000e+00],\n",
              "       [1.8818586e-05],\n",
              "       [1.0000000e+00],\n",
              "       [1.0000000e+00],\n",
              "       [1.0000000e+00],\n",
              "       [1.8818586e-05],\n",
              "       [1.0000000e+00],\n",
              "       [1.8818586e-05],\n",
              "       [1.8818586e-05],\n",
              "       [1.0000000e+00],\n",
              "       [1.8818586e-05],\n",
              "       [1.8818586e-05],\n",
              "       [1.8818586e-05],\n",
              "       [1.8818586e-05],\n",
              "       [1.0000000e+00],\n",
              "       [1.0000000e+00],\n",
              "       [1.8818586e-05],\n",
              "       [1.8818586e-05],\n",
              "       [1.0000000e+00],\n",
              "       [1.0000000e+00],\n",
              "       [1.0000000e+00],\n",
              "       [1.8818586e-05],\n",
              "       [9.9987459e-01],\n",
              "       [1.0000000e+00],\n",
              "       [1.8818586e-05],\n",
              "       [1.0000000e+00],\n",
              "       [1.8818586e-05],\n",
              "       [1.8818586e-05],\n",
              "       [1.8818586e-05],\n",
              "       [1.0000000e+00],\n",
              "       [1.8818586e-05],\n",
              "       [1.8818586e-05],\n",
              "       [1.8818586e-05],\n",
              "       [1.8818586e-05],\n",
              "       [1.0000000e+00],\n",
              "       [1.0000000e+00],\n",
              "       [1.0000000e+00],\n",
              "       [1.0000000e+00],\n",
              "       [1.8818586e-05],\n",
              "       [1.8818586e-05],\n",
              "       [1.0000000e+00],\n",
              "       [1.0000000e+00],\n",
              "       [1.0000000e+00],\n",
              "       [1.8818586e-05],\n",
              "       [1.8818586e-05],\n",
              "       [1.8818586e-05],\n",
              "       [1.0000000e+00],\n",
              "       [1.8818586e-05],\n",
              "       [1.0000000e+00],\n",
              "       [1.8818586e-05],\n",
              "       [1.8818586e-05],\n",
              "       [1.8818586e-05],\n",
              "       [1.0000000e+00],\n",
              "       [1.0000000e+00],\n",
              "       [1.0000000e+00],\n",
              "       [1.0000000e+00],\n",
              "       [1.0000000e+00],\n",
              "       [1.0000000e+00],\n",
              "       [1.0000000e+00],\n",
              "       [1.8818586e-05],\n",
              "       [1.0000000e+00],\n",
              "       [1.0000000e+00],\n",
              "       [1.8818586e-05],\n",
              "       [1.8818586e-05],\n",
              "       [1.8818586e-05],\n",
              "       [1.8818586e-05],\n",
              "       [1.0000000e+00],\n",
              "       [1.0000000e+00],\n",
              "       [1.8818586e-05],\n",
              "       [1.0000000e+00],\n",
              "       [1.8818586e-05],\n",
              "       [1.8818586e-05],\n",
              "       [1.0000000e+00],\n",
              "       [1.0000000e+00],\n",
              "       [1.8818586e-05],\n",
              "       [1.8818586e-05],\n",
              "       [1.8818586e-05],\n",
              "       [1.8818586e-05],\n",
              "       [1.8818586e-05],\n",
              "       [1.0000000e+00],\n",
              "       [1.8818586e-05],\n",
              "       [1.0000000e+00],\n",
              "       [1.8818586e-05],\n",
              "       [1.0000000e+00],\n",
              "       [1.0000000e+00],\n",
              "       [1.8818586e-05],\n",
              "       [1.0000000e+00],\n",
              "       [1.8818586e-05],\n",
              "       [1.8818586e-05],\n",
              "       [1.8818586e-05],\n",
              "       [1.0000000e+00],\n",
              "       [1.8818586e-05],\n",
              "       [1.0000000e+00],\n",
              "       [1.0000000e+00],\n",
              "       [1.8818586e-05],\n",
              "       [1.8818586e-05],\n",
              "       [1.0000000e+00],\n",
              "       [1.8818586e-05],\n",
              "       [1.8818586e-05],\n",
              "       [1.0000000e+00],\n",
              "       [1.8818586e-05],\n",
              "       [1.8818586e-05],\n",
              "       [1.0000000e+00],\n",
              "       [1.8818586e-05],\n",
              "       [1.0000000e+00],\n",
              "       [1.0000000e+00],\n",
              "       [1.0000000e+00],\n",
              "       [1.0656323e-05],\n",
              "       [1.0000000e+00],\n",
              "       [1.8818586e-05],\n",
              "       [1.0000000e+00],\n",
              "       [1.0000000e+00],\n",
              "       [1.8818586e-05],\n",
              "       [1.8818586e-05],\n",
              "       [1.8818586e-05],\n",
              "       [1.0000000e+00],\n",
              "       [1.8818586e-05],\n",
              "       [1.0000000e+00],\n",
              "       [1.0000000e+00],\n",
              "       [1.8818586e-05],\n",
              "       [1.8818586e-05],\n",
              "       [1.8818586e-05],\n",
              "       [1.0000000e+00],\n",
              "       [1.8818586e-05],\n",
              "       [1.8818586e-05],\n",
              "       [1.8818586e-05],\n",
              "       [1.8818586e-05],\n",
              "       [1.0000000e+00],\n",
              "       [1.0000000e+00],\n",
              "       [1.8818586e-05],\n",
              "       [1.0000000e+00],\n",
              "       [1.8818586e-05],\n",
              "       [1.8818586e-05],\n",
              "       [1.8818586e-05],\n",
              "       [1.8818586e-05],\n",
              "       [1.8818586e-05],\n",
              "       [1.8818586e-05],\n",
              "       [1.8818586e-05],\n",
              "       [1.0000000e+00],\n",
              "       [1.8818586e-05],\n",
              "       [1.8818586e-05],\n",
              "       [1.0000000e+00],\n",
              "       [1.8818586e-05],\n",
              "       [1.0000000e+00],\n",
              "       [1.0000000e+00],\n",
              "       [1.8818586e-05],\n",
              "       [1.0000000e+00],\n",
              "       [1.8818586e-05],\n",
              "       [1.0000000e+00],\n",
              "       [1.0000000e+00],\n",
              "       [1.0000000e+00],\n",
              "       [1.0000000e+00],\n",
              "       [1.8818586e-05],\n",
              "       [1.8818586e-05],\n",
              "       [1.8818586e-05],\n",
              "       [1.0000000e+00],\n",
              "       [1.0000000e+00],\n",
              "       [1.8818586e-05],\n",
              "       [1.8818586e-05],\n",
              "       [1.0000000e+00],\n",
              "       [1.8818586e-05],\n",
              "       [1.8818586e-05],\n",
              "       [1.8818586e-05],\n",
              "       [1.8818586e-05],\n",
              "       [1.0000000e+00],\n",
              "       [1.0000000e+00],\n",
              "       [1.8818586e-05],\n",
              "       [1.8818586e-05],\n",
              "       [1.8818586e-05],\n",
              "       [1.8818586e-05]], dtype=float32)"
            ]
          },
          "metadata": {},
          "execution_count": 43
        }
      ]
    },
    {
      "cell_type": "code",
      "source": [
        "#Predict Class Label from Binary Classification\n",
        "pred= np.where(pred > 0.5, 1,0)"
      ],
      "metadata": {
        "id": "Fl_zuvsh1Yyf"
      },
      "execution_count": null,
      "outputs": []
    },
    {
      "cell_type": "code",
      "source": [
        "res = pd.DataFrame(pred)\n",
        "res.index = test_data.index\n",
        "res.columns = ['prediction']\n",
        "res.to_csv(\"assignment1.csv\", index=False)"
      ],
      "metadata": {
        "id": "cLZ8x9vCW4Wk"
      },
      "execution_count": null,
      "outputs": []
    }
  ]
}