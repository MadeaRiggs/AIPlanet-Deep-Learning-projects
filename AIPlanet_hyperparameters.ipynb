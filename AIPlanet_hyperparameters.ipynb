{
  "nbformat": 4,
  "nbformat_minor": 0,
  "metadata": {
    "colab": {
      "provenance": [],
      "authorship_tag": "ABX9TyM6DnvI3J405NnfOMXbhMum",
      "include_colab_link": true
    },
    "kernelspec": {
      "name": "python3",
      "display_name": "Python 3"
    },
    "language_info": {
      "name": "python"
    }
  },
  "cells": [
    {
      "cell_type": "markdown",
      "metadata": {
        "id": "view-in-github",
        "colab_type": "text"
      },
      "source": [
        "<a href=\"https://colab.research.google.com/github/MadeaRiggs/AIPlanet-Deep-Learning-projects/blob/main/AIPlanet_hyperparameters.ipynb\" target=\"_parent\"><img src=\"https://colab.research.google.com/assets/colab-badge.svg\" alt=\"Open In Colab\"/></a>"
      ]
    },
    {
      "cell_type": "code",
      "execution_count": null,
      "metadata": {
        "colab": {
          "base_uri": "https://localhost:8080/"
        },
        "id": "8v928yGLVH4n",
        "outputId": "d113b842-d3ff-4baa-bca6-a4457fd9ff96"
      },
      "outputs": [
        {
          "output_type": "stream",
          "name": "stdout",
          "text": [
            "Looking in indexes: https://pypi.org/simple, https://us-python.pkg.dev/colab-wheels/public/simple/\n",
            "Requirement already satisfied: tensorflow in /usr/local/lib/python3.8/dist-packages (2.9.2)\n",
            "Requirement already satisfied: termcolor>=1.1.0 in /usr/local/lib/python3.8/dist-packages (from tensorflow) (2.1.1)\n",
            "Requirement already satisfied: setuptools in /usr/local/lib/python3.8/dist-packages (from tensorflow) (57.4.0)\n",
            "Requirement already satisfied: wrapt>=1.11.0 in /usr/local/lib/python3.8/dist-packages (from tensorflow) (1.14.1)\n",
            "Requirement already satisfied: keras-preprocessing>=1.1.1 in /usr/local/lib/python3.8/dist-packages (from tensorflow) (1.1.2)\n",
            "Requirement already satisfied: grpcio<2.0,>=1.24.3 in /usr/local/lib/python3.8/dist-packages (from tensorflow) (1.51.1)\n",
            "Requirement already satisfied: flatbuffers<2,>=1.12 in /usr/local/lib/python3.8/dist-packages (from tensorflow) (1.12)\n",
            "Requirement already satisfied: gast<=0.4.0,>=0.2.1 in /usr/local/lib/python3.8/dist-packages (from tensorflow) (0.4.0)\n",
            "Requirement already satisfied: libclang>=13.0.0 in /usr/local/lib/python3.8/dist-packages (from tensorflow) (14.0.6)\n",
            "Requirement already satisfied: tensorboard<2.10,>=2.9 in /usr/local/lib/python3.8/dist-packages (from tensorflow) (2.9.1)\n",
            "Requirement already satisfied: numpy>=1.20 in /usr/local/lib/python3.8/dist-packages (from tensorflow) (1.21.6)\n",
            "Requirement already satisfied: typing-extensions>=3.6.6 in /usr/local/lib/python3.8/dist-packages (from tensorflow) (4.4.0)\n",
            "Requirement already satisfied: protobuf<3.20,>=3.9.2 in /usr/local/lib/python3.8/dist-packages (from tensorflow) (3.19.6)\n",
            "Requirement already satisfied: tensorflow-io-gcs-filesystem>=0.23.1 in /usr/local/lib/python3.8/dist-packages (from tensorflow) (0.28.0)\n",
            "Requirement already satisfied: astunparse>=1.6.0 in /usr/local/lib/python3.8/dist-packages (from tensorflow) (1.6.3)\n",
            "Requirement already satisfied: h5py>=2.9.0 in /usr/local/lib/python3.8/dist-packages (from tensorflow) (3.1.0)\n",
            "Requirement already satisfied: opt-einsum>=2.3.2 in /usr/local/lib/python3.8/dist-packages (from tensorflow) (3.3.0)\n",
            "Requirement already satisfied: absl-py>=1.0.0 in /usr/local/lib/python3.8/dist-packages (from tensorflow) (1.3.0)\n",
            "Requirement already satisfied: packaging in /usr/local/lib/python3.8/dist-packages (from tensorflow) (21.3)\n",
            "Requirement already satisfied: keras<2.10.0,>=2.9.0rc0 in /usr/local/lib/python3.8/dist-packages (from tensorflow) (2.9.0)\n",
            "Requirement already satisfied: google-pasta>=0.1.1 in /usr/local/lib/python3.8/dist-packages (from tensorflow) (0.2.0)\n",
            "Requirement already satisfied: six>=1.12.0 in /usr/local/lib/python3.8/dist-packages (from tensorflow) (1.15.0)\n",
            "Requirement already satisfied: tensorflow-estimator<2.10.0,>=2.9.0rc0 in /usr/local/lib/python3.8/dist-packages (from tensorflow) (2.9.0)\n",
            "Requirement already satisfied: wheel<1.0,>=0.23.0 in /usr/local/lib/python3.8/dist-packages (from astunparse>=1.6.0->tensorflow) (0.38.4)\n",
            "Requirement already satisfied: google-auth<3,>=1.6.3 in /usr/local/lib/python3.8/dist-packages (from tensorboard<2.10,>=2.9->tensorflow) (2.15.0)\n",
            "Requirement already satisfied: google-auth-oauthlib<0.5,>=0.4.1 in /usr/local/lib/python3.8/dist-packages (from tensorboard<2.10,>=2.9->tensorflow) (0.4.6)\n",
            "Requirement already satisfied: requests<3,>=2.21.0 in /usr/local/lib/python3.8/dist-packages (from tensorboard<2.10,>=2.9->tensorflow) (2.23.0)\n",
            "Requirement already satisfied: markdown>=2.6.8 in /usr/local/lib/python3.8/dist-packages (from tensorboard<2.10,>=2.9->tensorflow) (3.4.1)\n",
            "Requirement already satisfied: tensorboard-data-server<0.7.0,>=0.6.0 in /usr/local/lib/python3.8/dist-packages (from tensorboard<2.10,>=2.9->tensorflow) (0.6.1)\n",
            "Requirement already satisfied: tensorboard-plugin-wit>=1.6.0 in /usr/local/lib/python3.8/dist-packages (from tensorboard<2.10,>=2.9->tensorflow) (1.8.1)\n",
            "Requirement already satisfied: werkzeug>=1.0.1 in /usr/local/lib/python3.8/dist-packages (from tensorboard<2.10,>=2.9->tensorflow) (1.0.1)\n",
            "Requirement already satisfied: rsa<5,>=3.1.4 in /usr/local/lib/python3.8/dist-packages (from google-auth<3,>=1.6.3->tensorboard<2.10,>=2.9->tensorflow) (4.9)\n",
            "Requirement already satisfied: pyasn1-modules>=0.2.1 in /usr/local/lib/python3.8/dist-packages (from google-auth<3,>=1.6.3->tensorboard<2.10,>=2.9->tensorflow) (0.2.8)\n",
            "Requirement already satisfied: cachetools<6.0,>=2.0.0 in /usr/local/lib/python3.8/dist-packages (from google-auth<3,>=1.6.3->tensorboard<2.10,>=2.9->tensorflow) (5.2.0)\n",
            "Requirement already satisfied: requests-oauthlib>=0.7.0 in /usr/local/lib/python3.8/dist-packages (from google-auth-oauthlib<0.5,>=0.4.1->tensorboard<2.10,>=2.9->tensorflow) (1.3.1)\n",
            "Requirement already satisfied: importlib-metadata>=4.4 in /usr/local/lib/python3.8/dist-packages (from markdown>=2.6.8->tensorboard<2.10,>=2.9->tensorflow) (5.1.0)\n",
            "Requirement already satisfied: zipp>=0.5 in /usr/local/lib/python3.8/dist-packages (from importlib-metadata>=4.4->markdown>=2.6.8->tensorboard<2.10,>=2.9->tensorflow) (3.11.0)\n",
            "Requirement already satisfied: pyasn1<0.5.0,>=0.4.6 in /usr/local/lib/python3.8/dist-packages (from pyasn1-modules>=0.2.1->google-auth<3,>=1.6.3->tensorboard<2.10,>=2.9->tensorflow) (0.4.8)\n",
            "Requirement already satisfied: idna<3,>=2.5 in /usr/local/lib/python3.8/dist-packages (from requests<3,>=2.21.0->tensorboard<2.10,>=2.9->tensorflow) (2.10)\n",
            "Requirement already satisfied: certifi>=2017.4.17 in /usr/local/lib/python3.8/dist-packages (from requests<3,>=2.21.0->tensorboard<2.10,>=2.9->tensorflow) (2022.12.7)\n",
            "Requirement already satisfied: chardet<4,>=3.0.2 in /usr/local/lib/python3.8/dist-packages (from requests<3,>=2.21.0->tensorboard<2.10,>=2.9->tensorflow) (3.0.4)\n",
            "Requirement already satisfied: urllib3!=1.25.0,!=1.25.1,<1.26,>=1.21.1 in /usr/local/lib/python3.8/dist-packages (from requests<3,>=2.21.0->tensorboard<2.10,>=2.9->tensorflow) (1.24.3)\n",
            "Requirement already satisfied: oauthlib>=3.0.0 in /usr/local/lib/python3.8/dist-packages (from requests-oauthlib>=0.7.0->google-auth-oauthlib<0.5,>=0.4.1->tensorboard<2.10,>=2.9->tensorflow) (3.2.2)\n",
            "Requirement already satisfied: pyparsing!=3.0.5,>=2.0.2 in /usr/local/lib/python3.8/dist-packages (from packaging->tensorflow) (3.0.9)\n"
          ]
        }
      ],
      "source": [
        "!pip install tensorflow"
      ]
    },
    {
      "cell_type": "code",
      "source": [
        "import tensorflow as tf\n",
        "print(tf.__version__)"
      ],
      "metadata": {
        "colab": {
          "base_uri": "https://localhost:8080/"
        },
        "id": "RyR8WWuWVa6x",
        "outputId": "8e85a314-478c-4498-da3c-08c0e8be1788"
      },
      "execution_count": null,
      "outputs": [
        {
          "output_type": "stream",
          "name": "stdout",
          "text": [
            "2.9.2\n"
          ]
        }
      ]
    },
    {
      "cell_type": "markdown",
      "source": [
        "# Agenda\n",
        "1. About the Dataset\n",
        "2. Objective\n",
        "3. Loading Libraries\n",
        "4. Loading Data\n",
        "5. View Data\n",
        "6. Separate Input Features and Output Features/Variables\n",
        "7. Split The Data into Train and Test Set\n",
        "8. Train the model (The five step model life cycle)\n",
        "  1. Define the model.\n",
        "  2. Compile the model.\n",
        "  3. Fit the model.\n",
        "  4. Evaluate the model\n",
        "    * Hyperparameter Tunning\n",
        "  5. Prediction"
      ],
      "metadata": {
        "id": "-hbuGMY_1Rjr"
      }
    },
    {
      "cell_type": "markdown",
      "source": [
        "## About the Dataset\n",
        "We will be working on a data set that comes from the real estate industry in Boston (US). This database contains 14 attributes. The output variable refers to the median value of owner-occupied homes in 1000 USD's.\n",
        "\n",
        "* CRIM: per capita crime rate by town\n",
        "* ZN: proportion of residential land zoned for lots over 25,000 sq.ft.\n",
        "* INDUS: proportion of non-retail business acres per town\n",
        "* CHAS: Charles River dummy variable (= 1 if tract bounds river; 0 otherwise)\n",
        "* NOX: nitric oxides concentration (parts per 10 million)\n",
        "* RM: average number of rooms per dwelling\n",
        "* AGE: proportion of owner-occupied units built prior to 1940\n",
        "* DIS: weighted distances to five Boston employment centres\n",
        "* RAD: index of accessibility to radial highways\n",
        "* TAX: full-value property-tax rate per 10,000 USD\n",
        "* PTRATIO: pupil-teacher ratio by town\n",
        "* B: 1000(Bk - 0.63)^2 where Bk is the proportion of blacks by town\n",
        "* LSTAT: lower status of the population (%)\n",
        "* MEDV: Median value of owner-occupied homes in 1000 USD's (Output/Target)\n"
      ],
      "metadata": {
        "id": "OHmr_WIJ1awT"
      }
    },
    {
      "cell_type": "markdown",
      "source": [
        "## Objective\n",
        "The objective is to use linear regression to find the median value of owner-occupied homes in 1000 USD's.\n",
        "\n",
        "We will build a Machine learning model (i.e. Linear Regression) using `tensorflow.keras` (in short `tf.keras`) API."
      ],
      "metadata": {
        "id": "mslEp6t117bd"
      }
    },
    {
      "cell_type": "code",
      "source": [
        "#import libraries\n",
        "import numpy as np\n",
        "import pandas as pd\n",
        "import matplotlib.pyplot as plt\n"
      ],
      "metadata": {
        "id": "VXW4LY9I2DAF"
      },
      "execution_count": null,
      "outputs": []
    },
    {
      "cell_type": "code",
      "source": [
        "#load data\n",
        "boston_data = pd.read_csv(\"https://raw.githubusercontent.com/dphi-official/Datasets/master/Boston_Housing/Training_set_boston.csv\" )"
      ],
      "metadata": {
        "id": "0nCkRw2f2VHQ"
      },
      "execution_count": null,
      "outputs": []
    },
    {
      "cell_type": "code",
      "source": [
        "boston_data.head()"
      ],
      "metadata": {
        "colab": {
          "base_uri": "https://localhost:8080/",
          "height": 206
        },
        "id": "Nxxg-s__2Yup",
        "outputId": "d7c946fd-c3f4-483e-b54f-1f8fb6d37845"
      },
      "execution_count": null,
      "outputs": [
        {
          "output_type": "execute_result",
          "data": {
            "text/plain": [
              "       CRIM    ZN  INDUS  CHAS     NOX     RM   AGE     DIS   RAD    TAX  \\\n",
              "0  15.02340   0.0  18.10   0.0  0.6140  5.304  97.3  2.1007  24.0  666.0   \n",
              "1   0.62739   0.0   8.14   0.0  0.5380  5.834  56.5  4.4986   4.0  307.0   \n",
              "2   0.03466  35.0   6.06   0.0  0.4379  6.031  23.3  6.6407   1.0  304.0   \n",
              "3   7.05042   0.0  18.10   0.0  0.6140  6.103  85.1  2.0218  24.0  666.0   \n",
              "4   0.72580   0.0   8.14   0.0  0.5380  5.727  69.5  3.7965   4.0  307.0   \n",
              "\n",
              "   PTRATIO       B  LSTAT  MEDV  \n",
              "0     20.2  349.48  24.91  12.0  \n",
              "1     21.0  395.62   8.47  19.9  \n",
              "2     16.9  362.25   7.83  19.4  \n",
              "3     20.2    2.52  23.29  13.4  \n",
              "4     21.0  390.95  11.28  18.2  "
            ],
            "text/html": [
              "\n",
              "  <div id=\"df-d3051472-0d5b-4b1f-87e2-eb06961a1a7f\">\n",
              "    <div class=\"colab-df-container\">\n",
              "      <div>\n",
              "<style scoped>\n",
              "    .dataframe tbody tr th:only-of-type {\n",
              "        vertical-align: middle;\n",
              "    }\n",
              "\n",
              "    .dataframe tbody tr th {\n",
              "        vertical-align: top;\n",
              "    }\n",
              "\n",
              "    .dataframe thead th {\n",
              "        text-align: right;\n",
              "    }\n",
              "</style>\n",
              "<table border=\"1\" class=\"dataframe\">\n",
              "  <thead>\n",
              "    <tr style=\"text-align: right;\">\n",
              "      <th></th>\n",
              "      <th>CRIM</th>\n",
              "      <th>ZN</th>\n",
              "      <th>INDUS</th>\n",
              "      <th>CHAS</th>\n",
              "      <th>NOX</th>\n",
              "      <th>RM</th>\n",
              "      <th>AGE</th>\n",
              "      <th>DIS</th>\n",
              "      <th>RAD</th>\n",
              "      <th>TAX</th>\n",
              "      <th>PTRATIO</th>\n",
              "      <th>B</th>\n",
              "      <th>LSTAT</th>\n",
              "      <th>MEDV</th>\n",
              "    </tr>\n",
              "  </thead>\n",
              "  <tbody>\n",
              "    <tr>\n",
              "      <th>0</th>\n",
              "      <td>15.02340</td>\n",
              "      <td>0.0</td>\n",
              "      <td>18.10</td>\n",
              "      <td>0.0</td>\n",
              "      <td>0.6140</td>\n",
              "      <td>5.304</td>\n",
              "      <td>97.3</td>\n",
              "      <td>2.1007</td>\n",
              "      <td>24.0</td>\n",
              "      <td>666.0</td>\n",
              "      <td>20.2</td>\n",
              "      <td>349.48</td>\n",
              "      <td>24.91</td>\n",
              "      <td>12.0</td>\n",
              "    </tr>\n",
              "    <tr>\n",
              "      <th>1</th>\n",
              "      <td>0.62739</td>\n",
              "      <td>0.0</td>\n",
              "      <td>8.14</td>\n",
              "      <td>0.0</td>\n",
              "      <td>0.5380</td>\n",
              "      <td>5.834</td>\n",
              "      <td>56.5</td>\n",
              "      <td>4.4986</td>\n",
              "      <td>4.0</td>\n",
              "      <td>307.0</td>\n",
              "      <td>21.0</td>\n",
              "      <td>395.62</td>\n",
              "      <td>8.47</td>\n",
              "      <td>19.9</td>\n",
              "    </tr>\n",
              "    <tr>\n",
              "      <th>2</th>\n",
              "      <td>0.03466</td>\n",
              "      <td>35.0</td>\n",
              "      <td>6.06</td>\n",
              "      <td>0.0</td>\n",
              "      <td>0.4379</td>\n",
              "      <td>6.031</td>\n",
              "      <td>23.3</td>\n",
              "      <td>6.6407</td>\n",
              "      <td>1.0</td>\n",
              "      <td>304.0</td>\n",
              "      <td>16.9</td>\n",
              "      <td>362.25</td>\n",
              "      <td>7.83</td>\n",
              "      <td>19.4</td>\n",
              "    </tr>\n",
              "    <tr>\n",
              "      <th>3</th>\n",
              "      <td>7.05042</td>\n",
              "      <td>0.0</td>\n",
              "      <td>18.10</td>\n",
              "      <td>0.0</td>\n",
              "      <td>0.6140</td>\n",
              "      <td>6.103</td>\n",
              "      <td>85.1</td>\n",
              "      <td>2.0218</td>\n",
              "      <td>24.0</td>\n",
              "      <td>666.0</td>\n",
              "      <td>20.2</td>\n",
              "      <td>2.52</td>\n",
              "      <td>23.29</td>\n",
              "      <td>13.4</td>\n",
              "    </tr>\n",
              "    <tr>\n",
              "      <th>4</th>\n",
              "      <td>0.72580</td>\n",
              "      <td>0.0</td>\n",
              "      <td>8.14</td>\n",
              "      <td>0.0</td>\n",
              "      <td>0.5380</td>\n",
              "      <td>5.727</td>\n",
              "      <td>69.5</td>\n",
              "      <td>3.7965</td>\n",
              "      <td>4.0</td>\n",
              "      <td>307.0</td>\n",
              "      <td>21.0</td>\n",
              "      <td>390.95</td>\n",
              "      <td>11.28</td>\n",
              "      <td>18.2</td>\n",
              "    </tr>\n",
              "  </tbody>\n",
              "</table>\n",
              "</div>\n",
              "      <button class=\"colab-df-convert\" onclick=\"convertToInteractive('df-d3051472-0d5b-4b1f-87e2-eb06961a1a7f')\"\n",
              "              title=\"Convert this dataframe to an interactive table.\"\n",
              "              style=\"display:none;\">\n",
              "        \n",
              "  <svg xmlns=\"http://www.w3.org/2000/svg\" height=\"24px\"viewBox=\"0 0 24 24\"\n",
              "       width=\"24px\">\n",
              "    <path d=\"M0 0h24v24H0V0z\" fill=\"none\"/>\n",
              "    <path d=\"M18.56 5.44l.94 2.06.94-2.06 2.06-.94-2.06-.94-.94-2.06-.94 2.06-2.06.94zm-11 1L8.5 8.5l.94-2.06 2.06-.94-2.06-.94L8.5 2.5l-.94 2.06-2.06.94zm10 10l.94 2.06.94-2.06 2.06-.94-2.06-.94-.94-2.06-.94 2.06-2.06.94z\"/><path d=\"M17.41 7.96l-1.37-1.37c-.4-.4-.92-.59-1.43-.59-.52 0-1.04.2-1.43.59L10.3 9.45l-7.72 7.72c-.78.78-.78 2.05 0 2.83L4 21.41c.39.39.9.59 1.41.59.51 0 1.02-.2 1.41-.59l7.78-7.78 2.81-2.81c.8-.78.8-2.07 0-2.86zM5.41 20L4 18.59l7.72-7.72 1.47 1.35L5.41 20z\"/>\n",
              "  </svg>\n",
              "      </button>\n",
              "      \n",
              "  <style>\n",
              "    .colab-df-container {\n",
              "      display:flex;\n",
              "      flex-wrap:wrap;\n",
              "      gap: 12px;\n",
              "    }\n",
              "\n",
              "    .colab-df-convert {\n",
              "      background-color: #E8F0FE;\n",
              "      border: none;\n",
              "      border-radius: 50%;\n",
              "      cursor: pointer;\n",
              "      display: none;\n",
              "      fill: #1967D2;\n",
              "      height: 32px;\n",
              "      padding: 0 0 0 0;\n",
              "      width: 32px;\n",
              "    }\n",
              "\n",
              "    .colab-df-convert:hover {\n",
              "      background-color: #E2EBFA;\n",
              "      box-shadow: 0px 1px 2px rgba(60, 64, 67, 0.3), 0px 1px 3px 1px rgba(60, 64, 67, 0.15);\n",
              "      fill: #174EA6;\n",
              "    }\n",
              "\n",
              "    [theme=dark] .colab-df-convert {\n",
              "      background-color: #3B4455;\n",
              "      fill: #D2E3FC;\n",
              "    }\n",
              "\n",
              "    [theme=dark] .colab-df-convert:hover {\n",
              "      background-color: #434B5C;\n",
              "      box-shadow: 0px 1px 3px 1px rgba(0, 0, 0, 0.15);\n",
              "      filter: drop-shadow(0px 1px 2px rgba(0, 0, 0, 0.3));\n",
              "      fill: #FFFFFF;\n",
              "    }\n",
              "  </style>\n",
              "\n",
              "      <script>\n",
              "        const buttonEl =\n",
              "          document.querySelector('#df-d3051472-0d5b-4b1f-87e2-eb06961a1a7f button.colab-df-convert');\n",
              "        buttonEl.style.display =\n",
              "          google.colab.kernel.accessAllowed ? 'block' : 'none';\n",
              "\n",
              "        async function convertToInteractive(key) {\n",
              "          const element = document.querySelector('#df-d3051472-0d5b-4b1f-87e2-eb06961a1a7f');\n",
              "          const dataTable =\n",
              "            await google.colab.kernel.invokeFunction('convertToInteractive',\n",
              "                                                     [key], {});\n",
              "          if (!dataTable) return;\n",
              "\n",
              "          const docLinkHtml = 'Like what you see? Visit the ' +\n",
              "            '<a target=\"_blank\" href=https://colab.research.google.com/notebooks/data_table.ipynb>data table notebook</a>'\n",
              "            + ' to learn more about interactive tables.';\n",
              "          element.innerHTML = '';\n",
              "          dataTable['output_type'] = 'display_data';\n",
              "          await google.colab.output.renderOutput(dataTable, element);\n",
              "          const docLink = document.createElement('div');\n",
              "          docLink.innerHTML = docLinkHtml;\n",
              "          element.appendChild(docLink);\n",
              "        }\n",
              "      </script>\n",
              "    </div>\n",
              "  </div>\n",
              "  "
            ]
          },
          "metadata": {},
          "execution_count": 23
        }
      ]
    },
    {
      "cell_type": "markdown",
      "source": [
        "#Separating Input Features and Output Features\n",
        "Before building any machine learning model, we always separate the input variables and output variables.\n",
        "\n",
        "**Input Variables or Independent Variables** are those quantities whose values are changed naturally in an experiment\n",
        "\n",
        "**Output Variable or Dependent Variable** is the one whose values are dependent on the input variables.\n",
        "\n",
        "Like here in this data, we are trying to predict the price of a houce i.e. 'MEDV', so this is our Output Variable\n",
        "\n",
        "By convention input variables are represented with 'X' and output variables are represented with 'y'."
      ],
      "metadata": {
        "id": "YqHKH_uJ2o9y"
      }
    },
    {
      "cell_type": "code",
      "source": [
        "# Input Variables/features\n",
        "X = boston_data.drop('MEDV', axis = 1) \n",
        "\n",
        "# output variables/features\n",
        "y = boston_data.MEDV      "
      ],
      "metadata": {
        "id": "_opRdo682eY6"
      },
      "execution_count": null,
      "outputs": []
    },
    {
      "cell_type": "code",
      "source": [
        "# import train_test_split\n",
        "from sklearn.model_selection import train_test_split \n",
        "\n",
        "# Assign variables to capture train test split output\n",
        "X_train, X_test, y_train, y_test = train_test_split(X, y, test_size=0.2, random_state=42)\n",
        "\n",
        "# X_train: independent/input feature data for training the model\n",
        "# y_train: dependent/output feature data for training the model\n",
        "# X_test: independent/input feature data for testing the model; will be used to predict the output values\n",
        "# y_test: original dependent/output values of X_test; We will compare this values with our predicted values to check the performance of our built model.\n",
        " \n",
        "# test_size = 0.20: 20% of the data will go for test set and 70% of the data will go for train set\n",
        "# random_state = 42: this will fix the split i.e. there will be same split for each time you run the code"
      ],
      "metadata": {
        "id": "8bwNFBmr3Jnu"
      },
      "execution_count": null,
      "outputs": []
    },
    {
      "cell_type": "code",
      "source": [
        "# find the number of input features/columns\n",
        "n_features = X.shape[1]\n",
        "print(n_features)"
      ],
      "metadata": {
        "colab": {
          "base_uri": "https://localhost:8080/"
        },
        "id": "YSP4CKFd38w_",
        "outputId": "5ad1b161-08ac-4e72-e502-8d0d6952bb8f"
      },
      "execution_count": null,
      "outputs": [
        {
          "output_type": "stream",
          "name": "stdout",
          "text": [
            "13\n"
          ]
        }
      ]
    },
    {
      "cell_type": "markdown",
      "source": [
        "## The 5 Step Model Life-Cycle\n",
        "\n",
        "A model has a life-cycle, and this very simple knowledge provides the backbone for both modeling a dataset and understanding the tf.keras API.\n",
        "\n",
        "The five steps in the life-cycle are as follows:\n",
        "\n",
        "1. Define the model.\n",
        "2. Compile the model.\n",
        "3. Fit the model.\n",
        "4. Make predictions on the test data.\n",
        "5. Evaluate the model."
      ],
      "metadata": {
        "id": "ZffvFL619ypK"
      }
    },
    {
      "cell_type": "markdown",
      "source": [
        "## Stage 1: Define model"
      ],
      "metadata": {
        "id": "_fj7NRTtGR-V"
      }
    },
    {
      "cell_type": "code",
      "source": [
        "#Stage 1\n",
        "import tensorflow\n",
        "from tensorflow.keras import Sequential    # import Sequential from tensorflow.keras\n",
        "from tensorflow.keras.layers import Dense  # import Dense from tensorflow.keras.layers\n",
        "from numpy.random import seed     # seed helps you to fix the randomness in the neural network. "
      ],
      "metadata": {
        "id": "QsXc19ps4Ewk"
      },
      "execution_count": null,
      "outputs": []
    },
    {
      "cell_type": "markdown",
      "source": [
        "Note that the visible layer of the network is defined by the “input_shape” argument on the first hidden layer. \n",
        "\n",
        "The sequential API is easy to use because you keep calling model.add() until you have added all of your layers.\n",
        "\n",
        "The activation function we have chosen is **ReLU**, which stands for **rectified linear unit**. Activation function decides, whether a neuron should be activated or not\n",
        "\n",
        "ReLU is an activation function which is defined mathematically as **F(x) = max(0,x)**. In other words, the output is x, if x is greater than 0, and the output is 0 if x is 0 or negative."
      ],
      "metadata": {
        "id": "39gtFseV_LbM"
      }
    },
    {
      "cell_type": "code",
      "source": [
        "#defining the model using Sequential API\n",
        "model = Sequential()\n",
        "model.add(Dense(10, activation='relu', input_shape=(n_features,)))\n",
        "model.add(Dense(8, activation='relu'))\n",
        "model.add(Dense(1))"
      ],
      "metadata": {
        "id": "6J-_FlXT-o1B"
      },
      "execution_count": null,
      "outputs": []
    },
    {
      "cell_type": "code",
      "source": [
        "#the number of parameters will depend on the input being given\n",
        "#Usually we add 1 to the initial parameters. The total number will be num_inputs + 1 (for bias)\n",
        "model.summary() # Ths shows how many layers are in the network which in this case it is 3"
      ],
      "metadata": {
        "colab": {
          "base_uri": "https://localhost:8080/"
        },
        "id": "aJq6E1J_-xYG",
        "outputId": "4571e7bc-1a25-4344-c7ed-8e5040063f5b"
      },
      "execution_count": null,
      "outputs": [
        {
          "output_type": "stream",
          "name": "stdout",
          "text": [
            "Model: \"sequential_1\"\n",
            "_________________________________________________________________\n",
            " Layer (type)                Output Shape              Param #   \n",
            "=================================================================\n",
            " dense_3 (Dense)             (None, 10)                140       \n",
            "                                                                 \n",
            " dense_4 (Dense)             (None, 8)                 88        \n",
            "                                                                 \n",
            " dense_5 (Dense)             (None, 1)                 9         \n",
            "                                                                 \n",
            "=================================================================\n",
            "Total params: 237\n",
            "Trainable params: 237\n",
            "Non-trainable params: 0\n",
            "_________________________________________________________________\n"
          ]
        }
      ]
    },
    {
      "cell_type": "markdown",
      "source": [
        "## Stage 2: Compile model"
      ],
      "metadata": {
        "id": "7gwRsY1UGIMu"
      }
    },
    {
      "cell_type": "code",
      "source": [
        "# import RMSprop optimizer\n",
        "from tensorflow.keras.optimizers import RMSprop\n",
        "optimizer = RMSprop(0.01)    # 0.01 is the learning rate"
      ],
      "metadata": {
        "id": "GWpFexFbA8vw"
      },
      "execution_count": null,
      "outputs": []
    },
    {
      "cell_type": "code",
      "source": [
        "#compile the model\n",
        "model.compile(loss='mean_squared_error',optimizer=optimizer)  #optimizer optimizes the cost function we are trying to  "
      ],
      "metadata": {
        "id": "d3Je8Qr7Ckvi"
      },
      "execution_count": null,
      "outputs": []
    },
    {
      "cell_type": "markdown",
      "source": [
        "## Stage 3: Fitting the model"
      ],
      "metadata": {
        "id": "QdOq5K4AGfXo"
      }
    },
    {
      "cell_type": "code",
      "source": [
        "# If you build the model with given parameters, set_random_seed will help you produce the same result on multiple execution in different environment and computers\n",
        "seed_value = 42\n",
        "seed(seed_value)        \n",
        "\n",
        "# Recommended by Keras -------------------------------------------------------------------------------------\n",
        "# 1. Set `PYTHONHASHSEED` environment variable at a fixed value\n",
        "import os\n",
        "os.environ['PYTHONHASHSEED']=str(seed_value)\n",
        "\n",
        "# 2. Set `python` built-in pseudo-random generator at a fixed value\n",
        "import random\n",
        "random.seed(seed_value)\n",
        "\n",
        "# 3. Set `numpy` pseudo-random generator at a fixed value\n",
        "import numpy as np\n",
        "np.random.seed(seed_value)\n",
        "# Recommended by Keras -------------------------------------------------------------------------------------\n",
        "\n",
        "\n",
        "# 4. Set the `tensorflow` pseudo-random generator at a fixed value\n",
        "tensorflow.random.set_seed(seed_value) \n",
        "\n",
        "# fit the model\n",
        "model.fit(X_train, y_train, epochs=10, batch_size=30, verbose = 1)   "
      ],
      "metadata": {
        "colab": {
          "base_uri": "https://localhost:8080/"
        },
        "id": "ksGXBymcDJr4",
        "outputId": "d1a04c48-9d7c-4989-da61-192bc23414aa"
      },
      "execution_count": null,
      "outputs": [
        {
          "output_type": "stream",
          "name": "stdout",
          "text": [
            "Epoch 1/10\n",
            "11/11 [==============================] - 1s 2ms/step - loss: 3424.8242\n",
            "Epoch 2/10\n",
            "11/11 [==============================] - 0s 2ms/step - loss: 175.0317\n",
            "Epoch 3/10\n",
            "11/11 [==============================] - 0s 2ms/step - loss: 166.0611\n",
            "Epoch 4/10\n",
            "11/11 [==============================] - 0s 4ms/step - loss: 174.9950\n",
            "Epoch 5/10\n",
            "11/11 [==============================] - 0s 2ms/step - loss: 101.8014\n",
            "Epoch 6/10\n",
            "11/11 [==============================] - 0s 2ms/step - loss: 192.2434\n",
            "Epoch 7/10\n",
            "11/11 [==============================] - 0s 3ms/step - loss: 116.4220\n",
            "Epoch 8/10\n",
            "11/11 [==============================] - 0s 3ms/step - loss: 128.7858\n",
            "Epoch 9/10\n",
            "11/11 [==============================] - 0s 3ms/step - loss: 127.7807\n",
            "Epoch 10/10\n",
            "11/11 [==============================] - 0s 3ms/step - loss: 115.8690\n"
          ]
        },
        {
          "output_type": "execute_result",
          "data": {
            "text/plain": [
              "<keras.callbacks.History at 0x7f459f8f16d0>"
            ]
          },
          "metadata": {},
          "execution_count": 32
        }
      ]
    },
    {
      "cell_type": "markdown",
      "source": [
        "## Stage 4: Evaluate the model"
      ],
      "metadata": {
        "id": "Zg9tJVGmJoak"
      }
    },
    {
      "cell_type": "code",
      "source": [
        "#evaluate() does this task automatically. If you want to get the prediciton for X_test you can do model.predict(X_test)\n",
        "model.evaluate(X_test, y_test)"
      ],
      "metadata": {
        "colab": {
          "base_uri": "https://localhost:8080/"
        },
        "id": "6-VzB_JWGAVm",
        "outputId": "f389fb22-ab29-42e5-ec96-7be3bde20213"
      },
      "execution_count": null,
      "outputs": [
        {
          "output_type": "stream",
          "name": "stdout",
          "text": [
            "3/3 [==============================] - 0s 4ms/step - loss: 59.6878\n"
          ]
        },
        {
          "output_type": "execute_result",
          "data": {
            "text/plain": [
              "59.687782287597656"
            ]
          },
          "metadata": {},
          "execution_count": 33
        }
      ]
    },
    {
      "cell_type": "code",
      "source": [
        "#model.predict(X_test)"
      ],
      "metadata": {
        "id": "R6TohEiyJxfu"
      },
      "execution_count": null,
      "outputs": []
    },
    {
      "cell_type": "markdown",
      "source": [
        "Defining plot function that plots the values of the loss function with respect to the number of epochs that it takes throughout the dataset. It is expected that after each epoch, the loss should decrease and move towards its minimum value. "
      ],
      "metadata": {
        "id": "oOOYMzi1M1w_"
      }
    },
    {
      "cell_type": "code",
      "source": [
        "def loss_curve (epochs, rmse) :\n",
        "  plt.figure()\n",
        "  plt.xlabel(\"Epoch\")\n",
        "  plt.ylabel(\"Root Mean Squared Error\")\n",
        "  \n",
        "  plt.plot(epochs, rmse, label=\"Loss\")\n",
        "  plt.legend()\n",
        "  plt.show()\n"
      ],
      "metadata": {
        "id": "SQmD0hQ_KYgk"
      },
      "execution_count": null,
      "outputs": []
    },
    {
      "cell_type": "markdown",
      "source": [
        "#### Hyperparameter Tunning\n",
        "The hyperparameters here in this notebook are:\n",
        "1. Learning Rate\n",
        "2. Epochs\n",
        "3. Batch Size\n",
        "\n",
        "We can try and change the values of these parameters and see the performance  of the model (evaluate the model) on X_test data"
      ],
      "metadata": {
        "id": "rBA0BX9jQLM6"
      }
    },
    {
      "cell_type": "markdown",
      "source": [
        "**1. Learning Rate**\n",
        "\n",
        "A scalar used to train a model via gradient descent. During each iteration, the **gradient descent** algorithm multiplies the learning rate by the gradient. The resulting product is called the **gradient step**.\n",
        "\n",
        "Learning rate is a key **hyperparameter**."
      ],
      "metadata": {
        "id": "qju7GN3-QTRo"
      }
    },
    {
      "cell_type": "code",
      "source": [
        "####################### Complete example to check the performance of the model with different learning rates #######################################\n",
        "# define the model\n",
        "model = Sequential()\n",
        "model.add(Dense(10, activation='relu', input_shape=(n_features,)))\n",
        "model.add(Dense(8, activation='relu'))\n",
        "model.add(Dense(1))\n",
        "\n",
        "optimizer = RMSprop(0.1)    # 0.1 is the learning rate\n",
        "\n",
        "# compile the model\n",
        "model.compile(loss='mean_squared_error',optimizer=optimizer)    \n",
        "\n",
        "# fit the model \n",
        "history= model.fit(X_train, y_train, epochs=10, batch_size=30, verbose = 1)\n",
        "\n",
        "# evaluate the model\n",
        "print('The MSE value is: ', model.evaluate(X_test, y_test))"
      ],
      "metadata": {
        "id": "CJPMUNEXQYqy",
        "colab": {
          "base_uri": "https://localhost:8080/"
        },
        "outputId": "025bdf5d-8f2e-44f4-bb65-2e728de804dc"
      },
      "execution_count": null,
      "outputs": [
        {
          "output_type": "stream",
          "name": "stdout",
          "text": [
            "Epoch 1/10\n",
            "11/11 [==============================] - 1s 2ms/step - loss: 9724.5732\n",
            "Epoch 2/10\n",
            "11/11 [==============================] - 0s 2ms/step - loss: 582.0069\n",
            "Epoch 3/10\n",
            "11/11 [==============================] - 0s 2ms/step - loss: 555.8216\n",
            "Epoch 4/10\n",
            "11/11 [==============================] - 0s 2ms/step - loss: 521.9397\n",
            "Epoch 5/10\n",
            "11/11 [==============================] - 0s 3ms/step - loss: 483.8689\n",
            "Epoch 6/10\n",
            "11/11 [==============================] - 0s 2ms/step - loss: 444.7491\n",
            "Epoch 7/10\n",
            "11/11 [==============================] - 0s 2ms/step - loss: 406.9054\n",
            "Epoch 8/10\n",
            "11/11 [==============================] - 0s 2ms/step - loss: 371.2612\n",
            "Epoch 9/10\n",
            "11/11 [==============================] - 0s 2ms/step - loss: 337.6587\n",
            "Epoch 10/10\n",
            "11/11 [==============================] - 0s 2ms/step - loss: 306.2268\n",
            "3/3 [==============================] - 0s 4ms/step - loss: 271.3605\n",
            "The MSE value is:  271.36053466796875\n"
          ]
        }
      ]
    },
    {
      "cell_type": "code",
      "source": [
        "loss_curve(history.epoch, history.history['loss'])"
      ],
      "metadata": {
        "id": "FWulA7vmQhn6",
        "colab": {
          "base_uri": "https://localhost:8080/",
          "height": 279
        },
        "outputId": "952d380e-c134-4a32-9958-fb2f552020ec"
      },
      "execution_count": null,
      "outputs": [
        {
          "output_type": "display_data",
          "data": {
            "text/plain": [
              "<Figure size 432x288 with 1 Axes>"
            ],
            "image/png": "[encoded data removed]"
          },
          "metadata": {
            "needs_background": "light"
          }
        }
      ]
    },
    {
      "cell_type": "markdown",
      "source": [
        "Experimenting with different hyperparameters"
      ],
      "metadata": {
        "id": "EwRpY-noTj4r"
      }
    },
    {
      "cell_type": "code",
      "source": [
        "# Play with learning rate\n",
        "learning_rate = 0.01         # Replace ? with a floating-point number(decimal no.)\n",
        "epochs = 20\n",
        "optimizer = RMSprop(learning_rate)\n",
        "\n",
        "# Compile the model\n",
        "model.compile(loss='mean_squared_error',optimizer=optimizer)\n",
        "# Fit the model   \n",
        "history= model.fit(X_train, y_train, epochs=epochs, batch_size=30)\n",
        "# Evaluate the model       \n",
        "model.evaluate(X_test, y_test)                                  "
      ],
      "metadata": {
        "colab": {
          "base_uri": "https://localhost:8080/"
        },
        "id": "Vln0YzvQTA25",
        "outputId": "4cbbfb45-a2d8-445f-94a0-a45171818e8e"
      },
      "execution_count": null,
      "outputs": [
        {
          "output_type": "stream",
          "name": "stdout",
          "text": [
            "Epoch 1/20\n",
            "11/11 [==============================] - 1s 2ms/step - loss: 90.8898\n",
            "Epoch 2/20\n",
            "11/11 [==============================] - 0s 2ms/step - loss: 90.8540\n",
            "Epoch 3/20\n",
            "11/11 [==============================] - 0s 2ms/step - loss: 90.8485\n",
            "Epoch 4/20\n",
            "11/11 [==============================] - 0s 2ms/step - loss: 90.8579\n",
            "Epoch 5/20\n",
            "11/11 [==============================] - 0s 2ms/step - loss: 90.8422\n",
            "Epoch 6/20\n",
            "11/11 [==============================] - 0s 2ms/step - loss: 90.8477\n",
            "Epoch 7/20\n",
            "11/11 [==============================] - 0s 2ms/step - loss: 90.8532\n",
            "Epoch 8/20\n",
            "11/11 [==============================] - 0s 2ms/step - loss: 90.8501\n",
            "Epoch 9/20\n",
            "11/11 [==============================] - 0s 2ms/step - loss: 90.8486\n",
            "Epoch 10/20\n",
            "11/11 [==============================] - 0s 2ms/step - loss: 90.8441\n",
            "Epoch 11/20\n",
            "11/11 [==============================] - 0s 2ms/step - loss: 90.8443\n",
            "Epoch 12/20\n",
            "11/11 [==============================] - 0s 3ms/step - loss: 90.8433\n",
            "Epoch 13/20\n",
            "11/11 [==============================] - 0s 2ms/step - loss: 90.8549\n",
            "Epoch 14/20\n",
            "11/11 [==============================] - 0s 3ms/step - loss: 90.8633\n",
            "Epoch 15/20\n",
            "11/11 [==============================] - 0s 2ms/step - loss: 90.8405\n",
            "Epoch 16/20\n",
            "11/11 [==============================] - 0s 2ms/step - loss: 90.8438\n",
            "Epoch 17/20\n",
            "11/11 [==============================] - 0s 2ms/step - loss: 90.8451\n",
            "Epoch 18/20\n",
            "11/11 [==============================] - 0s 2ms/step - loss: 90.8381\n",
            "Epoch 19/20\n",
            "11/11 [==============================] - 0s 2ms/step - loss: 90.8446\n",
            "Epoch 20/20\n",
            "11/11 [==============================] - 0s 3ms/step - loss: 90.8406\n",
            "3/3 [==============================] - 0s 4ms/step - loss: 71.1074\n"
          ]
        },
        {
          "output_type": "execute_result",
          "data": {
            "text/plain": [
              "71.10740661621094"
            ]
          },
          "metadata": {},
          "execution_count": 45
        }
      ]
    },
    {
      "cell_type": "code",
      "source": [
        "loss_curve(history.epoch, history.history['loss'])"
      ],
      "metadata": {
        "colab": {
          "base_uri": "https://localhost:8080/",
          "height": 279
        },
        "id": "8D9jhb5EURtB",
        "outputId": "3a7c0e9b-2610-43f9-fbce-16ba3dfd7a59"
      },
      "execution_count": null,
      "outputs": [
        {
          "output_type": "display_data",
          "data": {
            "text/plain": [
              "<Figure size 432x288 with 1 Axes>"
            ],
            "image/png": "[encoded data removed]"
          },
          "metadata": {
            "needs_background": "light"
          }
        }
      ]
    },
    {
      "cell_type": "markdown",
      "source": [
        "**2. Epochs**\n",
        "\n",
        "A full training pass over the entire dataset such that each example has been seen once. Thus, an epoch represents N/batch size training iterations, where N is the total number of examples."
      ],
      "metadata": {
        "id": "pwmzKjbKWHYT"
      }
    },
    {
      "cell_type": "code",
      "source": [],
      "metadata": {
        "id": "_zUNXfFIUsaM"
      },
      "execution_count": null,
      "outputs": []
    },
    {
      "cell_type": "code",
      "metadata": {
        "id": "zlZv50iKZPqo",
        "colab": {
          "base_uri": "https://localhost:8080/"
        },
        "outputId": "4d52df40-f5fb-4544-8acb-74ea1b5d9140"
      },
      "source": [
        "####################### Complete example to check the performance of the model with different epochs and learning rate = 0.01 #######################################\n",
        "# define the model\n",
        "model = Sequential()\n",
        "model.add(Dense(10, activation='relu', input_shape=(n_features,)))\n",
        "model.add(Dense(8, activation='relu'))\n",
        "model.add(Dense(1))\n",
        "\n",
        "optimizer = RMSprop(0.01)    # 0.01 is the learning rate\n",
        "model.compile(loss='mean_squared_error',optimizer=optimizer)    # Compile the model\n",
        "\n",
        "# fit the model \n",
        "history= model.fit(X_train, y_train, epochs=100, batch_size=30, verbose = 1)\n",
        "\n",
        "# evaluate the model\n",
        "print('The MSE value is: ', model.evaluate(X_test, y_test))"
      ],
      "execution_count": null,
      "outputs": [
        {
          "output_type": "stream",
          "name": "stdout",
          "text": [
            "Epoch 1/100\n",
            "11/11 [==============================] - 2s 6ms/step - loss: 161.8351\n",
            "Epoch 2/100\n",
            "11/11 [==============================] - 0s 3ms/step - loss: 100.0030\n",
            "Epoch 3/100\n",
            "11/11 [==============================] - 0s 4ms/step - loss: 94.0145\n",
            "Epoch 4/100\n",
            "11/11 [==============================] - 0s 4ms/step - loss: 96.2322\n",
            "Epoch 5/100\n",
            "11/11 [==============================] - 0s 4ms/step - loss: 82.7633\n",
            "Epoch 6/100\n",
            "11/11 [==============================] - 0s 4ms/step - loss: 85.2960\n",
            "Epoch 7/100\n",
            "11/11 [==============================] - 0s 3ms/step - loss: 77.2067\n",
            "Epoch 8/100\n",
            "11/11 [==============================] - 0s 3ms/step - loss: 79.4949\n",
            "Epoch 9/100\n",
            "11/11 [==============================] - 0s 3ms/step - loss: 72.0021\n",
            "Epoch 10/100\n",
            "11/11 [==============================] - 0s 3ms/step - loss: 82.1729\n",
            "Epoch 11/100\n",
            "11/11 [==============================] - 0s 4ms/step - loss: 76.3034\n",
            "Epoch 12/100\n",
            "11/11 [==============================] - 0s 3ms/step - loss: 78.0465\n",
            "Epoch 13/100\n",
            "11/11 [==============================] - 0s 4ms/step - loss: 62.5396\n",
            "Epoch 14/100\n",
            "11/11 [==============================] - 0s 3ms/step - loss: 83.2742\n",
            "Epoch 15/100\n",
            "11/11 [==============================] - 0s 3ms/step - loss: 71.6941\n",
            "Epoch 16/100\n",
            "11/11 [==============================] - 0s 3ms/step - loss: 71.9628\n",
            "Epoch 17/100\n",
            "11/11 [==============================] - 0s 3ms/step - loss: 65.8450\n",
            "Epoch 18/100\n",
            "11/11 [==============================] - 0s 4ms/step - loss: 62.1882\n",
            "Epoch 19/100\n",
            "11/11 [==============================] - 0s 4ms/step - loss: 75.0767\n",
            "Epoch 20/100\n",
            "11/11 [==============================] - 0s 3ms/step - loss: 60.0802\n",
            "Epoch 21/100\n",
            "11/11 [==============================] - 0s 3ms/step - loss: 62.5278\n",
            "Epoch 22/100\n",
            "11/11 [==============================] - 0s 3ms/step - loss: 62.6292\n",
            "Epoch 23/100\n",
            "11/11 [==============================] - 0s 3ms/step - loss: 63.9471\n",
            "Epoch 24/100\n",
            "11/11 [==============================] - 0s 3ms/step - loss: 56.9596\n",
            "Epoch 25/100\n",
            "11/11 [==============================] - 0s 2ms/step - loss: 72.4340\n",
            "Epoch 26/100\n",
            "11/11 [==============================] - 0s 2ms/step - loss: 59.7870\n",
            "Epoch 27/100\n",
            "11/11 [==============================] - 0s 2ms/step - loss: 52.6143\n",
            "Epoch 28/100\n",
            "11/11 [==============================] - 0s 2ms/step - loss: 68.9086\n",
            "Epoch 29/100\n",
            "11/11 [==============================] - 0s 2ms/step - loss: 48.1196\n",
            "Epoch 30/100\n",
            "11/11 [==============================] - 0s 2ms/step - loss: 63.4503\n",
            "Epoch 31/100\n",
            "11/11 [==============================] - 0s 2ms/step - loss: 48.7145\n",
            "Epoch 32/100\n",
            "11/11 [==============================] - 0s 2ms/step - loss: 52.5793\n",
            "Epoch 33/100\n",
            "11/11 [==============================] - 0s 2ms/step - loss: 60.1147\n",
            "Epoch 34/100\n",
            "11/11 [==============================] - 0s 3ms/step - loss: 52.2919\n",
            "Epoch 35/100\n",
            "11/11 [==============================] - 0s 2ms/step - loss: 52.2788\n",
            "Epoch 36/100\n",
            "11/11 [==============================] - 0s 2ms/step - loss: 56.6338\n",
            "Epoch 37/100\n",
            "11/11 [==============================] - 0s 2ms/step - loss: 56.3518\n",
            "Epoch 38/100\n",
            "11/11 [==============================] - 0s 2ms/step - loss: 49.6188\n",
            "Epoch 39/100\n",
            "11/11 [==============================] - 0s 2ms/step - loss: 55.5130\n",
            "Epoch 40/100\n",
            "11/11 [==============================] - 0s 2ms/step - loss: 49.0908\n",
            "Epoch 41/100\n",
            "11/11 [==============================] - 0s 2ms/step - loss: 55.3448\n",
            "Epoch 42/100\n",
            "11/11 [==============================] - 0s 2ms/step - loss: 47.9953\n",
            "Epoch 43/100\n",
            "11/11 [==============================] - 0s 2ms/step - loss: 45.8296\n",
            "Epoch 44/100\n",
            "11/11 [==============================] - 0s 3ms/step - loss: 48.5430\n",
            "Epoch 45/100\n",
            "11/11 [==============================] - 0s 2ms/step - loss: 52.1971\n",
            "Epoch 46/100\n",
            "11/11 [==============================] - 0s 2ms/step - loss: 41.6977\n",
            "Epoch 47/100\n",
            "11/11 [==============================] - 0s 2ms/step - loss: 55.0542\n",
            "Epoch 48/100\n",
            "11/11 [==============================] - 0s 2ms/step - loss: 43.8132\n",
            "Epoch 49/100\n",
            "11/11 [==============================] - 0s 2ms/step - loss: 47.4501\n",
            "Epoch 50/100\n",
            "11/11 [==============================] - 0s 2ms/step - loss: 47.7042\n",
            "Epoch 51/100\n",
            "11/11 [==============================] - 0s 2ms/step - loss: 48.9116\n",
            "Epoch 52/100\n",
            "11/11 [==============================] - 0s 2ms/step - loss: 45.7810\n",
            "Epoch 53/100\n",
            "11/11 [==============================] - 0s 3ms/step - loss: 45.6683\n",
            "Epoch 54/100\n",
            "11/11 [==============================] - 0s 2ms/step - loss: 38.9678\n",
            "Epoch 55/100\n",
            "11/11 [==============================] - 0s 2ms/step - loss: 46.8774\n",
            "Epoch 56/100\n",
            "11/11 [==============================] - 0s 2ms/step - loss: 45.1381\n",
            "Epoch 57/100\n",
            "11/11 [==============================] - 0s 4ms/step - loss: 46.3940\n",
            "Epoch 58/100\n",
            "11/11 [==============================] - 0s 3ms/step - loss: 40.0752\n",
            "Epoch 59/100\n",
            "11/11 [==============================] - 0s 2ms/step - loss: 44.8255\n",
            "Epoch 60/100\n",
            "11/11 [==============================] - 0s 2ms/step - loss: 42.3100\n",
            "Epoch 61/100\n",
            "11/11 [==============================] - 0s 2ms/step - loss: 42.1892\n",
            "Epoch 62/100\n",
            "11/11 [==============================] - 0s 2ms/step - loss: 36.9869\n",
            "Epoch 63/100\n",
            "11/11 [==============================] - 0s 2ms/step - loss: 41.8553\n",
            "Epoch 64/100\n",
            "11/11 [==============================] - 0s 2ms/step - loss: 41.8107\n",
            "Epoch 65/100\n",
            "11/11 [==============================] - 0s 2ms/step - loss: 38.9159\n",
            "Epoch 66/100\n",
            "11/11 [==============================] - 0s 2ms/step - loss: 42.5254\n",
            "Epoch 67/100\n",
            "11/11 [==============================] - 0s 2ms/step - loss: 37.3213\n",
            "Epoch 68/100\n",
            "11/11 [==============================] - 0s 2ms/step - loss: 35.2102\n",
            "Epoch 69/100\n",
            "11/11 [==============================] - 0s 2ms/step - loss: 37.6390\n",
            "Epoch 70/100\n",
            "11/11 [==============================] - 0s 2ms/step - loss: 42.6782\n",
            "Epoch 71/100\n",
            "11/11 [==============================] - 0s 3ms/step - loss: 38.7371\n",
            "Epoch 72/100\n",
            "11/11 [==============================] - 0s 2ms/step - loss: 38.1407\n",
            "Epoch 73/100\n",
            "11/11 [==============================] - 0s 2ms/step - loss: 37.0906\n",
            "Epoch 74/100\n",
            "11/11 [==============================] - 0s 2ms/step - loss: 38.7924\n",
            "Epoch 75/100\n",
            "11/11 [==============================] - 0s 2ms/step - loss: 35.6969\n",
            "Epoch 76/100\n",
            "11/11 [==============================] - 0s 2ms/step - loss: 37.8733\n",
            "Epoch 77/100\n",
            "11/11 [==============================] - 0s 2ms/step - loss: 36.5952\n",
            "Epoch 78/100\n",
            "11/11 [==============================] - 0s 2ms/step - loss: 34.7920\n",
            "Epoch 79/100\n",
            "11/11 [==============================] - 0s 3ms/step - loss: 37.9516\n",
            "Epoch 80/100\n",
            "11/11 [==============================] - 0s 2ms/step - loss: 34.9200\n",
            "Epoch 81/100\n",
            "11/11 [==============================] - 0s 2ms/step - loss: 35.8763\n",
            "Epoch 82/100\n",
            "11/11 [==============================] - 0s 2ms/step - loss: 28.0560\n",
            "Epoch 83/100\n",
            "11/11 [==============================] - 0s 2ms/step - loss: 39.5643\n",
            "Epoch 84/100\n",
            "11/11 [==============================] - 0s 2ms/step - loss: 41.5478\n",
            "Epoch 85/100\n",
            "11/11 [==============================] - 0s 2ms/step - loss: 30.4084\n",
            "Epoch 86/100\n",
            "11/11 [==============================] - 0s 3ms/step - loss: 32.7119\n",
            "Epoch 87/100\n",
            "11/11 [==============================] - 0s 2ms/step - loss: 41.2305\n",
            "Epoch 88/100\n",
            "11/11 [==============================] - 0s 2ms/step - loss: 27.8972\n",
            "Epoch 89/100\n",
            "11/11 [==============================] - 0s 2ms/step - loss: 41.8266\n",
            "Epoch 90/100\n",
            "11/11 [==============================] - 0s 2ms/step - loss: 31.6400\n",
            "Epoch 91/100\n",
            "11/11 [==============================] - 0s 2ms/step - loss: 34.7460\n",
            "Epoch 92/100\n",
            "11/11 [==============================] - 0s 2ms/step - loss: 37.2100\n",
            "Epoch 93/100\n",
            "11/11 [==============================] - 0s 2ms/step - loss: 28.8307\n",
            "Epoch 94/100\n",
            "11/11 [==============================] - 0s 2ms/step - loss: 32.5918\n",
            "Epoch 95/100\n",
            "11/11 [==============================] - 0s 2ms/step - loss: 35.3478\n",
            "Epoch 96/100\n",
            "11/11 [==============================] - 0s 2ms/step - loss: 28.9939\n",
            "Epoch 97/100\n",
            "11/11 [==============================] - 0s 2ms/step - loss: 34.5419\n",
            "Epoch 98/100\n",
            "11/11 [==============================] - 0s 2ms/step - loss: 34.5026\n",
            "Epoch 99/100\n",
            "11/11 [==============================] - 0s 2ms/step - loss: 30.9425\n",
            "Epoch 100/100\n",
            "11/11 [==============================] - 0s 2ms/step - loss: 35.7406\n",
            "3/3 [==============================] - 0s 4ms/step - loss: 36.2738\n",
            "The MSE value is:  36.27375030517578\n"
          ]
        }
      ]
    },
    {
      "cell_type": "code",
      "source": [
        "loss_curve(history.epoch, history.history['loss'])"
      ],
      "metadata": {
        "colab": {
          "base_uri": "https://localhost:8080/",
          "height": 279
        },
        "id": "kh5qzhmAWdTi",
        "outputId": "e54bf4ec-e110-4dae-f4ca-e425262fa597"
      },
      "execution_count": null,
      "outputs": [
        {
          "output_type": "display_data",
          "data": {
            "text/plain": [
              "<Figure size 432x288 with 1 Axes>"
            ],
            "image/png": "[encoded data removed]"
          },
          "metadata": {
            "needs_background": "light"
          }
        }
      ]
    },
    {
      "cell_type": "code",
      "source": [
        "# Play with epochs\n",
        "learning_rate = 0.01         \n",
        "epochs = 150            # Replace ? with an integer\n",
        "optimizer = RMSprop(learning_rate)\n",
        "\n",
        "# Compile the model\n",
        "model.compile(loss='mean_squared_error',optimizer=optimizer)\n",
        "\n",
        "# Fit the model    \n",
        "made= model.fit(X_train, y_train, epochs=epochs, batch_size=30)\n",
        "\n",
        "# Evaluate the model       \n",
        "model.evaluate(X_test, y_test)                                 "
      ],
      "metadata": {
        "colab": {
          "base_uri": "https://localhost:8080/"
        },
        "id": "gwywr1ETXxN_",
        "outputId": "e738e3c8-df1b-42cc-d3fd-85c484dcaa95"
      },
      "execution_count": null,
      "outputs": [
        {
          "output_type": "stream",
          "name": "stdout",
          "text": [
            "Epoch 1/150\n",
            "11/11 [==============================] - 1s 2ms/step - loss: 49.8512\n",
            "Epoch 2/150\n",
            "11/11 [==============================] - 0s 2ms/step - loss: 34.6838\n",
            "Epoch 3/150\n",
            "11/11 [==============================] - 0s 2ms/step - loss: 33.4178\n",
            "Epoch 4/150\n",
            "11/11 [==============================] - 0s 2ms/step - loss: 32.7962\n",
            "Epoch 5/150\n",
            "11/11 [==============================] - 0s 2ms/step - loss: 25.6983\n",
            "Epoch 6/150\n",
            "11/11 [==============================] - 0s 2ms/step - loss: 32.3421\n",
            "Epoch 7/150\n",
            "11/11 [==============================] - 0s 2ms/step - loss: 28.4828\n",
            "Epoch 8/150\n",
            "11/11 [==============================] - 0s 2ms/step - loss: 27.3685\n",
            "Epoch 9/150\n",
            "11/11 [==============================] - 0s 2ms/step - loss: 29.6202\n",
            "Epoch 10/150\n",
            "11/11 [==============================] - 0s 2ms/step - loss: 28.2392\n",
            "Epoch 11/150\n",
            "11/11 [==============================] - 0s 2ms/step - loss: 31.3120\n",
            "Epoch 12/150\n",
            "11/11 [==============================] - 0s 2ms/step - loss: 34.8738\n",
            "Epoch 13/150\n",
            "11/11 [==============================] - 0s 2ms/step - loss: 26.3859\n",
            "Epoch 14/150\n",
            "11/11 [==============================] - 0s 2ms/step - loss: 24.7666\n",
            "Epoch 15/150\n",
            "11/11 [==============================] - 0s 2ms/step - loss: 33.8002\n",
            "Epoch 16/150\n",
            "11/11 [==============================] - 0s 2ms/step - loss: 27.7494\n",
            "Epoch 17/150\n",
            "11/11 [==============================] - 0s 2ms/step - loss: 32.4447\n",
            "Epoch 18/150\n",
            "11/11 [==============================] - 0s 2ms/step - loss: 24.3187\n",
            "Epoch 19/150\n",
            "11/11 [==============================] - 0s 2ms/step - loss: 31.0884\n",
            "Epoch 20/150\n",
            "11/11 [==============================] - 0s 2ms/step - loss: 31.5506\n",
            "Epoch 21/150\n",
            "11/11 [==============================] - 0s 2ms/step - loss: 23.5631\n",
            "Epoch 22/150\n",
            "11/11 [==============================] - 0s 2ms/step - loss: 26.1398\n",
            "Epoch 23/150\n",
            "11/11 [==============================] - 0s 2ms/step - loss: 35.3598\n",
            "Epoch 24/150\n",
            "11/11 [==============================] - 0s 2ms/step - loss: 23.1676\n",
            "Epoch 25/150\n",
            "11/11 [==============================] - 0s 2ms/step - loss: 27.1932\n",
            "Epoch 26/150\n",
            "11/11 [==============================] - 0s 2ms/step - loss: 25.6169\n",
            "Epoch 27/150\n",
            "11/11 [==============================] - 0s 2ms/step - loss: 29.2539\n",
            "Epoch 28/150\n",
            "11/11 [==============================] - 0s 3ms/step - loss: 35.1913\n",
            "Epoch 29/150\n",
            "11/11 [==============================] - 0s 2ms/step - loss: 23.7832\n",
            "Epoch 30/150\n",
            "11/11 [==============================] - 0s 2ms/step - loss: 30.7683\n",
            "Epoch 31/150\n",
            "11/11 [==============================] - 0s 2ms/step - loss: 24.2087\n",
            "Epoch 32/150\n",
            "11/11 [==============================] - 0s 2ms/step - loss: 26.3466\n",
            "Epoch 33/150\n",
            "11/11 [==============================] - 0s 2ms/step - loss: 30.0892\n",
            "Epoch 34/150\n",
            "11/11 [==============================] - 0s 2ms/step - loss: 21.5091\n",
            "Epoch 35/150\n",
            "11/11 [==============================] - 0s 2ms/step - loss: 32.9369\n",
            "Epoch 36/150\n",
            "11/11 [==============================] - 0s 2ms/step - loss: 30.2329\n",
            "Epoch 37/150\n",
            "11/11 [==============================] - 0s 3ms/step - loss: 25.7773\n",
            "Epoch 38/150\n",
            "11/11 [==============================] - 0s 2ms/step - loss: 23.8328\n",
            "Epoch 39/150\n",
            "11/11 [==============================] - 0s 2ms/step - loss: 23.4066\n",
            "Epoch 40/150\n",
            "11/11 [==============================] - 0s 2ms/step - loss: 26.4559\n",
            "Epoch 41/150\n",
            "11/11 [==============================] - 0s 2ms/step - loss: 24.5514\n",
            "Epoch 42/150\n",
            "11/11 [==============================] - 0s 2ms/step - loss: 26.8973\n",
            "Epoch 43/150\n",
            "11/11 [==============================] - 0s 3ms/step - loss: 23.8642\n",
            "Epoch 44/150\n",
            "11/11 [==============================] - 0s 2ms/step - loss: 23.7800\n",
            "Epoch 45/150\n",
            "11/11 [==============================] - 0s 2ms/step - loss: 23.6950\n",
            "Epoch 46/150\n",
            "11/11 [==============================] - 0s 2ms/step - loss: 27.9571\n",
            "Epoch 47/150\n",
            "11/11 [==============================] - 0s 2ms/step - loss: 34.3885\n",
            "Epoch 48/150\n",
            "11/11 [==============================] - 0s 2ms/step - loss: 22.9700\n",
            "Epoch 49/150\n",
            "11/11 [==============================] - 0s 2ms/step - loss: 31.9648\n",
            "Epoch 50/150\n",
            "11/11 [==============================] - 0s 2ms/step - loss: 24.3617\n",
            "Epoch 51/150\n",
            "11/11 [==============================] - 0s 2ms/step - loss: 31.7158\n",
            "Epoch 52/150\n",
            "11/11 [==============================] - 0s 2ms/step - loss: 21.6332\n",
            "Epoch 53/150\n",
            "11/11 [==============================] - 0s 2ms/step - loss: 27.3144\n",
            "Epoch 54/150\n",
            "11/11 [==============================] - 0s 2ms/step - loss: 22.6964\n",
            "Epoch 55/150\n",
            "11/11 [==============================] - 0s 2ms/step - loss: 29.6369\n",
            "Epoch 56/150\n",
            "11/11 [==============================] - 0s 2ms/step - loss: 29.9577\n",
            "Epoch 57/150\n",
            "11/11 [==============================] - 0s 2ms/step - loss: 23.9951\n",
            "Epoch 58/150\n",
            "11/11 [==============================] - 0s 3ms/step - loss: 25.3205\n",
            "Epoch 59/150\n",
            "11/11 [==============================] - 0s 2ms/step - loss: 27.7170\n",
            "Epoch 60/150\n",
            "11/11 [==============================] - 0s 2ms/step - loss: 30.5839\n",
            "Epoch 61/150\n",
            "11/11 [==============================] - 0s 2ms/step - loss: 25.9638\n",
            "Epoch 62/150\n",
            "11/11 [==============================] - 0s 2ms/step - loss: 23.1576\n",
            "Epoch 63/150\n",
            "11/11 [==============================] - 0s 2ms/step - loss: 23.5863\n",
            "Epoch 64/150\n",
            "11/11 [==============================] - 0s 2ms/step - loss: 31.3955\n",
            "Epoch 65/150\n",
            "11/11 [==============================] - 0s 2ms/step - loss: 25.0401\n",
            "Epoch 66/150\n",
            "11/11 [==============================] - 0s 2ms/step - loss: 29.2050\n",
            "Epoch 67/150\n",
            "11/11 [==============================] - 0s 2ms/step - loss: 19.4313\n",
            "Epoch 68/150\n",
            "11/11 [==============================] - 0s 2ms/step - loss: 24.5646\n",
            "Epoch 69/150\n",
            "11/11 [==============================] - 0s 2ms/step - loss: 20.9761\n",
            "Epoch 70/150\n",
            "11/11 [==============================] - 0s 2ms/step - loss: 29.4921\n",
            "Epoch 71/150\n",
            "11/11 [==============================] - 0s 3ms/step - loss: 24.6416\n",
            "Epoch 72/150\n",
            "11/11 [==============================] - 0s 2ms/step - loss: 24.7543\n",
            "Epoch 73/150\n",
            "11/11 [==============================] - 0s 2ms/step - loss: 26.4875\n",
            "Epoch 74/150\n",
            "11/11 [==============================] - 0s 2ms/step - loss: 26.9319\n",
            "Epoch 75/150\n",
            "11/11 [==============================] - 0s 2ms/step - loss: 19.6039\n",
            "Epoch 76/150\n",
            "11/11 [==============================] - 0s 2ms/step - loss: 34.3825\n",
            "Epoch 77/150\n",
            "11/11 [==============================] - 0s 3ms/step - loss: 21.9461\n",
            "Epoch 78/150\n",
            "11/11 [==============================] - 0s 2ms/step - loss: 28.9716\n",
            "Epoch 79/150\n",
            "11/11 [==============================] - 0s 2ms/step - loss: 23.8797\n",
            "Epoch 80/150\n",
            "11/11 [==============================] - 0s 2ms/step - loss: 22.7966\n",
            "Epoch 81/150\n",
            "11/11 [==============================] - 0s 2ms/step - loss: 27.0526\n",
            "Epoch 82/150\n",
            "11/11 [==============================] - 0s 2ms/step - loss: 23.3873\n",
            "Epoch 83/150\n",
            "11/11 [==============================] - 0s 2ms/step - loss: 22.5948\n",
            "Epoch 84/150\n",
            "11/11 [==============================] - 0s 2ms/step - loss: 28.9176\n",
            "Epoch 85/150\n",
            "11/11 [==============================] - 0s 2ms/step - loss: 21.6880\n",
            "Epoch 86/150\n",
            "11/11 [==============================] - 0s 2ms/step - loss: 22.5245\n",
            "Epoch 87/150\n",
            "11/11 [==============================] - 0s 2ms/step - loss: 25.4567\n",
            "Epoch 88/150\n",
            "11/11 [==============================] - 0s 2ms/step - loss: 24.0973\n",
            "Epoch 89/150\n",
            "11/11 [==============================] - 0s 2ms/step - loss: 28.5858\n",
            "Epoch 90/150\n",
            "11/11 [==============================] - 0s 3ms/step - loss: 21.5720\n",
            "Epoch 91/150\n",
            "11/11 [==============================] - 0s 2ms/step - loss: 19.3316\n",
            "Epoch 92/150\n",
            "11/11 [==============================] - 0s 2ms/step - loss: 33.1998\n",
            "Epoch 93/150\n",
            "11/11 [==============================] - 0s 2ms/step - loss: 20.7229\n",
            "Epoch 94/150\n",
            "11/11 [==============================] - 0s 3ms/step - loss: 24.7320\n",
            "Epoch 95/150\n",
            "11/11 [==============================] - 0s 2ms/step - loss: 30.6541\n",
            "Epoch 96/150\n",
            "11/11 [==============================] - 0s 2ms/step - loss: 19.6314\n",
            "Epoch 97/150\n",
            "11/11 [==============================] - 0s 2ms/step - loss: 26.8290\n",
            "Epoch 98/150\n",
            "11/11 [==============================] - 0s 2ms/step - loss: 32.1149\n",
            "Epoch 99/150\n",
            "11/11 [==============================] - 0s 2ms/step - loss: 20.0249\n",
            "Epoch 100/150\n",
            "11/11 [==============================] - 0s 2ms/step - loss: 26.5812\n",
            "Epoch 101/150\n",
            "11/11 [==============================] - 0s 2ms/step - loss: 27.2726\n",
            "Epoch 102/150\n",
            "11/11 [==============================] - 0s 2ms/step - loss: 23.8353\n",
            "Epoch 103/150\n",
            "11/11 [==============================] - 0s 2ms/step - loss: 21.1980\n",
            "Epoch 104/150\n",
            "11/11 [==============================] - 0s 2ms/step - loss: 24.8027\n",
            "Epoch 105/150\n",
            "11/11 [==============================] - 0s 2ms/step - loss: 22.9904\n",
            "Epoch 106/150\n",
            "11/11 [==============================] - 0s 2ms/step - loss: 21.9712\n",
            "Epoch 107/150\n",
            "11/11 [==============================] - 0s 2ms/step - loss: 22.6052\n",
            "Epoch 108/150\n",
            "11/11 [==============================] - 0s 2ms/step - loss: 23.9799\n",
            "Epoch 109/150\n",
            "11/11 [==============================] - 0s 2ms/step - loss: 32.3066\n",
            "Epoch 110/150\n",
            "11/11 [==============================] - 0s 2ms/step - loss: 19.1335\n",
            "Epoch 111/150\n",
            "11/11 [==============================] - 0s 2ms/step - loss: 24.3472\n",
            "Epoch 112/150\n",
            "11/11 [==============================] - 0s 2ms/step - loss: 29.9882\n",
            "Epoch 113/150\n",
            "11/11 [==============================] - 0s 2ms/step - loss: 20.1992\n",
            "Epoch 114/150\n",
            "11/11 [==============================] - 0s 2ms/step - loss: 21.3422\n",
            "Epoch 115/150\n",
            "11/11 [==============================] - 0s 2ms/step - loss: 27.7220\n",
            "Epoch 116/150\n",
            "11/11 [==============================] - 0s 3ms/step - loss: 19.3290\n",
            "Epoch 117/150\n",
            "11/11 [==============================] - 0s 2ms/step - loss: 30.5053\n",
            "Epoch 118/150\n",
            "11/11 [==============================] - 0s 2ms/step - loss: 22.4130\n",
            "Epoch 119/150\n",
            "11/11 [==============================] - 0s 2ms/step - loss: 22.1264\n",
            "Epoch 120/150\n",
            "11/11 [==============================] - 0s 2ms/step - loss: 23.2422\n",
            "Epoch 121/150\n",
            "11/11 [==============================] - 0s 3ms/step - loss: 25.4027\n",
            "Epoch 122/150\n",
            "11/11 [==============================] - 0s 2ms/step - loss: 26.5314\n",
            "Epoch 123/150\n",
            "11/11 [==============================] - 0s 2ms/step - loss: 23.3933\n",
            "Epoch 124/150\n",
            "11/11 [==============================] - 0s 2ms/step - loss: 27.0102\n",
            "Epoch 125/150\n",
            "11/11 [==============================] - 0s 2ms/step - loss: 20.3508\n",
            "Epoch 126/150\n",
            "11/11 [==============================] - 0s 2ms/step - loss: 28.6727\n",
            "Epoch 127/150\n",
            "11/11 [==============================] - 0s 3ms/step - loss: 20.9456\n",
            "Epoch 128/150\n",
            "11/11 [==============================] - 0s 2ms/step - loss: 22.5360\n",
            "Epoch 129/150\n",
            "11/11 [==============================] - 0s 2ms/step - loss: 33.4086\n",
            "Epoch 130/150\n",
            "11/11 [==============================] - 0s 2ms/step - loss: 19.3698\n",
            "Epoch 131/150\n",
            "11/11 [==============================] - 0s 2ms/step - loss: 20.9155\n",
            "Epoch 132/150\n",
            "11/11 [==============================] - 0s 2ms/step - loss: 29.7788\n",
            "Epoch 133/150\n",
            "11/11 [==============================] - 0s 2ms/step - loss: 25.3962\n",
            "Epoch 134/150\n",
            "11/11 [==============================] - 0s 2ms/step - loss: 27.3020\n",
            "Epoch 135/150\n",
            "11/11 [==============================] - 0s 3ms/step - loss: 23.6375\n",
            "Epoch 136/150\n",
            "11/11 [==============================] - 0s 2ms/step - loss: 21.9636\n",
            "Epoch 137/150\n",
            "11/11 [==============================] - 0s 2ms/step - loss: 17.7699\n",
            "Epoch 138/150\n",
            "11/11 [==============================] - 0s 3ms/step - loss: 21.5837\n",
            "Epoch 139/150\n",
            "11/11 [==============================] - 0s 2ms/step - loss: 24.0816\n",
            "Epoch 140/150\n",
            "11/11 [==============================] - 0s 2ms/step - loss: 21.4729\n",
            "Epoch 141/150\n",
            "11/11 [==============================] - 0s 2ms/step - loss: 25.6834\n",
            "Epoch 142/150\n",
            "11/11 [==============================] - 0s 2ms/step - loss: 23.5789\n",
            "Epoch 143/150\n",
            "11/11 [==============================] - 0s 2ms/step - loss: 23.6020\n",
            "Epoch 144/150\n",
            "11/11 [==============================] - 0s 2ms/step - loss: 20.7450\n",
            "Epoch 145/150\n",
            "11/11 [==============================] - 0s 2ms/step - loss: 22.6183\n",
            "Epoch 146/150\n",
            "11/11 [==============================] - 0s 3ms/step - loss: 22.7444\n",
            "Epoch 147/150\n",
            "11/11 [==============================] - 0s 3ms/step - loss: 26.1177\n",
            "Epoch 148/150\n",
            "11/11 [==============================] - 0s 2ms/step - loss: 20.7874\n",
            "Epoch 149/150\n",
            "11/11 [==============================] - 0s 2ms/step - loss: 22.3717\n",
            "Epoch 150/150\n",
            "11/11 [==============================] - 0s 3ms/step - loss: 21.6847\n",
            "3/3 [==============================] - 0s 4ms/step - loss: 20.1914\n"
          ]
        },
        {
          "output_type": "execute_result",
          "data": {
            "text/plain": [
              "20.191438674926758"
            ]
          },
          "metadata": {},
          "execution_count": 56
        }
      ]
    },
    {
      "cell_type": "code",
      "source": [
        "loss_curve(made.epoch, made.history['loss'])"
      ],
      "metadata": {
        "colab": {
          "base_uri": "https://localhost:8080/",
          "height": 279
        },
        "id": "BlVtzkfdY9RH",
        "outputId": "de1e147a-a1cf-491a-acd7-10180c7cddcd"
      },
      "execution_count": null,
      "outputs": [
        {
          "output_type": "display_data",
          "data": {
            "text/plain": [
              "<Figure size 432x288 with 1 Axes>"
            ],
            "image/png": "[encoded data removed]"
          },
          "metadata": {
            "needs_background": "light"
          }
        }
      ]
    },
    {
      "cell_type": "code",
      "source": [
        "# play with learning rate and epochs\n",
        "learning_rate = 0.04        # Replace ? with a floating-point number\n",
        "epochs = 200            # Replace ? with an integer\n",
        "optimizer = RMSprop(learning_rate)\n",
        "model.compile(loss='mean_squared_error',optimizer=optimizer)    # Compile the model\n",
        "model.fit(X_train, y_train, epochs=epochs, batch_size=30)       # Fit the model\n",
        "model.evaluate(X_test, y_test)                                  # Evaluate the model"
      ],
      "metadata": {
        "colab": {
          "base_uri": "https://localhost:8080/"
        },
        "id": "InFB1_GBZJFy",
        "outputId": "017c36ea-0272-4f36-b188-3a64e6ff5130"
      },
      "execution_count": null,
      "outputs": [
        {
          "output_type": "stream",
          "name": "stdout",
          "text": [
            "Epoch 1/200\n",
            "11/11 [==============================] - 1s 2ms/step - loss: 141.5827\n",
            "Epoch 2/200\n",
            "11/11 [==============================] - 0s 2ms/step - loss: 82.6857\n",
            "Epoch 3/200\n",
            "11/11 [==============================] - 0s 2ms/step - loss: 109.2159\n",
            "Epoch 4/200\n",
            "11/11 [==============================] - 0s 2ms/step - loss: 74.8626\n",
            "Epoch 5/200\n",
            "11/11 [==============================] - 0s 3ms/step - loss: 74.7834\n",
            "Epoch 6/200\n",
            "11/11 [==============================] - 0s 2ms/step - loss: 73.2370\n",
            "Epoch 7/200\n",
            "11/11 [==============================] - 0s 2ms/step - loss: 62.0344\n",
            "Epoch 8/200\n",
            "11/11 [==============================] - 0s 2ms/step - loss: 75.0673\n",
            "Epoch 9/200\n",
            "11/11 [==============================] - 0s 2ms/step - loss: 128.2327\n",
            "Epoch 10/200\n",
            "11/11 [==============================] - 0s 2ms/step - loss: 53.6820\n",
            "Epoch 11/200\n",
            "11/11 [==============================] - 0s 2ms/step - loss: 52.9867\n",
            "Epoch 12/200\n",
            "11/11 [==============================] - 0s 2ms/step - loss: 78.5163\n",
            "Epoch 13/200\n",
            "11/11 [==============================] - 0s 2ms/step - loss: 55.3537\n",
            "Epoch 14/200\n",
            "11/11 [==============================] - 0s 2ms/step - loss: 243.2077\n",
            "Epoch 15/200\n",
            "11/11 [==============================] - 0s 2ms/step - loss: 38.8595\n",
            "Epoch 16/200\n",
            "11/11 [==============================] - 0s 2ms/step - loss: 58.2815\n",
            "Epoch 17/200\n",
            "11/11 [==============================] - 0s 2ms/step - loss: 46.3752\n",
            "Epoch 18/200\n",
            "11/11 [==============================] - 0s 2ms/step - loss: 96.6809\n",
            "Epoch 19/200\n",
            "11/11 [==============================] - 0s 2ms/step - loss: 72.2564\n",
            "Epoch 20/200\n",
            "11/11 [==============================] - 0s 3ms/step - loss: 92.4657\n",
            "Epoch 21/200\n",
            "11/11 [==============================] - 0s 2ms/step - loss: 92.3877\n",
            "Epoch 22/200\n",
            "11/11 [==============================] - 0s 3ms/step - loss: 90.7149\n",
            "Epoch 23/200\n",
            "11/11 [==============================] - 0s 3ms/step - loss: 93.8912\n",
            "Epoch 24/200\n",
            "11/11 [==============================] - 0s 2ms/step - loss: 93.1048\n",
            "Epoch 25/200\n",
            "11/11 [==============================] - 0s 2ms/step - loss: 91.1317\n",
            "Epoch 26/200\n",
            "11/11 [==============================] - 0s 2ms/step - loss: 91.5385\n",
            "Epoch 27/200\n",
            "11/11 [==============================] - 0s 2ms/step - loss: 91.3763\n",
            "Epoch 28/200\n",
            "11/11 [==============================] - 0s 3ms/step - loss: 93.1922\n",
            "Epoch 29/200\n",
            "11/11 [==============================] - 0s 3ms/step - loss: 92.0214\n",
            "Epoch 30/200\n",
            "11/11 [==============================] - 0s 2ms/step - loss: 92.2638\n",
            "Epoch 31/200\n",
            "11/11 [==============================] - 0s 2ms/step - loss: 91.1435\n",
            "Epoch 32/200\n",
            "11/11 [==============================] - 0s 2ms/step - loss: 91.9075\n",
            "Epoch 33/200\n",
            "11/11 [==============================] - 0s 2ms/step - loss: 92.0294\n",
            "Epoch 34/200\n",
            "11/11 [==============================] - 0s 2ms/step - loss: 91.8213\n",
            "Epoch 35/200\n",
            "11/11 [==============================] - 0s 2ms/step - loss: 92.7481\n",
            "Epoch 36/200\n",
            "11/11 [==============================] - 0s 2ms/step - loss: 91.8036\n",
            "Epoch 37/200\n",
            "11/11 [==============================] - 0s 2ms/step - loss: 91.8825\n",
            "Epoch 38/200\n",
            "11/11 [==============================] - 0s 2ms/step - loss: 91.3460\n",
            "Epoch 39/200\n",
            "11/11 [==============================] - 0s 2ms/step - loss: 92.1202\n",
            "Epoch 40/200\n",
            "11/11 [==============================] - 0s 2ms/step - loss: 91.3706\n",
            "Epoch 41/200\n",
            "11/11 [==============================] - 0s 2ms/step - loss: 90.9528\n",
            "Epoch 42/200\n",
            "11/11 [==============================] - 0s 2ms/step - loss: 91.2346\n",
            "Epoch 43/200\n",
            "11/11 [==============================] - 0s 2ms/step - loss: 91.5190\n",
            "Epoch 44/200\n",
            "11/11 [==============================] - 0s 2ms/step - loss: 91.7527\n",
            "Epoch 45/200\n",
            "11/11 [==============================] - 0s 2ms/step - loss: 92.1790\n",
            "Epoch 46/200\n",
            "11/11 [==============================] - 0s 2ms/step - loss: 91.7715\n",
            "Epoch 47/200\n",
            "11/11 [==============================] - 0s 2ms/step - loss: 92.0074\n",
            "Epoch 48/200\n",
            "11/11 [==============================] - 0s 2ms/step - loss: 91.6789\n",
            "Epoch 49/200\n",
            "11/11 [==============================] - 0s 2ms/step - loss: 91.8245\n",
            "Epoch 50/200\n",
            "11/11 [==============================] - 0s 2ms/step - loss: 92.2193\n",
            "Epoch 51/200\n",
            "11/11 [==============================] - 0s 3ms/step - loss: 93.1909\n",
            "Epoch 52/200\n",
            "11/11 [==============================] - 0s 2ms/step - loss: 91.5044\n",
            "Epoch 53/200\n",
            "11/11 [==============================] - 0s 2ms/step - loss: 91.4146\n",
            "Epoch 54/200\n",
            "11/11 [==============================] - 0s 2ms/step - loss: 91.3225\n",
            "Epoch 55/200\n",
            "11/11 [==============================] - 0s 2ms/step - loss: 91.8786\n",
            "Epoch 56/200\n",
            "11/11 [==============================] - 0s 2ms/step - loss: 91.8633\n",
            "Epoch 57/200\n",
            "11/11 [==============================] - 0s 2ms/step - loss: 92.4460\n",
            "Epoch 58/200\n",
            "11/11 [==============================] - 0s 2ms/step - loss: 91.9958\n",
            "Epoch 59/200\n",
            "11/11 [==============================] - 0s 2ms/step - loss: 92.4403\n",
            "Epoch 60/200\n",
            "11/11 [==============================] - 0s 2ms/step - loss: 91.2598\n",
            "Epoch 61/200\n",
            "11/11 [==============================] - 0s 2ms/step - loss: 92.0444\n",
            "Epoch 62/200\n",
            "11/11 [==============================] - 0s 2ms/step - loss: 91.8524\n",
            "Epoch 63/200\n",
            "11/11 [==============================] - 0s 2ms/step - loss: 91.7335\n",
            "Epoch 64/200\n",
            "11/11 [==============================] - 0s 2ms/step - loss: 91.4914\n",
            "Epoch 65/200\n",
            "11/11 [==============================] - 0s 2ms/step - loss: 91.2020\n",
            "Epoch 66/200\n",
            "11/11 [==============================] - 0s 2ms/step - loss: 92.3132\n",
            "Epoch 67/200\n",
            "11/11 [==============================] - 0s 2ms/step - loss: 91.9798\n",
            "Epoch 68/200\n",
            "11/11 [==============================] - 0s 2ms/step - loss: 90.9520\n",
            "Epoch 69/200\n",
            "11/11 [==============================] - 0s 2ms/step - loss: 91.0613\n",
            "Epoch 70/200\n",
            "11/11 [==============================] - 0s 2ms/step - loss: 91.4711\n",
            "Epoch 71/200\n",
            "11/11 [==============================] - 0s 2ms/step - loss: 92.2909\n",
            "Epoch 72/200\n",
            "11/11 [==============================] - 0s 2ms/step - loss: 92.3148\n",
            "Epoch 73/200\n",
            "11/11 [==============================] - 0s 2ms/step - loss: 92.3097\n",
            "Epoch 74/200\n",
            "11/11 [==============================] - 0s 2ms/step - loss: 92.2372\n",
            "Epoch 75/200\n",
            "11/11 [==============================] - 0s 2ms/step - loss: 91.6985\n",
            "Epoch 76/200\n",
            "11/11 [==============================] - 0s 2ms/step - loss: 91.5631\n",
            "Epoch 77/200\n",
            "11/11 [==============================] - 0s 2ms/step - loss: 92.5689\n",
            "Epoch 78/200\n",
            "11/11 [==============================] - 0s 2ms/step - loss: 91.8535\n",
            "Epoch 79/200\n",
            "11/11 [==============================] - 0s 2ms/step - loss: 92.1429\n",
            "Epoch 80/200\n",
            "11/11 [==============================] - 0s 2ms/step - loss: 91.2443\n",
            "Epoch 81/200\n",
            "11/11 [==============================] - 0s 2ms/step - loss: 92.2351\n",
            "Epoch 82/200\n",
            "11/11 [==============================] - 0s 2ms/step - loss: 91.2929\n",
            "Epoch 83/200\n",
            "11/11 [==============================] - 0s 3ms/step - loss: 91.8431\n",
            "Epoch 84/200\n",
            "11/11 [==============================] - 0s 2ms/step - loss: 92.1708\n",
            "Epoch 85/200\n",
            "11/11 [==============================] - 0s 2ms/step - loss: 91.7528\n",
            "Epoch 86/200\n",
            "11/11 [==============================] - 0s 2ms/step - loss: 91.6292\n",
            "Epoch 87/200\n",
            "11/11 [==============================] - 0s 2ms/step - loss: 91.1774\n",
            "Epoch 88/200\n",
            "11/11 [==============================] - 0s 4ms/step - loss: 91.3308\n",
            "Epoch 89/200\n",
            "11/11 [==============================] - 0s 2ms/step - loss: 91.5695\n",
            "Epoch 90/200\n",
            "11/11 [==============================] - 0s 2ms/step - loss: 91.8285\n",
            "Epoch 91/200\n",
            "11/11 [==============================] - 0s 2ms/step - loss: 92.0971\n",
            "Epoch 92/200\n",
            "11/11 [==============================] - 0s 2ms/step - loss: 91.3925\n",
            "Epoch 93/200\n",
            "11/11 [==============================] - 0s 2ms/step - loss: 91.0661\n",
            "Epoch 94/200\n",
            "11/11 [==============================] - 0s 3ms/step - loss: 91.9222\n",
            "Epoch 95/200\n",
            "11/11 [==============================] - 0s 3ms/step - loss: 92.0800\n",
            "Epoch 96/200\n",
            "11/11 [==============================] - 0s 2ms/step - loss: 91.1631\n",
            "Epoch 97/200\n",
            "11/11 [==============================] - 0s 2ms/step - loss: 92.0345\n",
            "Epoch 98/200\n",
            "11/11 [==============================] - 0s 2ms/step - loss: 91.0129\n",
            "Epoch 99/200\n",
            "11/11 [==============================] - 0s 3ms/step - loss: 92.2410\n",
            "Epoch 100/200\n",
            "11/11 [==============================] - 0s 2ms/step - loss: 91.6806\n",
            "Epoch 101/200\n",
            "11/11 [==============================] - 0s 2ms/step - loss: 92.3207\n",
            "Epoch 102/200\n",
            "11/11 [==============================] - 0s 2ms/step - loss: 91.6232\n",
            "Epoch 103/200\n",
            "11/11 [==============================] - 0s 2ms/step - loss: 91.8783\n",
            "Epoch 104/200\n",
            "11/11 [==============================] - 0s 2ms/step - loss: 91.5624\n",
            "Epoch 105/200\n",
            "11/11 [==============================] - 0s 2ms/step - loss: 91.6313\n",
            "Epoch 106/200\n",
            "11/11 [==============================] - 0s 2ms/step - loss: 91.1115\n",
            "Epoch 107/200\n",
            "11/11 [==============================] - 0s 2ms/step - loss: 90.7434\n",
            "Epoch 108/200\n",
            "11/11 [==============================] - 0s 2ms/step - loss: 91.4810\n",
            "Epoch 109/200\n",
            "11/11 [==============================] - 0s 2ms/step - loss: 92.3082\n",
            "Epoch 110/200\n",
            "11/11 [==============================] - 0s 2ms/step - loss: 92.1336\n",
            "Epoch 111/200\n",
            "11/11 [==============================] - 0s 2ms/step - loss: 91.7724\n",
            "Epoch 112/200\n",
            "11/11 [==============================] - 0s 2ms/step - loss: 91.7811\n",
            "Epoch 113/200\n",
            "11/11 [==============================] - 0s 2ms/step - loss: 91.8776\n",
            "Epoch 114/200\n",
            "11/11 [==============================] - 0s 3ms/step - loss: 91.4158\n",
            "Epoch 115/200\n",
            "11/11 [==============================] - 0s 3ms/step - loss: 91.9660\n",
            "Epoch 116/200\n",
            "11/11 [==============================] - 0s 2ms/step - loss: 91.2989\n",
            "Epoch 117/200\n",
            "11/11 [==============================] - 0s 2ms/step - loss: 92.0153\n",
            "Epoch 118/200\n",
            "11/11 [==============================] - 0s 2ms/step - loss: 91.9062\n",
            "Epoch 119/200\n",
            "11/11 [==============================] - 0s 2ms/step - loss: 91.2169\n",
            "Epoch 120/200\n",
            "11/11 [==============================] - 0s 2ms/step - loss: 92.3125\n",
            "Epoch 121/200\n",
            "11/11 [==============================] - 0s 2ms/step - loss: 91.3729\n",
            "Epoch 122/200\n",
            "11/11 [==============================] - 0s 2ms/step - loss: 91.3137\n",
            "Epoch 123/200\n",
            "11/11 [==============================] - 0s 2ms/step - loss: 90.5553\n",
            "Epoch 124/200\n",
            "11/11 [==============================] - 0s 2ms/step - loss: 91.9258\n",
            "Epoch 125/200\n",
            "11/11 [==============================] - 0s 2ms/step - loss: 92.0662\n",
            "Epoch 126/200\n",
            "11/11 [==============================] - 0s 2ms/step - loss: 92.0044\n",
            "Epoch 127/200\n",
            "11/11 [==============================] - 0s 2ms/step - loss: 92.1924\n",
            "Epoch 128/200\n",
            "11/11 [==============================] - 0s 2ms/step - loss: 91.7925\n",
            "Epoch 129/200\n",
            "11/11 [==============================] - 0s 2ms/step - loss: 92.3021\n",
            "Epoch 130/200\n",
            "11/11 [==============================] - 0s 2ms/step - loss: 91.5485\n",
            "Epoch 131/200\n",
            "11/11 [==============================] - 0s 2ms/step - loss: 91.4876\n",
            "Epoch 132/200\n",
            "11/11 [==============================] - 0s 2ms/step - loss: 91.9341\n",
            "Epoch 133/200\n",
            "11/11 [==============================] - 0s 2ms/step - loss: 91.2120\n",
            "Epoch 134/200\n",
            "11/11 [==============================] - 0s 2ms/step - loss: 92.1863\n",
            "Epoch 135/200\n",
            "11/11 [==============================] - 0s 2ms/step - loss: 92.1422\n",
            "Epoch 136/200\n",
            "11/11 [==============================] - 0s 2ms/step - loss: 91.6020\n",
            "Epoch 137/200\n",
            "11/11 [==============================] - 0s 2ms/step - loss: 91.5416\n",
            "Epoch 138/200\n",
            "11/11 [==============================] - 0s 2ms/step - loss: 91.9565\n",
            "Epoch 139/200\n",
            "11/11 [==============================] - 0s 2ms/step - loss: 91.3925\n",
            "Epoch 140/200\n",
            "11/11 [==============================] - 0s 2ms/step - loss: 91.1852\n",
            "Epoch 141/200\n",
            "11/11 [==============================] - 0s 2ms/step - loss: 91.6991\n",
            "Epoch 142/200\n",
            "11/11 [==============================] - 0s 2ms/step - loss: 92.1494\n",
            "Epoch 143/200\n",
            "11/11 [==============================] - 0s 2ms/step - loss: 91.5502\n",
            "Epoch 144/200\n",
            "11/11 [==============================] - 0s 2ms/step - loss: 91.2743\n",
            "Epoch 145/200\n",
            "11/11 [==============================] - 0s 2ms/step - loss: 91.6878\n",
            "Epoch 146/200\n",
            "11/11 [==============================] - 0s 3ms/step - loss: 92.2215\n",
            "Epoch 147/200\n",
            "11/11 [==============================] - 0s 2ms/step - loss: 91.3724\n",
            "Epoch 148/200\n",
            "11/11 [==============================] - 0s 3ms/step - loss: 91.4135\n",
            "Epoch 149/200\n",
            "11/11 [==============================] - 0s 2ms/step - loss: 91.6153\n",
            "Epoch 150/200\n",
            "11/11 [==============================] - 0s 2ms/step - loss: 92.2250\n",
            "Epoch 151/200\n",
            "11/11 [==============================] - 0s 2ms/step - loss: 92.3347\n",
            "Epoch 152/200\n",
            "11/11 [==============================] - 0s 2ms/step - loss: 91.0972\n",
            "Epoch 153/200\n",
            "11/11 [==============================] - 0s 2ms/step - loss: 90.9847\n",
            "Epoch 154/200\n",
            "11/11 [==============================] - 0s 3ms/step - loss: 92.1703\n",
            "Epoch 155/200\n",
            "11/11 [==============================] - 0s 2ms/step - loss: 92.1779\n",
            "Epoch 156/200\n",
            "11/11 [==============================] - 0s 2ms/step - loss: 91.8152\n",
            "Epoch 157/200\n",
            "11/11 [==============================] - 0s 2ms/step - loss: 91.1262\n",
            "Epoch 158/200\n",
            "11/11 [==============================] - 0s 3ms/step - loss: 92.1926\n",
            "Epoch 159/200\n",
            "11/11 [==============================] - 0s 2ms/step - loss: 91.3445\n",
            "Epoch 160/200\n",
            "11/11 [==============================] - 0s 3ms/step - loss: 91.2286\n",
            "Epoch 161/200\n",
            "11/11 [==============================] - 0s 3ms/step - loss: 91.7988\n",
            "Epoch 162/200\n",
            "11/11 [==============================] - 0s 2ms/step - loss: 91.5055\n",
            "Epoch 163/200\n",
            "11/11 [==============================] - 0s 2ms/step - loss: 91.2911\n",
            "Epoch 164/200\n",
            "11/11 [==============================] - 0s 3ms/step - loss: 91.7096\n",
            "Epoch 165/200\n",
            "11/11 [==============================] - 0s 2ms/step - loss: 91.9392\n",
            "Epoch 166/200\n",
            "11/11 [==============================] - 0s 2ms/step - loss: 91.9117\n",
            "Epoch 167/200\n",
            "11/11 [==============================] - 0s 2ms/step - loss: 91.4156\n",
            "Epoch 168/200\n",
            "11/11 [==============================] - 0s 4ms/step - loss: 92.8204\n",
            "Epoch 169/200\n",
            "11/11 [==============================] - 0s 3ms/step - loss: 91.3964\n",
            "Epoch 170/200\n",
            "11/11 [==============================] - 0s 3ms/step - loss: 92.7489\n",
            "Epoch 171/200\n",
            "11/11 [==============================] - 0s 3ms/step - loss: 91.9291\n",
            "Epoch 172/200\n",
            "11/11 [==============================] - 0s 3ms/step - loss: 91.2981\n",
            "Epoch 173/200\n",
            "11/11 [==============================] - 0s 3ms/step - loss: 92.1729\n",
            "Epoch 174/200\n",
            "11/11 [==============================] - 0s 3ms/step - loss: 91.3597\n",
            "Epoch 175/200\n",
            "11/11 [==============================] - 0s 3ms/step - loss: 91.6186\n",
            "Epoch 176/200\n",
            "11/11 [==============================] - 0s 4ms/step - loss: 90.9131\n",
            "Epoch 177/200\n",
            "11/11 [==============================] - 0s 3ms/step - loss: 92.3428\n",
            "Epoch 178/200\n",
            "11/11 [==============================] - 0s 3ms/step - loss: 91.5275\n",
            "Epoch 179/200\n",
            "11/11 [==============================] - 0s 3ms/step - loss: 91.6888\n",
            "Epoch 180/200\n",
            "11/11 [==============================] - 0s 2ms/step - loss: 92.4053\n",
            "Epoch 181/200\n",
            "11/11 [==============================] - 0s 2ms/step - loss: 91.3927\n",
            "Epoch 182/200\n",
            "11/11 [==============================] - 0s 2ms/step - loss: 91.4155\n",
            "Epoch 183/200\n",
            "11/11 [==============================] - 0s 2ms/step - loss: 91.3672\n",
            "Epoch 184/200\n",
            "11/11 [==============================] - 0s 3ms/step - loss: 91.8482\n",
            "Epoch 185/200\n",
            "11/11 [==============================] - 0s 2ms/step - loss: 91.9725\n",
            "Epoch 186/200\n",
            "11/11 [==============================] - 0s 2ms/step - loss: 92.2305\n",
            "Epoch 187/200\n",
            "11/11 [==============================] - 0s 2ms/step - loss: 91.6226\n",
            "Epoch 188/200\n",
            "11/11 [==============================] - 0s 2ms/step - loss: 91.5325\n",
            "Epoch 189/200\n",
            "11/11 [==============================] - 0s 2ms/step - loss: 91.5960\n",
            "Epoch 190/200\n",
            "11/11 [==============================] - 0s 2ms/step - loss: 91.4514\n",
            "Epoch 191/200\n",
            "11/11 [==============================] - 0s 2ms/step - loss: 91.4654\n",
            "Epoch 192/200\n",
            "11/11 [==============================] - 0s 2ms/step - loss: 91.0311\n",
            "Epoch 193/200\n",
            "11/11 [==============================] - 0s 2ms/step - loss: 91.4510\n",
            "Epoch 194/200\n",
            "11/11 [==============================] - 0s 2ms/step - loss: 91.6928\n",
            "Epoch 195/200\n",
            "11/11 [==============================] - 0s 2ms/step - loss: 89.9148\n",
            "Epoch 196/200\n",
            "11/11 [==============================] - 0s 2ms/step - loss: 92.8738\n",
            "Epoch 197/200\n",
            "11/11 [==============================] - 0s 2ms/step - loss: 91.7137\n",
            "Epoch 198/200\n",
            "11/11 [==============================] - 0s 2ms/step - loss: 91.6032\n",
            "Epoch 199/200\n",
            "11/11 [==============================] - 0s 2ms/step - loss: 91.1071\n",
            "Epoch 200/200\n",
            "11/11 [==============================] - 0s 2ms/step - loss: 91.3162\n",
            "3/3 [==============================] - 0s 3ms/step - loss: 73.1687\n"
          ]
        },
        {
          "output_type": "execute_result",
          "data": {
            "text/plain": [
              "73.1686782836914"
            ]
          },
          "metadata": {},
          "execution_count": 58
        },
        {
          "output_type": "stream",
          "name": "stdout",
          "text": [
            "Epoch 1/200\n",
            "11/11 [==============================] - 1s 2ms/step - loss: 92.6264\n",
            "Epoch 2/200\n",
            "11/11 [==============================] - 0s 2ms/step - loss: 91.6359\n",
            "Epoch 3/200\n",
            "11/11 [==============================] - 0s 2ms/step - loss: 91.5465\n",
            "Epoch 4/200\n",
            "11/11 [==============================] - 0s 2ms/step - loss: 92.2480\n",
            "Epoch 5/200\n",
            "11/11 [==============================] - 0s 2ms/step - loss: 90.9525\n",
            "Epoch 6/200\n",
            "11/11 [==============================] - 0s 2ms/step - loss: 91.7743\n",
            "Epoch 7/200\n",
            "11/11 [==============================] - 0s 2ms/step - loss: 91.6962\n",
            "Epoch 8/200\n",
            "11/11 [==============================] - 0s 2ms/step - loss: 91.5194\n",
            "Epoch 9/200\n",
            "11/11 [==============================] - 0s 2ms/step - loss: 91.8208\n",
            "Epoch 10/200\n",
            "11/11 [==============================] - 0s 3ms/step - loss: 91.4569\n",
            "Epoch 11/200\n",
            "11/11 [==============================] - 0s 3ms/step - loss: 91.3142\n",
            "Epoch 12/200\n",
            "11/11 [==============================] - 0s 3ms/step - loss: 91.2042\n",
            "Epoch 13/200\n",
            "11/11 [==============================] - 0s 2ms/step - loss: 91.9396\n",
            "Epoch 14/200\n",
            "11/11 [==============================] - 0s 2ms/step - loss: 92.3498\n",
            "Epoch 15/200\n",
            "11/11 [==============================] - 0s 2ms/step - loss: 91.6674\n",
            "Epoch 16/200\n",
            "11/11 [==============================] - 0s 3ms/step - loss: 91.4460\n",
            "Epoch 17/200\n",
            "11/11 [==============================] - 0s 2ms/step - loss: 91.6033\n",
            "Epoch 18/200\n",
            "11/11 [==============================] - 0s 2ms/step - loss: 91.2234\n",
            "Epoch 19/200\n",
            "11/11 [==============================] - 0s 2ms/step - loss: 91.8337\n",
            "Epoch 20/200\n",
            "11/11 [==============================] - 0s 2ms/step - loss: 91.4980\n",
            "Epoch 21/200\n",
            "11/11 [==============================] - 0s 2ms/step - loss: 91.6941\n",
            "Epoch 22/200\n",
            "11/11 [==============================] - 0s 2ms/step - loss: 90.9247\n",
            "Epoch 23/200\n",
            "11/11 [==============================] - 0s 3ms/step - loss: 91.6543\n",
            "Epoch 24/200\n",
            "11/11 [==============================] - 0s 2ms/step - loss: 91.3637\n",
            "Epoch 25/200\n",
            "11/11 [==============================] - 0s 2ms/step - loss: 91.2984\n",
            "Epoch 26/200\n",
            "11/11 [==============================] - 0s 2ms/step - loss: 91.6313\n",
            "Epoch 27/200\n",
            "11/11 [==============================] - 0s 2ms/step - loss: 91.3183\n",
            "Epoch 28/200\n",
            "11/11 [==============================] - 0s 2ms/step - loss: 92.7015\n",
            "Epoch 29/200\n",
            "11/11 [==============================] - 0s 2ms/step - loss: 91.7674\n",
            "Epoch 30/200\n",
            "11/11 [==============================] - 0s 2ms/step - loss: 91.9302\n",
            "Epoch 31/200\n",
            "11/11 [==============================] - 0s 2ms/step - loss: 91.0955\n",
            "Epoch 32/200\n",
            "11/11 [==============================] - 0s 2ms/step - loss: 91.6835\n",
            "Epoch 33/200\n",
            "11/11 [==============================] - 0s 2ms/step - loss: 91.7339\n",
            "Epoch 34/200\n",
            "11/11 [==============================] - 0s 2ms/step - loss: 91.5808\n",
            "Epoch 35/200\n",
            "11/11 [==============================] - 0s 2ms/step - loss: 92.2974\n",
            "Epoch 36/200\n",
            "11/11 [==============================] - 0s 2ms/step - loss: 91.5588\n",
            "Epoch 37/200\n",
            "11/11 [==============================] - 0s 2ms/step - loss: 91.5895\n",
            "Epoch 38/200\n",
            "11/11 [==============================] - 0s 2ms/step - loss: 91.2481\n",
            "Epoch 39/200\n",
            "11/11 [==============================] - 0s 2ms/step - loss: 91.8462\n",
            "Epoch 40/200\n",
            "11/11 [==============================] - 0s 2ms/step - loss: 91.2181\n",
            "Epoch 41/200\n",
            "11/11 [==============================] - 0s 2ms/step - loss: 90.9741\n",
            "Epoch 42/200\n",
            "11/11 [==============================] - 0s 3ms/step - loss: 91.1670\n",
            "Epoch 43/200\n",
            "11/11 [==============================] - 0s 3ms/step - loss: 91.2879\n",
            "Epoch 44/200\n",
            "11/11 [==============================] - 0s 2ms/step - loss: 91.5224\n",
            "Epoch 45/200\n",
            "11/11 [==============================] - 0s 2ms/step - loss: 91.8061\n",
            "Epoch 46/200\n",
            "11/11 [==============================] - 0s 2ms/step - loss: 91.5891\n",
            "Epoch 47/200\n",
            "11/11 [==============================] - 0s 2ms/step - loss: 91.7160\n",
            "Epoch 48/200\n",
            "11/11 [==============================] - 0s 2ms/step - loss: 91.4547\n",
            "Epoch 49/200\n",
            "11/11 [==============================] - 0s 2ms/step - loss: 91.5490\n",
            "Epoch 50/200\n",
            "11/11 [==============================] - 0s 2ms/step - loss: 91.8648\n",
            "Epoch 51/200\n",
            "11/11 [==============================] - 0s 2ms/step - loss: 92.5361\n",
            "Epoch 52/200\n",
            "11/11 [==============================] - 0s 2ms/step - loss: 91.3334\n",
            "Epoch 53/200\n",
            "11/11 [==============================] - 0s 2ms/step - loss: 91.2833\n",
            "Epoch 54/200\n",
            "11/11 [==============================] - 0s 2ms/step - loss: 91.1642\n",
            "Epoch 55/200\n",
            "11/11 [==============================] - 0s 3ms/step - loss: 91.6618\n",
            "Epoch 56/200\n",
            "11/11 [==============================] - 0s 2ms/step - loss: 91.5916\n",
            "Epoch 57/200\n",
            "11/11 [==============================] - 0s 2ms/step - loss: 91.9808\n",
            "Epoch 58/200\n",
            "11/11 [==============================] - 0s 2ms/step - loss: 91.7136\n",
            "Epoch 59/200\n",
            "11/11 [==============================] - 0s 2ms/step - loss: 91.9723\n",
            "Epoch 60/200\n",
            "11/11 [==============================] - 0s 3ms/step - loss: 91.1458\n",
            "Epoch 61/200\n",
            "11/11 [==============================] - 0s 2ms/step - loss: 91.8141\n",
            "Epoch 62/200\n",
            "11/11 [==============================] - 0s 2ms/step - loss: 91.5303\n",
            "Epoch 63/200\n",
            "11/11 [==============================] - 0s 2ms/step - loss: 91.5096\n",
            "Epoch 64/200\n",
            "11/11 [==============================] - 0s 4ms/step - loss: 91.2894\n",
            "Epoch 65/200\n",
            "11/11 [==============================] - 0s 2ms/step - loss: 91.2661\n",
            "Epoch 66/200\n",
            "11/11 [==============================] - 0s 3ms/step - loss: 91.8836\n",
            "Epoch 67/200\n",
            "11/11 [==============================] - 0s 2ms/step - loss: 91.6773\n",
            "Epoch 68/200\n",
            "11/11 [==============================] - 0s 2ms/step - loss: 90.9951\n",
            "Epoch 69/200\n",
            "11/11 [==============================] - 0s 2ms/step - loss: 91.1272\n",
            "Epoch 70/200\n",
            "11/11 [==============================] - 0s 2ms/step - loss: 91.3004\n",
            "Epoch 71/200\n",
            "11/11 [==============================] - 0s 2ms/step - loss: 91.8690\n",
            "Epoch 72/200\n",
            "11/11 [==============================] - 0s 3ms/step - loss: 91.8903\n",
            "Epoch 73/200\n",
            "11/11 [==============================] - 0s 2ms/step - loss: 91.9211\n",
            "Epoch 74/200\n",
            "11/11 [==============================] - 0s 2ms/step - loss: 91.8618\n",
            "Epoch 75/200\n",
            "11/11 [==============================] - 0s 3ms/step - loss: 91.4827\n",
            "Epoch 76/200\n",
            "11/11 [==============================] - 0s 2ms/step - loss: 91.3513\n",
            "Epoch 77/200\n",
            "11/11 [==============================] - 0s 2ms/step - loss: 92.1179\n",
            "Epoch 78/200\n",
            "11/11 [==============================] - 0s 2ms/step - loss: 91.5599\n",
            "Epoch 79/200\n",
            "11/11 [==============================] - 0s 2ms/step - loss: 91.9042\n",
            "Epoch 80/200\n",
            "11/11 [==============================] - 0s 2ms/step - loss: 91.1706\n",
            "Epoch 81/200\n",
            "11/11 [==============================] - 0s 2ms/step - loss: 91.9241\n",
            "Epoch 82/200\n",
            "11/11 [==============================] - 0s 2ms/step - loss: 91.1925\n",
            "Epoch 83/200\n",
            "11/11 [==============================] - 0s 2ms/step - loss: 91.5975\n",
            "Epoch 84/200\n",
            "11/11 [==============================] - 0s 2ms/step - loss: 91.8423\n",
            "Epoch 85/200\n",
            "11/11 [==============================] - 0s 2ms/step - loss: 91.5922\n",
            "Epoch 86/200\n",
            "11/11 [==============================] - 0s 3ms/step - loss: 91.4312\n",
            "Epoch 87/200\n",
            "11/11 [==============================] - 0s 2ms/step - loss: 91.1809\n",
            "Epoch 88/200\n",
            "11/11 [==============================] - 0s 2ms/step - loss: 91.2279\n",
            "Epoch 89/200\n",
            "11/11 [==============================] - 0s 2ms/step - loss: 91.3787\n",
            "Epoch 90/200\n",
            "11/11 [==============================] - 0s 2ms/step - loss: 91.6361\n",
            "Epoch 91/200\n",
            "11/11 [==============================] - 0s 2ms/step - loss: 91.7710\n",
            "Epoch 92/200\n",
            "11/11 [==============================] - 0s 2ms/step - loss: 91.3383\n",
            "Epoch 93/200\n",
            "11/11 [==============================] - 0s 2ms/step - loss: 91.0129\n",
            "Epoch 94/200\n",
            "11/11 [==============================] - 0s 2ms/step - loss: 91.6368\n",
            "Epoch 95/200\n",
            "11/11 [==============================] - 0s 2ms/step - loss: 91.8708\n",
            "Epoch 96/200\n",
            "11/11 [==============================] - 0s 2ms/step - loss: 91.1004\n",
            "Epoch 97/200\n",
            "11/11 [==============================] - 0s 2ms/step - loss: 91.7357\n",
            "Epoch 98/200\n",
            "11/11 [==============================] - 0s 2ms/step - loss: 91.0319\n",
            "Epoch 99/200\n",
            "11/11 [==============================] - 0s 2ms/step - loss: 91.9110\n",
            "Epoch 100/200\n",
            "11/11 [==============================] - 0s 2ms/step - loss: 91.4656\n",
            "Epoch 101/200\n",
            "11/11 [==============================] - 0s 2ms/step - loss: 91.9961\n",
            "Epoch 102/200\n",
            "11/11 [==============================] - 0s 2ms/step - loss: 91.4354\n",
            "Epoch 103/200\n",
            "11/11 [==============================] - 0s 2ms/step - loss: 91.6409\n",
            "Epoch 104/200\n",
            "11/11 [==============================] - 0s 3ms/step - loss: 91.3548\n",
            "Epoch 105/200\n",
            "11/11 [==============================] - 0s 2ms/step - loss: 91.5327\n",
            "Epoch 106/200\n",
            "11/11 [==============================] - 0s 2ms/step - loss: 91.1107\n",
            "Epoch 107/200\n",
            "11/11 [==============================] - 0s 2ms/step - loss: 90.7528\n",
            "Epoch 108/200\n",
            "11/11 [==============================] - 0s 2ms/step - loss: 91.4214\n",
            "Epoch 109/200\n",
            "11/11 [==============================] - 0s 2ms/step - loss: 92.0339\n",
            "Epoch 110/200\n",
            "11/11 [==============================] - 0s 2ms/step - loss: 91.7976\n",
            "Epoch 111/200\n",
            "11/11 [==============================] - 0s 2ms/step - loss: 91.6443\n",
            "Epoch 112/200\n",
            "11/11 [==============================] - 0s 2ms/step - loss: 91.5396\n",
            "Epoch 113/200\n",
            "11/11 [==============================] - 0s 2ms/step - loss: 91.6445\n",
            "Epoch 114/200\n",
            "11/11 [==============================] - 0s 2ms/step - loss: 91.2660\n",
            "Epoch 115/200\n",
            "11/11 [==============================] - 0s 3ms/step - loss: 91.7056\n",
            "Epoch 116/200\n",
            "11/11 [==============================] - 0s 2ms/step - loss: 91.2105\n",
            "Epoch 117/200\n",
            "11/11 [==============================] - 0s 2ms/step - loss: 91.7479\n",
            "Epoch 118/200\n",
            "11/11 [==============================] - 0s 3ms/step - loss: 91.7063\n",
            "Epoch 119/200\n",
            "11/11 [==============================] - 0s 3ms/step - loss: 91.1843\n",
            "Epoch 120/200\n",
            "11/11 [==============================] - 0s 2ms/step - loss: 92.0054\n",
            "Epoch 121/200\n",
            "11/11 [==============================] - 0s 2ms/step - loss: 91.2483\n",
            "Epoch 122/200\n",
            "11/11 [==============================] - 0s 2ms/step - loss: 91.2090\n",
            "Epoch 123/200\n",
            "11/11 [==============================] - 0s 2ms/step - loss: 90.5917\n",
            "Epoch 124/200\n",
            "11/11 [==============================] - 0s 2ms/step - loss: 91.6715\n",
            "Epoch 125/200\n",
            "11/11 [==============================] - 0s 2ms/step - loss: 91.7856\n",
            "Epoch 126/200\n",
            "11/11 [==============================] - 0s 2ms/step - loss: 91.7458\n",
            "Epoch 127/200\n",
            "11/11 [==============================] - 0s 2ms/step - loss: 91.9575\n",
            "Epoch 128/200\n",
            "11/11 [==============================] - 0s 2ms/step - loss: 91.5941\n",
            "Epoch 129/200\n",
            "11/11 [==============================] - 0s 2ms/step - loss: 92.0106\n",
            "Epoch 130/200\n",
            "11/11 [==============================] - 0s 2ms/step - loss: 91.4056\n",
            "Epoch 131/200\n",
            "11/11 [==============================] - 0s 2ms/step - loss: 91.3681\n",
            "Epoch 132/200\n",
            "11/11 [==============================] - 0s 2ms/step - loss: 91.6998\n",
            "Epoch 133/200\n",
            "11/11 [==============================] - 0s 2ms/step - loss: 91.1495\n",
            "Epoch 134/200\n",
            "11/11 [==============================] - 0s 2ms/step - loss: 91.9791\n",
            "Epoch 135/200\n",
            "11/11 [==============================] - 0s 3ms/step - loss: 91.9311\n",
            "Epoch 136/200\n",
            "11/11 [==============================] - 0s 2ms/step - loss: 91.4321\n",
            "Epoch 137/200\n",
            "11/11 [==============================] - 0s 2ms/step - loss: 91.4246\n",
            "Epoch 138/200\n",
            "11/11 [==============================] - 0s 2ms/step - loss: 91.7587\n",
            "Epoch 139/200\n",
            "11/11 [==============================] - 0s 2ms/step - loss: 91.3386\n",
            "Epoch 140/200\n",
            "11/11 [==============================] - 0s 2ms/step - loss: 91.0986\n",
            "Epoch 141/200\n",
            "11/11 [==============================] - 0s 2ms/step - loss: 91.5803\n",
            "Epoch 142/200\n",
            "11/11 [==============================] - 0s 2ms/step - loss: 91.9077\n",
            "Epoch 143/200\n",
            "11/11 [==============================] - 0s 2ms/step - loss: 91.4279\n",
            "Epoch 144/200\n",
            "11/11 [==============================] - 0s 2ms/step - loss: 91.1994\n",
            "Epoch 145/200\n",
            "11/11 [==============================] - 0s 2ms/step - loss: 91.5637\n",
            "Epoch 146/200\n",
            "11/11 [==============================] - 0s 2ms/step - loss: 92.0027\n",
            "Epoch 147/200\n",
            "11/11 [==============================] - 0s 2ms/step - loss: 91.3204\n",
            "Epoch 148/200\n",
            "11/11 [==============================] - 0s 2ms/step - loss: 91.3400\n",
            "Epoch 149/200\n",
            "11/11 [==============================] - 0s 2ms/step - loss: 91.5031\n",
            "Epoch 150/200\n",
            "11/11 [==============================] - 0s 2ms/step - loss: 92.0688\n",
            "Epoch 151/200\n",
            "11/11 [==============================] - 0s 2ms/step - loss: 92.1057\n",
            "Epoch 152/200\n",
            "11/11 [==============================] - 0s 2ms/step - loss: 91.0548\n",
            "Epoch 153/200\n",
            "11/11 [==============================] - 0s 2ms/step - loss: 90.9697\n",
            "Epoch 154/200\n",
            "11/11 [==============================] - 0s 2ms/step - loss: 91.9845\n",
            "Epoch 155/200\n",
            "11/11 [==============================] - 0s 2ms/step - loss: 92.0256\n",
            "Epoch 156/200\n",
            "11/11 [==============================] - 0s 2ms/step - loss: 91.6462\n",
            "Epoch 157/200\n",
            "11/11 [==============================] - 0s 2ms/step - loss: 91.1396\n",
            "Epoch 158/200\n",
            "11/11 [==============================] - 0s 2ms/step - loss: 91.9954\n",
            "Epoch 159/200\n",
            "11/11 [==============================] - 0s 2ms/step - loss: 91.2812\n",
            "Epoch 160/200\n",
            "11/11 [==============================] - 0s 2ms/step - loss: 91.1656\n",
            "Epoch 161/200\n",
            "11/11 [==============================] - 0s 2ms/step - loss: 91.6627\n",
            "Epoch 162/200\n",
            "11/11 [==============================] - 0s 2ms/step - loss: 91.4153\n",
            "Epoch 163/200\n",
            "11/11 [==============================] - 0s 2ms/step - loss: 91.2376\n",
            "Epoch 164/200\n",
            "11/11 [==============================] - 0s 2ms/step - loss: 91.5941\n",
            "Epoch 165/200\n",
            "11/11 [==============================] - 0s 2ms/step - loss: 91.8035\n",
            "Epoch 166/200\n",
            "11/11 [==============================] - 0s 4ms/step - loss: 91.7500\n",
            "Epoch 167/200\n",
            "11/11 [==============================] - 0s 4ms/step - loss: 91.3300\n",
            "Epoch 168/200\n",
            "11/11 [==============================] - 0s 2ms/step - loss: 92.5475\n",
            "Epoch 169/200\n",
            "11/11 [==============================] - 0s 2ms/step - loss: 91.3145\n",
            "Epoch 170/200\n",
            "11/11 [==============================] - 0s 2ms/step - loss: 92.4831\n",
            "Epoch 171/200\n",
            "11/11 [==============================] - 0s 2ms/step - loss: 91.7856\n",
            "Epoch 172/200\n",
            "11/11 [==============================] - 0s 3ms/step - loss: 91.2364\n",
            "Epoch 173/200\n",
            "11/11 [==============================] - 0s 2ms/step - loss: 91.9869\n",
            "Epoch 174/200\n",
            "11/11 [==============================] - 0s 3ms/step - loss: 91.3326\n",
            "Epoch 175/200\n",
            "11/11 [==============================] - 0s 2ms/step - loss: 91.4987\n",
            "Epoch 176/200\n",
            "11/11 [==============================] - 0s 2ms/step - loss: 90.9087\n",
            "Epoch 177/200\n",
            "11/11 [==============================] - 0s 3ms/step - loss: 92.1353\n",
            "Epoch 178/200\n",
            "11/11 [==============================] - 0s 2ms/step - loss: 91.4385\n",
            "Epoch 179/200\n",
            "11/11 [==============================] - 0s 3ms/step - loss: 91.5884\n",
            "Epoch 180/200\n",
            "11/11 [==============================] - 0s 2ms/step - loss: 92.2021\n",
            "Epoch 181/200\n",
            "11/11 [==============================] - 0s 2ms/step - loss: 91.3368\n",
            "Epoch 182/200\n",
            "11/11 [==============================] - 0s 3ms/step - loss: 91.3476\n",
            "Epoch 183/200\n",
            "11/11 [==============================] - 0s 2ms/step - loss: 91.2940\n",
            "Epoch 184/200\n",
            "11/11 [==============================] - 0s 2ms/step - loss: 91.7492\n",
            "Epoch 185/200\n",
            "11/11 [==============================] - 0s 2ms/step - loss: 91.7937\n",
            "Epoch 186/200\n",
            "11/11 [==============================] - 0s 2ms/step - loss: 92.0725\n",
            "Epoch 187/200\n",
            "11/11 [==============================] - 0s 2ms/step - loss: 91.5257\n",
            "Epoch 188/200\n",
            "11/11 [==============================] - 0s 2ms/step - loss: 91.4310\n",
            "Epoch 189/200\n",
            "11/11 [==============================] - 0s 2ms/step - loss: 91.5129\n",
            "Epoch 190/200\n",
            "11/11 [==============================] - 0s 2ms/step - loss: 91.3724\n",
            "Epoch 191/200\n",
            "11/11 [==============================] - 0s 2ms/step - loss: 91.3783\n",
            "Epoch 192/200\n",
            "11/11 [==============================] - 0s 2ms/step - loss: 90.9934\n",
            "Epoch 193/200\n",
            "11/11 [==============================] - 0s 2ms/step - loss: 91.4202\n",
            "Epoch 194/200\n",
            "11/11 [==============================] - 0s 2ms/step - loss: 91.5827\n",
            "Epoch 195/200\n",
            "11/11 [==============================] - 0s 2ms/step - loss: 90.0506\n",
            "Epoch 196/200\n",
            "11/11 [==============================] - 0s 2ms/step - loss: 92.6251\n",
            "Epoch 197/200\n",
            "11/11 [==============================] - 0s 4ms/step - loss: 91.5972\n",
            "Epoch 198/200\n",
            "11/11 [==============================] - 0s 2ms/step - loss: 91.5202\n",
            "Epoch 199/200\n",
            "11/11 [==============================] - 0s 4ms/step - loss: 91.0735\n",
            "Epoch 200/200\n",
            "11/11 [==============================] - 0s 2ms/step - loss: 91.2523\n",
            "3/3 [==============================] - 0s 9ms/step - loss: 72.7640\n"
          ]
        },
        {
          "output_type": "execute_result",
          "data": {
            "text/plain": [
              "72.7640380859375"
            ]
          },
          "metadata": {},
          "execution_count": 59
        }
      ]
    },
    {
      "cell_type": "markdown",
      "source": [
        "**3. Batch Size**\n",
        "\n",
        "The number of examples in a batch."
      ],
      "metadata": {
        "id": "fqpjEKGIcMri"
      }
    },
    {
      "cell_type": "code",
      "source": [
        "####################### Complete example to check the performance of the model with different batch size while keeping epochs as 30 and learning rate as 0.01 #######################################\n",
        "# define the model\n",
        "model = Sequential()\n",
        "model.add(Dense(10, activation='relu', input_shape=(n_features,)))\n",
        "model.add(Dense(8, activation='relu'))\n",
        "model.add(Dense(1))\n",
        "\n",
        "optimizer = RMSprop(0.01)    # 0.01 is the learning rate\n",
        "model.compile(loss='mean_squared_error',optimizer=optimizer)    # Compile the model\n",
        "\n",
        "# fit the model \n",
        "model.fit(X_train, y_train, epochs=10, batch_size=40, verbose = 1)\n",
        "\n",
        "# evaluate the model\n",
        "print('The MSE value is: ', model.evaluate(X_test, y_test))"
      ],
      "metadata": {
        "colab": {
          "base_uri": "https://localhost:8080/"
        },
        "id": "TgmvRBX9b1GK",
        "outputId": "096e41b1-3f1b-4a1f-dc51-26b303c0bc10"
      },
      "execution_count": null,
      "outputs": [
        {
          "output_type": "stream",
          "name": "stdout",
          "text": [
            "Epoch 1/10\n",
            "9/9 [==============================] - 1s 5ms/step - loss: 967.5180\n",
            "Epoch 2/10\n",
            "9/9 [==============================] - 0s 4ms/step - loss: 606.2019\n",
            "Epoch 3/10\n",
            "9/9 [==============================] - 0s 3ms/step - loss: 599.1036\n",
            "Epoch 4/10\n",
            "9/9 [==============================] - 0s 3ms/step - loss: 594.1597\n",
            "Epoch 5/10\n",
            "9/9 [==============================] - 0s 6ms/step - loss: 590.1794\n",
            "Epoch 6/10\n",
            "9/9 [==============================] - 0s 3ms/step - loss: 586.1730\n",
            "Epoch 7/10\n",
            "9/9 [==============================] - 0s 3ms/step - loss: 582.0836\n",
            "Epoch 8/10\n",
            "9/9 [==============================] - 0s 2ms/step - loss: 578.1439\n",
            "Epoch 9/10\n",
            "9/9 [==============================] - 0s 2ms/step - loss: 574.3418\n",
            "Epoch 10/10\n",
            "9/9 [==============================] - 0s 2ms/step - loss: 570.4719\n",
            "3/3 [==============================] - 0s 4ms/step - loss: 550.8616\n",
            "The MSE value is:  550.8616333007812\n"
          ]
        }
      ]
    },
    {
      "cell_type": "code",
      "source": [
        "# play with batch size\n",
        "learning_rate = 0.01        \n",
        "epochs = 150         \n",
        "batch = 10     # Replace ? with an integer    \n",
        "optimizer = RMSprop(learning_rate)\n",
        "model.compile(loss='mean_squared_error',optimizer=optimizer)    # compile the model\n",
        "model.fit(X_train, y_train, epochs=epochs, batch_size=batch)     # fit the model\n",
        "model.evaluate(X_test, y_test)       # Evaluate the model"
      ],
      "metadata": {
        "colab": {
          "base_uri": "https://localhost:8080/"
        },
        "id": "6CxpKyogcnrE",
        "outputId": "0751db25-9b7d-4361-ae4e-69960fcd42b2"
      },
      "execution_count": null,
      "outputs": [
        {
          "output_type": "stream",
          "name": "stdout",
          "text": [
            "Epoch 1/150\n",
            "33/33 [==============================] - 1s 2ms/step - loss: 119.7471\n",
            "Epoch 2/150\n",
            "33/33 [==============================] - 0s 2ms/step - loss: 116.7746\n",
            "Epoch 3/150\n",
            "33/33 [==============================] - 0s 2ms/step - loss: 114.0615\n",
            "Epoch 4/150\n",
            "33/33 [==============================] - 0s 2ms/step - loss: 111.6452\n",
            "Epoch 5/150\n",
            "33/33 [==============================] - 0s 2ms/step - loss: 109.2559\n",
            "Epoch 6/150\n",
            "33/33 [==============================] - 0s 2ms/step - loss: 106.9031\n",
            "Epoch 7/150\n",
            "33/33 [==============================] - 0s 2ms/step - loss: 104.9495\n",
            "Epoch 8/150\n",
            "33/33 [==============================] - 0s 2ms/step - loss: 103.3099\n",
            "Epoch 9/150\n",
            "33/33 [==============================] - 0s 2ms/step - loss: 101.7180\n",
            "Epoch 10/150\n",
            "33/33 [==============================] - 0s 2ms/step - loss: 100.1694\n",
            "Epoch 11/150\n",
            "33/33 [==============================] - 0s 2ms/step - loss: 98.9345\n",
            "Epoch 12/150\n",
            "33/33 [==============================] - 0s 3ms/step - loss: 97.7753\n",
            "Epoch 13/150\n",
            "33/33 [==============================] - 0s 2ms/step - loss: 96.8177\n",
            "Epoch 14/150\n",
            "33/33 [==============================] - 0s 2ms/step - loss: 96.0517\n",
            "Epoch 15/150\n",
            "33/33 [==============================] - 0s 2ms/step - loss: 95.2943\n",
            "Epoch 16/150\n",
            "33/33 [==============================] - 0s 2ms/step - loss: 94.4738\n",
            "Epoch 17/150\n",
            "33/33 [==============================] - 0s 2ms/step - loss: 93.7483\n",
            "Epoch 18/150\n",
            "33/33 [==============================] - 0s 2ms/step - loss: 93.3084\n",
            "Epoch 19/150\n",
            "33/33 [==============================] - 0s 2ms/step - loss: 92.8762\n",
            "Epoch 20/150\n",
            "33/33 [==============================] - 0s 2ms/step - loss: 92.5161\n",
            "Epoch 21/150\n",
            "33/33 [==============================] - 0s 2ms/step - loss: 92.2216\n",
            "Epoch 22/150\n",
            "33/33 [==============================] - 0s 2ms/step - loss: 92.0341\n",
            "Epoch 23/150\n",
            "33/33 [==============================] - 0s 2ms/step - loss: 91.8254\n",
            "Epoch 24/150\n",
            "33/33 [==============================] - 0s 2ms/step - loss: 91.6437\n",
            "Epoch 25/150\n",
            "33/33 [==============================] - 0s 2ms/step - loss: 91.4770\n",
            "Epoch 26/150\n",
            "33/33 [==============================] - 0s 2ms/step - loss: 91.3805\n",
            "Epoch 27/150\n",
            "33/33 [==============================] - 0s 2ms/step - loss: 91.2533\n",
            "Epoch 28/150\n",
            "33/33 [==============================] - 0s 2ms/step - loss: 91.2111\n",
            "Epoch 29/150\n",
            "33/33 [==============================] - 0s 2ms/step - loss: 91.1424\n",
            "Epoch 30/150\n",
            "33/33 [==============================] - 0s 2ms/step - loss: 91.1070\n",
            "Epoch 31/150\n",
            "33/33 [==============================] - 0s 2ms/step - loss: 91.0587\n",
            "Epoch 32/150\n",
            "33/33 [==============================] - 0s 2ms/step - loss: 91.0356\n",
            "Epoch 33/150\n",
            "33/33 [==============================] - 0s 2ms/step - loss: 90.9905\n",
            "Epoch 34/150\n",
            "33/33 [==============================] - 0s 2ms/step - loss: 90.9817\n",
            "Epoch 35/150\n",
            "33/33 [==============================] - 0s 2ms/step - loss: 90.9707\n",
            "Epoch 36/150\n",
            "33/33 [==============================] - 0s 2ms/step - loss: 90.9467\n",
            "Epoch 37/150\n",
            "33/33 [==============================] - 0s 2ms/step - loss: 90.9268\n",
            "Epoch 38/150\n",
            "33/33 [==============================] - 0s 2ms/step - loss: 90.9139\n",
            "Epoch 39/150\n",
            "33/33 [==============================] - 0s 2ms/step - loss: 90.9205\n",
            "Epoch 40/150\n",
            "33/33 [==============================] - 0s 2ms/step - loss: 90.9121\n",
            "Epoch 41/150\n",
            "33/33 [==============================] - 0s 3ms/step - loss: 90.8972\n",
            "Epoch 42/150\n",
            "33/33 [==============================] - 0s 2ms/step - loss: 90.8985\n",
            "Epoch 43/150\n",
            "33/33 [==============================] - 0s 2ms/step - loss: 90.8841\n",
            "Epoch 44/150\n",
            "33/33 [==============================] - 0s 2ms/step - loss: 90.8829\n",
            "Epoch 45/150\n",
            "33/33 [==============================] - 0s 2ms/step - loss: 90.8752\n",
            "Epoch 46/150\n",
            "33/33 [==============================] - 0s 2ms/step - loss: 90.8690\n",
            "Epoch 47/150\n",
            "33/33 [==============================] - 0s 2ms/step - loss: 90.8755\n",
            "Epoch 48/150\n",
            "33/33 [==============================] - 0s 2ms/step - loss: 90.8724\n",
            "Epoch 49/150\n",
            "33/33 [==============================] - 0s 2ms/step - loss: 90.8673\n",
            "Epoch 50/150\n",
            "33/33 [==============================] - 0s 2ms/step - loss: 90.8779\n",
            "Epoch 51/150\n",
            "33/33 [==============================] - 0s 2ms/step - loss: 90.8807\n",
            "Epoch 52/150\n",
            "33/33 [==============================] - 0s 2ms/step - loss: 90.8706\n",
            "Epoch 53/150\n",
            "33/33 [==============================] - 0s 2ms/step - loss: 90.8679\n",
            "Epoch 54/150\n",
            "33/33 [==============================] - 0s 2ms/step - loss: 90.8633\n",
            "Epoch 55/150\n",
            "33/33 [==============================] - 0s 2ms/step - loss: 90.8665\n",
            "Epoch 56/150\n",
            "33/33 [==============================] - 0s 2ms/step - loss: 90.8637\n",
            "Epoch 57/150\n",
            "33/33 [==============================] - 0s 2ms/step - loss: 90.8585\n",
            "Epoch 58/150\n",
            "33/33 [==============================] - 0s 2ms/step - loss: 90.8666\n",
            "Epoch 59/150\n",
            "33/33 [==============================] - 0s 2ms/step - loss: 90.8649\n",
            "Epoch 60/150\n",
            "33/33 [==============================] - 0s 2ms/step - loss: 90.8658\n",
            "Epoch 61/150\n",
            "33/33 [==============================] - 0s 2ms/step - loss: 90.8625\n",
            "Epoch 62/150\n",
            "33/33 [==============================] - 0s 2ms/step - loss: 90.8673\n",
            "Epoch 63/150\n",
            "33/33 [==============================] - 0s 2ms/step - loss: 90.8567\n",
            "Epoch 64/150\n",
            "33/33 [==============================] - 0s 2ms/step - loss: 90.8562\n",
            "Epoch 65/150\n",
            "33/33 [==============================] - 0s 2ms/step - loss: 90.8648\n",
            "Epoch 66/150\n",
            "33/33 [==============================] - 0s 2ms/step - loss: 90.8655\n",
            "Epoch 67/150\n",
            "33/33 [==============================] - 0s 2ms/step - loss: 90.8770\n",
            "Epoch 68/150\n",
            "33/33 [==============================] - 0s 2ms/step - loss: 90.8681\n",
            "Epoch 69/150\n",
            "33/33 [==============================] - 0s 2ms/step - loss: 90.8656\n",
            "Epoch 70/150\n",
            "33/33 [==============================] - 0s 2ms/step - loss: 90.8633\n",
            "Epoch 71/150\n",
            "33/33 [==============================] - 0s 2ms/step - loss: 90.8634\n",
            "Epoch 72/150\n",
            "33/33 [==============================] - 0s 2ms/step - loss: 90.8690\n",
            "Epoch 73/150\n",
            "33/33 [==============================] - 0s 2ms/step - loss: 90.8698\n",
            "Epoch 74/150\n",
            "33/33 [==============================] - 0s 2ms/step - loss: 90.8585\n",
            "Epoch 75/150\n",
            "33/33 [==============================] - 0s 2ms/step - loss: 90.8761\n",
            "Epoch 76/150\n",
            "33/33 [==============================] - 0s 2ms/step - loss: 90.8549\n",
            "Epoch 77/150\n",
            "33/33 [==============================] - 0s 2ms/step - loss: 90.8636\n",
            "Epoch 78/150\n",
            "33/33 [==============================] - 0s 2ms/step - loss: 90.8596\n",
            "Epoch 79/150\n",
            "33/33 [==============================] - 0s 2ms/step - loss: 90.8817\n",
            "Epoch 80/150\n",
            "33/33 [==============================] - 0s 2ms/step - loss: 90.8679\n",
            "Epoch 81/150\n",
            "33/33 [==============================] - 0s 2ms/step - loss: 90.8658\n",
            "Epoch 82/150\n",
            "33/33 [==============================] - 0s 2ms/step - loss: 90.8755\n",
            "Epoch 83/150\n",
            "33/33 [==============================] - 0s 2ms/step - loss: 90.8717\n",
            "Epoch 84/150\n",
            "33/33 [==============================] - 0s 2ms/step - loss: 90.8599\n",
            "Epoch 85/150\n",
            "33/33 [==============================] - 0s 2ms/step - loss: 90.8682\n",
            "Epoch 86/150\n",
            "33/33 [==============================] - 0s 2ms/step - loss: 90.8630\n",
            "Epoch 87/150\n",
            "33/33 [==============================] - 0s 2ms/step - loss: 90.8554\n",
            "Epoch 88/150\n",
            "33/33 [==============================] - 0s 2ms/step - loss: 90.8538\n",
            "Epoch 89/150\n",
            "33/33 [==============================] - 0s 2ms/step - loss: 90.8546\n",
            "Epoch 90/150\n",
            "33/33 [==============================] - 0s 2ms/step - loss: 90.8568\n",
            "Epoch 91/150\n",
            "33/33 [==============================] - 0s 2ms/step - loss: 90.8579\n",
            "Epoch 92/150\n",
            "33/33 [==============================] - 0s 2ms/step - loss: 90.8714\n",
            "Epoch 93/150\n",
            "33/33 [==============================] - 0s 2ms/step - loss: 90.8512\n",
            "Epoch 94/150\n",
            "33/33 [==============================] - 0s 2ms/step - loss: 90.8564\n",
            "Epoch 95/150\n",
            "33/33 [==============================] - 0s 2ms/step - loss: 90.8669\n",
            "Epoch 96/150\n",
            "33/33 [==============================] - 0s 2ms/step - loss: 90.8725\n",
            "Epoch 97/150\n",
            "33/33 [==============================] - 0s 2ms/step - loss: 90.8594\n",
            "Epoch 98/150\n",
            "33/33 [==============================] - 0s 2ms/step - loss: 90.8476\n",
            "Epoch 99/150\n",
            "33/33 [==============================] - 0s 2ms/step - loss: 90.8635\n",
            "Epoch 100/150\n",
            "33/33 [==============================] - 0s 2ms/step - loss: 90.8544\n",
            "Epoch 101/150\n",
            "33/33 [==============================] - 0s 2ms/step - loss: 90.8650\n",
            "Epoch 102/150\n",
            "33/33 [==============================] - 0s 2ms/step - loss: 90.8539\n",
            "Epoch 103/150\n",
            "33/33 [==============================] - 0s 2ms/step - loss: 90.8591\n",
            "Epoch 104/150\n",
            "33/33 [==============================] - 0s 2ms/step - loss: 90.8522\n",
            "Epoch 105/150\n",
            "33/33 [==============================] - 0s 2ms/step - loss: 90.8563\n",
            "Epoch 106/150\n",
            "33/33 [==============================] - 0s 2ms/step - loss: 90.8655\n",
            "Epoch 107/150\n",
            "33/33 [==============================] - 0s 2ms/step - loss: 90.8471\n",
            "Epoch 108/150\n",
            "33/33 [==============================] - 0s 2ms/step - loss: 90.8619\n",
            "Epoch 109/150\n",
            "33/33 [==============================] - 0s 2ms/step - loss: 90.8733\n",
            "Epoch 110/150\n",
            "33/33 [==============================] - 0s 2ms/step - loss: 90.8676\n",
            "Epoch 111/150\n",
            "33/33 [==============================] - 0s 2ms/step - loss: 90.8528\n",
            "Epoch 112/150\n",
            "33/33 [==============================] - 0s 2ms/step - loss: 90.8586\n",
            "Epoch 113/150\n",
            "33/33 [==============================] - 0s 2ms/step - loss: 90.8621\n",
            "Epoch 114/150\n",
            "33/33 [==============================] - 0s 2ms/step - loss: 90.8588\n",
            "Epoch 115/150\n",
            "33/33 [==============================] - 0s 2ms/step - loss: 90.8664\n",
            "Epoch 116/150\n",
            "33/33 [==============================] - 0s 2ms/step - loss: 90.8607\n",
            "Epoch 117/150\n",
            "33/33 [==============================] - 0s 2ms/step - loss: 90.8578\n",
            "Epoch 118/150\n",
            "33/33 [==============================] - 0s 2ms/step - loss: 90.8555\n",
            "Epoch 119/150\n",
            "33/33 [==============================] - 0s 2ms/step - loss: 90.8521\n",
            "Epoch 120/150\n",
            "33/33 [==============================] - 0s 2ms/step - loss: 90.8599\n",
            "Epoch 121/150\n",
            "33/33 [==============================] - 0s 2ms/step - loss: 90.8515\n",
            "Epoch 122/150\n",
            "33/33 [==============================] - 0s 2ms/step - loss: 90.8523\n",
            "Epoch 123/150\n",
            "33/33 [==============================] - 0s 2ms/step - loss: 90.8546\n",
            "Epoch 124/150\n",
            "33/33 [==============================] - 0s 2ms/step - loss: 90.8545\n",
            "Epoch 125/150\n",
            "33/33 [==============================] - 0s 2ms/step - loss: 90.8588\n",
            "Epoch 126/150\n",
            "33/33 [==============================] - 0s 2ms/step - loss: 90.8557\n",
            "Epoch 127/150\n",
            "33/33 [==============================] - 0s 2ms/step - loss: 90.8561\n",
            "Epoch 128/150\n",
            "33/33 [==============================] - 0s 2ms/step - loss: 90.8634\n",
            "Epoch 129/150\n",
            "33/33 [==============================] - 0s 2ms/step - loss: 90.8620\n",
            "Epoch 130/150\n",
            "33/33 [==============================] - 0s 2ms/step - loss: 90.8478\n",
            "Epoch 131/150\n",
            "33/33 [==============================] - 0s 2ms/step - loss: 90.8608\n",
            "Epoch 132/150\n",
            "33/33 [==============================] - 0s 2ms/step - loss: 90.8483\n",
            "Epoch 133/150\n",
            "33/33 [==============================] - 0s 2ms/step - loss: 90.8629\n",
            "Epoch 134/150\n",
            "33/33 [==============================] - 0s 2ms/step - loss: 90.8627\n",
            "Epoch 135/150\n",
            "33/33 [==============================] - 0s 2ms/step - loss: 90.8619\n",
            "Epoch 136/150\n",
            "33/33 [==============================] - 0s 2ms/step - loss: 90.8456\n",
            "Epoch 137/150\n",
            "33/33 [==============================] - 0s 2ms/step - loss: 90.8503\n",
            "Epoch 138/150\n",
            "33/33 [==============================] - 0s 2ms/step - loss: 90.8649\n",
            "Epoch 139/150\n",
            "33/33 [==============================] - 0s 2ms/step - loss: 90.8475\n",
            "Epoch 140/150\n",
            "33/33 [==============================] - 0s 2ms/step - loss: 90.8529\n",
            "Epoch 141/150\n",
            "33/33 [==============================] - 0s 2ms/step - loss: 90.8491\n",
            "Epoch 142/150\n",
            "33/33 [==============================] - 0s 2ms/step - loss: 90.8625\n",
            "Epoch 143/150\n",
            "33/33 [==============================] - 0s 2ms/step - loss: 90.8535\n",
            "Epoch 144/150\n",
            "33/33 [==============================] - 0s 2ms/step - loss: 90.8507\n",
            "Epoch 145/150\n",
            "33/33 [==============================] - 0s 2ms/step - loss: 90.8575\n",
            "Epoch 146/150\n",
            "33/33 [==============================] - 0s 2ms/step - loss: 90.8623\n",
            "Epoch 147/150\n",
            "33/33 [==============================] - 0s 2ms/step - loss: 90.8633\n",
            "Epoch 148/150\n",
            "33/33 [==============================] - 0s 2ms/step - loss: 90.8518\n",
            "Epoch 149/150\n",
            "33/33 [==============================] - 0s 2ms/step - loss: 90.8592\n",
            "Epoch 150/150\n",
            "33/33 [==============================] - 0s 2ms/step - loss: 90.8563\n",
            "3/3 [==============================] - 0s 4ms/step - loss: 71.0804\n"
          ]
        },
        {
          "output_type": "execute_result",
          "data": {
            "text/plain": [
              "71.08043670654297"
            ]
          },
          "metadata": {},
          "execution_count": 62
        }
      ]
    },
    {
      "cell_type": "markdown",
      "metadata": {
        "id": "wQV6zkKXrwR0"
      },
      "source": [
        "#### **Summary of hyperparameter tuning**\n",
        "Most machine learning problems require a lot of hyperparameter tuning. Unfortunately, we can't provide concrete tuning rules for every model. Lowering the learning rate can help one model converge efficiently but make another model converge much too slowly. You must experiment to find the best set of hyperparameters for your dataset. That said, here are a few rules of thumb:\n",
        "\n",
        "*  Training loss should steadily decrease, steeply at first, and then more slowly until the slope of the curve reaches or approaches zero.\n",
        "*  If the training loss does not converge, train for more epochs.\n",
        "*  If the training loss decreases too slowly, increase the learning rate. Note that setting the learning rate too high may also prevent training loss from converging.\n",
        "*  If the training loss varies wildly (that is, the training loss jumps around), decrease the learning rate.\n",
        "*  Lowering the learning rate while increasing the number of epochs or the batch size is often a good combination.\n",
        "*  Setting the batch size to a very small batch number can also cause instability. First, try large batch size values. Then, decrease the batch size until you see degradation.\n",
        "*  For real-world datasets consisting of a very large number of examples, the entire dataset might not fit into memory. In such cases, you'll need to reduce the batch size to enable a batch to fit into memory.\n",
        "\n",
        "Remember: the ideal combination of hyperparameters is data dependent, so you must always experiment and verify."
      ]
    },
    {
      "cell_type": "markdown",
      "source": [
        "#### 5. Make a Prediction\n",
        "Making a prediction is the final step in the life-cycle. It is why we wanted the model in the first place.\n",
        "\n",
        "It requires you have new data for which a prediction is required, e.g. where you do not have the output values.\n",
        "\n",
        "From an API perspective, you simply call a function to make a prediction of a class label, probability, or numerical value: whatever you designed your model to predict."
      ],
      "metadata": {
        "id": "aat-ZoB0d2RV"
      }
    },
    {
      "cell_type": "code",
      "source": [
        "# Load new test data\n",
        "new_test_data = pd.read_csv('https://raw.githubusercontent.com/dphi-official/Datasets/master/Boston_Housing/Testing_set_boston.csv')"
      ],
      "metadata": {
        "id": "rgDZchtbc1y9"
      },
      "execution_count": null,
      "outputs": []
    },
    {
      "cell_type": "code",
      "source": [
        "model.predict(new_test_data)"
      ],
      "metadata": {
        "colab": {
          "base_uri": "https://localhost:8080/"
        },
        "id": "mBOAMfDGd9_Q",
        "outputId": "ec61da42-8aeb-4a3f-bb69-abfe87e9209e"
      },
      "execution_count": null,
      "outputs": [
        {
          "output_type": "stream",
          "name": "stdout",
          "text": [
            "4/4 [==============================] - 0s 3ms/step\n"
          ]
        },
        {
          "output_type": "execute_result",
          "data": {
            "text/plain": [
              "array([[22.733955],\n",
              "       [22.733955],\n",
              "       [22.733955],\n",
              "       [22.733955],\n",
              "       [22.733955],\n",
              "       [22.733955],\n",
              "       [22.733955],\n",
              "       [22.733955],\n",
              "       [22.733955],\n",
              "       [22.733955],\n",
              "       [22.733955],\n",
              "       [22.733955],\n",
              "       [22.733955],\n",
              "       [22.733955],\n",
              "       [22.733955],\n",
              "       [22.733955],\n",
              "       [22.733955],\n",
              "       [22.733955],\n",
              "       [22.733955],\n",
              "       [22.733955],\n",
              "       [22.733955],\n",
              "       [22.733955],\n",
              "       [22.733955],\n",
              "       [22.733955],\n",
              "       [22.733955],\n",
              "       [22.733955],\n",
              "       [22.733955],\n",
              "       [22.733955],\n",
              "       [22.733955],\n",
              "       [22.733955],\n",
              "       [22.733955],\n",
              "       [22.733955],\n",
              "       [22.733955],\n",
              "       [22.733955],\n",
              "       [22.733955],\n",
              "       [22.733955],\n",
              "       [22.733955],\n",
              "       [22.733955],\n",
              "       [22.733955],\n",
              "       [22.733955],\n",
              "       [22.733955],\n",
              "       [22.733955],\n",
              "       [22.733955],\n",
              "       [22.733955],\n",
              "       [22.733955],\n",
              "       [22.733955],\n",
              "       [22.733955],\n",
              "       [22.733955],\n",
              "       [22.733955],\n",
              "       [22.733955],\n",
              "       [22.733955],\n",
              "       [22.733955],\n",
              "       [22.733955],\n",
              "       [22.733955],\n",
              "       [22.733955],\n",
              "       [22.733955],\n",
              "       [22.733955],\n",
              "       [22.733955],\n",
              "       [22.733955],\n",
              "       [22.733955],\n",
              "       [22.733955],\n",
              "       [22.733955],\n",
              "       [22.733955],\n",
              "       [22.733955],\n",
              "       [22.733955],\n",
              "       [22.733955],\n",
              "       [22.733955],\n",
              "       [22.733955],\n",
              "       [22.733955],\n",
              "       [22.733955],\n",
              "       [22.733955],\n",
              "       [22.733955],\n",
              "       [22.733955],\n",
              "       [22.733955],\n",
              "       [22.733955],\n",
              "       [22.733955],\n",
              "       [22.733955],\n",
              "       [22.733955],\n",
              "       [22.733955],\n",
              "       [22.733955],\n",
              "       [22.733955],\n",
              "       [22.733955],\n",
              "       [22.733955],\n",
              "       [22.733955],\n",
              "       [22.733955],\n",
              "       [22.733955],\n",
              "       [22.733955],\n",
              "       [22.733955],\n",
              "       [22.733955],\n",
              "       [22.733955],\n",
              "       [22.733955],\n",
              "       [22.733955],\n",
              "       [22.733955],\n",
              "       [22.733955],\n",
              "       [22.733955],\n",
              "       [22.733955],\n",
              "       [22.733955],\n",
              "       [22.733955],\n",
              "       [22.733955],\n",
              "       [22.733955],\n",
              "       [22.733955],\n",
              "       [22.733955]], dtype=float32)"
            ]
          },
          "metadata": {},
          "execution_count": 64
        }
      ]
    },
    {
      "cell_type": "markdown",
      "source": [
        "We can do a hyperparameter tuning procedure in two ways:\n",
        "1. Implementing hyperparameter tuning with Sklearn\n",
        "2. Implementing hyperparameter tuning with Keras"
      ],
      "metadata": {
        "id": "6rrWiektnLmK"
      }
    },
    {
      "cell_type": "markdown",
      "source": [
        "#### **Implementing hyperparameter tuning with Sklearn**\n",
        "Well, we can automate the hyperparameter tunning using **GridSearCV**. GridSearchCV is a hyperparameter search procedure that is done over a defined grid of hyperparameters. Each one of the hyperparameter combinations is used for training a new model, while a cross-validation process is executed to measure the performance of the provisional models. Once the process is done, the hyperparameters and the model with the best performance are chosen.\n",
        "\n",
        "Let's first take a look at the implementation of GridSearchCV with Sklearn, following the steps:\n",
        "1. Define the general architecture of the model\n",
        "2. Define the hyperparameters grid to be validated\n",
        "3. Run the GridSearchCV process\n",
        "4. Print the results of the best model"
      ],
      "metadata": {
        "id": "wyKD3JMpnNVp"
      }
    },
    {
      "cell_type": "code",
      "metadata": {
        "id": "ofZvGK5eb8Zg",
        "colab": {
          "base_uri": "https://localhost:8080/",
          "height": 392
        },
        "outputId": "c7275a90-618f-4cee-d84a-0e22e4f7cd77"
      },
      "source": [
        "# Import the GridSearchCV class\n",
        "from sklearn.model_selection import GridSearchCV\n",
        "\n",
        "# 1. Define the model's architecture\n",
        "model = Sequential()\n",
        "model.add(Dense(10, activation='relu', input_shape=(n_features,)))\n",
        "model.add(Dense(8, activation='relu'))\n",
        "model.add(Dense(1))\n",
        "optimizer = RMSprop(0.1)    # 0.1 is the learning rate\n",
        "model.compile(loss='mean_squared_error',optimizer=optimizer)    # compile the model\n",
        "\n",
        "# 2. Define the hyperparameters grid to be validated\n",
        "batch_size = [10, 20, 40, 60, 80, 100]\n",
        "epochs = [10, 50, 100]\n",
        "param_grid = dict(batch_size=batch_size, epochs=epochs)\n",
        "grid = GridSearchCV(estimator=model, param_grid=param_grid, scoring='neg_mean_squared_error', n_jobs=-1)\n",
        "\n",
        "# 3. Run the GridSearchCV process\n",
        "grid_result = grid.fit(X_train, y_train)\n",
        "\n",
        "# 4. Print the results of the best model\n",
        "print(\"Best: %f using %s\" % (grid_result.best_score_, grid_result.best_params_))"
      ],
      "execution_count": null,
      "outputs": [
        {
          "output_type": "error",
          "ename": "TypeError",
          "evalue": "ignored",
          "traceback": [
            "\u001b[0;31m---------------------------------------------------------------------------\u001b[0m",
            "\u001b[0;31mTypeError\u001b[0m                                 Traceback (most recent call last)",
            "\u001b[0;32m<ipython-input-22-ea531dcb5f6b>\u001b[0m in \u001b[0;36m<module>\u001b[0;34m()\u001b[0m\n\u001b[1;32m     16\u001b[0m \u001b[0mparam_grid\u001b[0m \u001b[0;34m=\u001b[0m \u001b[0mdict\u001b[0m\u001b[0;34m(\u001b[0m\u001b[0mbatch_size\u001b[0m\u001b[0;34m=\u001b[0m\u001b[0mbatch_size\u001b[0m\u001b[0;34m,\u001b[0m \u001b[0mepochs\u001b[0m\u001b[0;34m=\u001b[0m\u001b[0mepochs\u001b[0m\u001b[0;34m)\u001b[0m\u001b[0;34m\u001b[0m\u001b[0;34m\u001b[0m\u001b[0m\n\u001b[1;32m     17\u001b[0m \u001b[0mgrid\u001b[0m \u001b[0;34m=\u001b[0m \u001b[0mGridSearchCV\u001b[0m\u001b[0;34m(\u001b[0m\u001b[0mestimator\u001b[0m\u001b[0;34m=\u001b[0m\u001b[0mmodel\u001b[0m\u001b[0;34m,\u001b[0m \u001b[0mparam_grid\u001b[0m\u001b[0;34m=\u001b[0m\u001b[0mparam_grid\u001b[0m\u001b[0;34m,\u001b[0m \u001b[0mscoring\u001b[0m\u001b[0;34m=\u001b[0m\u001b[0;34m'neg_mean_squared_error'\u001b[0m\u001b[0;34m,\u001b[0m \u001b[0mn_jobs\u001b[0m\u001b[0;34m=\u001b[0m\u001b[0;34m-\u001b[0m\u001b[0;36m1\u001b[0m\u001b[0;34m)\u001b[0m\u001b[0;34m\u001b[0m\u001b[0;34m\u001b[0m\u001b[0m\n\u001b[0;32m---> 18\u001b[0;31m \u001b[0mgrid_result\u001b[0m \u001b[0;34m=\u001b[0m \u001b[0mgrid\u001b[0m\u001b[0;34m.\u001b[0m\u001b[0mfit\u001b[0m\u001b[0;34m(\u001b[0m\u001b[0mX_train\u001b[0m\u001b[0;34m,\u001b[0m \u001b[0my_train\u001b[0m\u001b[0;34m)\u001b[0m\u001b[0;34m\u001b[0m\u001b[0;34m\u001b[0m\u001b[0m\n\u001b[0m\u001b[1;32m     19\u001b[0m \u001b[0;34m\u001b[0m\u001b[0m\n\u001b[1;32m     20\u001b[0m \u001b[0mprint\u001b[0m\u001b[0;34m(\u001b[0m\u001b[0;34m\"Best: %f using %s\"\u001b[0m \u001b[0;34m%\u001b[0m \u001b[0;34m(\u001b[0m\u001b[0mgrid_result\u001b[0m\u001b[0;34m.\u001b[0m\u001b[0mbest_score_\u001b[0m\u001b[0;34m,\u001b[0m \u001b[0mgrid_result\u001b[0m\u001b[0;34m.\u001b[0m\u001b[0mbest_params_\u001b[0m\u001b[0;34m)\u001b[0m\u001b[0;34m)\u001b[0m\u001b[0;34m\u001b[0m\u001b[0;34m\u001b[0m\u001b[0m\n",
            "\u001b[0;32m/usr/local/lib/python3.6/dist-packages/sklearn/model_selection/_search.py\u001b[0m in \u001b[0;36mfit\u001b[0;34m(self, X, y, groups, **fit_params)\u001b[0m\n\u001b[1;32m    653\u001b[0m         \u001b[0mn_splits\u001b[0m \u001b[0;34m=\u001b[0m \u001b[0mcv\u001b[0m\u001b[0;34m.\u001b[0m\u001b[0mget_n_splits\u001b[0m\u001b[0;34m(\u001b[0m\u001b[0mX\u001b[0m\u001b[0;34m,\u001b[0m \u001b[0my\u001b[0m\u001b[0;34m,\u001b[0m \u001b[0mgroups\u001b[0m\u001b[0;34m)\u001b[0m\u001b[0;34m\u001b[0m\u001b[0;34m\u001b[0m\u001b[0m\n\u001b[1;32m    654\u001b[0m \u001b[0;34m\u001b[0m\u001b[0m\n\u001b[0;32m--> 655\u001b[0;31m         \u001b[0mbase_estimator\u001b[0m \u001b[0;34m=\u001b[0m \u001b[0mclone\u001b[0m\u001b[0;34m(\u001b[0m\u001b[0mself\u001b[0m\u001b[0;34m.\u001b[0m\u001b[0mestimator\u001b[0m\u001b[0;34m)\u001b[0m\u001b[0;34m\u001b[0m\u001b[0;34m\u001b[0m\u001b[0m\n\u001b[0m\u001b[1;32m    656\u001b[0m \u001b[0;34m\u001b[0m\u001b[0m\n\u001b[1;32m    657\u001b[0m         parallel = Parallel(n_jobs=self.n_jobs, verbose=self.verbose,\n",
            "\u001b[0;32m/usr/local/lib/python3.6/dist-packages/sklearn/base.py\u001b[0m in \u001b[0;36mclone\u001b[0;34m(estimator, safe)\u001b[0m\n\u001b[1;32m     65\u001b[0m                             \u001b[0;34m\"it does not seem to be a scikit-learn estimator \"\u001b[0m\u001b[0;34m\u001b[0m\u001b[0;34m\u001b[0m\u001b[0m\n\u001b[1;32m     66\u001b[0m                             \u001b[0;34m\"as it does not implement a 'get_params' methods.\"\u001b[0m\u001b[0;34m\u001b[0m\u001b[0;34m\u001b[0m\u001b[0m\n\u001b[0;32m---> 67\u001b[0;31m                             % (repr(estimator), type(estimator)))\n\u001b[0m\u001b[1;32m     68\u001b[0m     \u001b[0mklass\u001b[0m \u001b[0;34m=\u001b[0m \u001b[0mestimator\u001b[0m\u001b[0;34m.\u001b[0m\u001b[0m__class__\u001b[0m\u001b[0;34m\u001b[0m\u001b[0;34m\u001b[0m\u001b[0m\n\u001b[1;32m     69\u001b[0m     \u001b[0mnew_object_params\u001b[0m \u001b[0;34m=\u001b[0m \u001b[0mestimator\u001b[0m\u001b[0;34m.\u001b[0m\u001b[0mget_params\u001b[0m\u001b[0;34m(\u001b[0m\u001b[0mdeep\u001b[0m\u001b[0;34m=\u001b[0m\u001b[0;32mFalse\u001b[0m\u001b[0;34m)\u001b[0m\u001b[0;34m\u001b[0m\u001b[0;34m\u001b[0m\u001b[0m\n",
            "\u001b[0;31mTypeError\u001b[0m: Cannot clone object '<tensorflow.python.keras.engine.sequential.Sequential object at 0x7f833ed86f60>' (type <class 'tensorflow.python.keras.engine.sequential.Sequential'>): it does not seem to be a scikit-learn estimator as it does not implement a 'get_params' methods."
          ]
        }
      ]
    },
    {
      "cell_type": "markdown",
      "source": [
        "We can observe an error in the hyperparameter tuning procedure using native Sklearn, because the defined model is a Sequential model implemented by Keras, not a scikit-learn estimator. In order to correct this error, we will integrate Sklearn and Keras properly, by (a) creating a `create_model` function that allows to create the model in an automated way, and (b) defining a `KerasRegressor` model which is an implementation of the scikit-learn regressor API for Keras"
      ],
      "metadata": {
        "id": "DiZgsQebnk7m"
      }
    },
    {
      "cell_type": "code",
      "metadata": {
        "id": "KBqYpM4bXCCK",
        "colab": {
          "base_uri": "https://localhost:8080/",
          "height": 51
        },
        "outputId": "a1d0c4f4-eefe-42ad-a1dc-d2c1c254815c"
      },
      "source": [
        "# ----------------------------- Functional Tuning - Option 1: using Sklearn  ------------------------------\n",
        "# Goal: tune the batch size and epochs\n",
        "\n",
        "# Import KerasRegressor class\n",
        "from keras.wrappers.scikit_learn import KerasRegressor\n",
        "\n",
        "# Define the model trhough a user-defined function\n",
        "def create_model(optimizer=RMSprop(0.01)):\n",
        "  model = Sequential()\n",
        "  model.add(Dense(10, activation='relu', input_shape=(n_features,)))\n",
        "  model.add(Dense(8, activation='relu'))\n",
        "  model.add(Dense(1))\n",
        "  model.compile(loss='mse', metrics=['mse'], optimizer=optimizer)    # compile the model\n",
        "  return model\n",
        "model = KerasRegressor(build_fn=create_model, verbose=1)\n",
        "\n",
        "# Define the hyperparameters grid to be validated\n",
        "batch_size = [10, 20, 30, 40, 60, 80, 100]\n",
        "epochs = [10, 50, 100]\n",
        "param_grid = dict(batch_size=batch_size, nb_epoch=epochs)\n",
        "model = KerasRegressor(build_fn=create_model, verbose=1)\n",
        "grid = GridSearchCV(estimator=model, param_grid=param_grid, cv=5, n_jobs=-1)\n",
        "\n",
        "# Run the GridSearchCV process\n",
        "grid_result = grid.fit(X_train, y_train, verbose = 1)\n",
        "\n",
        "# Print the results of the best model\n",
        "print('Best params: ' + str(grid_result.best_params_))"
      ],
      "execution_count": null,
      "outputs": [
        {
          "output_type": "stream",
          "text": [
            "33/33 [==============================] - 0s 1ms/step - loss: 500.3896 - mse: 500.3896\n",
            "Best params: {'batch_size': 10, 'nb_epoch': 10}\n"
          ],
          "name": "stdout"
        }
      ]
    },
    {
      "cell_type": "code",
      "metadata": {
        "id": "x5yqTxcWd2tY",
        "colab": {
          "base_uri": "https://localhost:8080/",
          "height": 326
        },
        "outputId": "99eb332e-80e5-41a8-a0f5-35b5d5d4351f"
      },
      "source": [
        "# Import the cross validation evaluator\n",
        "from sklearn.model_selection import cross_val_score\n",
        "\n",
        "# Measure the model's performance\n",
        "results = cross_val_score(grid.best_estimator_, X_test, y_test, cv=5)\n",
        "print('Results: \\n  * Mean:', -results.mean(), '\\n  * Std:', results.std())"
      ],
      "execution_count": null,
      "outputs": [
        {
          "output_type": "stream",
          "text": [
            "7/7 [==============================] - 0s 2ms/step - loss: 335.7493 - mse: 335.7493\n",
            "2/2 [==============================] - 0s 5ms/step - loss: 94.7955 - mse: 94.7955\n",
            "7/7 [==============================] - 0s 2ms/step - loss: 284.1954 - mse: 284.1954\n",
            "WARNING:tensorflow:5 out of the last 39 calls to <function Model.make_test_function.<locals>.test_function at 0x7f83332008c8> triggered tf.function retracing. Tracing is expensive and the excessive number of tracings could be due to (1) creating @tf.function repeatedly in a loop, (2) passing tensors with different shapes, (3) passing Python objects instead of tensors. For (1), please define your @tf.function outside of the loop. For (2), @tf.function has experimental_relax_shapes=True option that relaxes argument shapes that can avoid unnecessary retracing. For (3), please refer to https://www.tensorflow.org/tutorials/customization/performance#python_or_tensor_args and https://www.tensorflow.org/api_docs/python/tf/function for  more details.\n",
            "2/2 [==============================] - 0s 5ms/step - loss: 65.5752 - mse: 65.5752\n",
            "7/7 [==============================] - 0s 2ms/step - loss: 2111.4053 - mse: 2111.4053\n",
            "WARNING:tensorflow:5 out of the last 11 calls to <function Model.make_test_function.<locals>.test_function at 0x7f8337e4a598> triggered tf.function retracing. Tracing is expensive and the excessive number of tracings could be due to (1) creating @tf.function repeatedly in a loop, (2) passing tensors with different shapes, (3) passing Python objects instead of tensors. For (1), please define your @tf.function outside of the loop. For (2), @tf.function has experimental_relax_shapes=True option that relaxes argument shapes that can avoid unnecessary retracing. For (3), please refer to https://www.tensorflow.org/tutorials/customization/performance#python_or_tensor_args and https://www.tensorflow.org/api_docs/python/tf/function for  more details.\n",
            "2/2 [==============================] - 0s 3ms/step - loss: 1469.7395 - mse: 1469.7395\n",
            "7/7 [==============================] - 0s 2ms/step - loss: 1625.2103 - mse: 1625.2103\n",
            "WARNING:tensorflow:6 out of the last 13 calls to <function Model.make_test_function.<locals>.test_function at 0x7f833eb9f950> triggered tf.function retracing. Tracing is expensive and the excessive number of tracings could be due to (1) creating @tf.function repeatedly in a loop, (2) passing tensors with different shapes, (3) passing Python objects instead of tensors. For (1), please define your @tf.function outside of the loop. For (2), @tf.function has experimental_relax_shapes=True option that relaxes argument shapes that can avoid unnecessary retracing. For (3), please refer to https://www.tensorflow.org/tutorials/customization/performance#python_or_tensor_args and https://www.tensorflow.org/api_docs/python/tf/function for  more details.\n",
            "2/2 [==============================] - 0s 5ms/step - loss: 455.5634 - mse: 455.5634\n",
            "7/7 [==============================] - 0s 2ms/step - loss: 1014.8038 - mse: 1014.8038\n",
            "WARNING:tensorflow:6 out of the last 12 calls to <function Model.make_test_function.<locals>.test_function at 0x7f833fa02a60> triggered tf.function retracing. Tracing is expensive and the excessive number of tracings could be due to (1) creating @tf.function repeatedly in a loop, (2) passing tensors with different shapes, (3) passing Python objects instead of tensors. For (1), please define your @tf.function outside of the loop. For (2), @tf.function has experimental_relax_shapes=True option that relaxes argument shapes that can avoid unnecessary retracing. For (3), please refer to https://www.tensorflow.org/tutorials/customization/performance#python_or_tensor_args and https://www.tensorflow.org/api_docs/python/tf/function for  more details.\n",
            "2/2 [==============================] - 0s 4ms/step - loss: 139.6336 - mse: 139.6336\n",
            "Results: \n",
            "  * Mean: 445.06143951416016 \n",
            "  * Std: 531.0475750207843\n"
          ],
          "name": "stdout"
        }
      ]
    },
    {
      "cell_type": "markdown",
      "source": [
        "#### **Implementing hyperparameter tuning with Keras**\n",
        "Now we will go through the process of automating hyperparameter tuning using **Random Search** and **Keras**. Random Search is a hyperparameter search procedure that is performed on a defined grid of hyperparameters. However, not all hyperparameter combinations are used to train a new model, only some selected randomly, while a process of cross-validation to measure the performance of temporal models. Once the process is complete, the hyperparameters and the best performing model are chosen.\n",
        "\n",
        "Let's take a look at the implementation of Random Search with Keras, following the steps:\n",
        "\n",
        "0. Install and import all the packages needed\n",
        "1. Define the general architecture of the model through a creation function\n",
        "2. Define the hyperparameters grid to be validated\n",
        "3. Run the GridSearchCV process\n",
        "4. Print the results of the best model\n",
        "\n",
        "To execute the hyperparameter tuning procedure we will use the `keras-tuner`, a library that helps you pick the optimal set of hyperparameters for your TensorFlow model."
      ],
      "metadata": {
        "id": "pRffIdGsnnXY"
      }
    },
    {
      "cell_type": "code",
      "metadata": {
        "id": "inRKd7kY2NEY",
        "colab": {
          "base_uri": "https://localhost:8080/",
          "height": 1000
        },
        "outputId": "79bfbd63-9295-473d-d45d-b099a1e737a6"
      },
      "source": [
        "# ----------------------------- Functional Tuning - Option 2: using Keras Tuner ------------------------------\n",
        "# Goal: tune the learning rate\n",
        "\n",
        "# 0. Install and import all the packages needed\n",
        "!pip install -q -U keras-tuner\n",
        "import kerastuner as kt\n",
        "\n",
        "# 1. Define the general architecture of the model through a creation user-defined function\n",
        "def model_builder(hp):\n",
        "  model = Sequential()\n",
        "  model.add(Dense(10, activation='relu', input_shape=(n_features,)))\n",
        "  model.add(Dense(8, activation='relu'))\n",
        "  model.add(Dense(1))\n",
        "  hp_learning_rate = hp.Choice('learning_rate', values = [1e-1, 1e-2, 1e-3, 1e-4]) # Tuning the learning rate (four different values to test: 0.1, 0.01, 0.001, 0.0001)\n",
        "  optimizer = RMSprop(learning_rate = hp_learning_rate)                            # Defining the optimizer\n",
        "  model.compile(loss='mse',metrics=['mse'], optimizer=optimizer)                   # Compiling the model \n",
        "  return model                                                                     # Returning the defined model\n",
        "\n",
        "# 2. Define the hyperparameters grid to be validated\n",
        "tuner_rs = kt.RandomSearch(\n",
        "              model_builder,                # Takes hyperparameters (hp) and returns a Model instance\n",
        "              objective = 'mse',            # Name of model metric to minimize or maximize\n",
        "              seed = 42,                    # Random seed for replication purposes\n",
        "              max_trials = 5,               # Total number of trials (model configurations) to test at most. Note that the oracle may interrupt the search before max_trial models have been tested.\n",
        "              directory='random_search')    # Path to the working directory (relative).\n",
        "\n",
        "# 3. Run the GridSearchCV process\n",
        "tuner_rs.search(X_train, y_train, epochs=10, validation_split=0.2, verbose=1)"
      ],
      "execution_count": null,
      "outputs": [
        {
          "output_type": "stream",
          "text": [
            "Epoch 1/10\n",
            "9/9 [==============================] - 0s 20ms/step - loss: 5115.7114 - mse: 5115.7114 - val_loss: 527.6143 - val_mse: 527.6143\n",
            "Epoch 2/10\n",
            "9/9 [==============================] - 0s 6ms/step - loss: 631.4748 - mse: 631.4748 - val_loss: 486.6498 - val_mse: 486.6498\n",
            "Epoch 3/10\n",
            "9/9 [==============================] - 0s 5ms/step - loss: 591.8683 - mse: 591.8683 - val_loss: 451.8018 - val_mse: 451.8018\n",
            "Epoch 4/10\n",
            "9/9 [==============================] - 0s 6ms/step - loss: 553.3091 - mse: 553.3091 - val_loss: 405.2310 - val_mse: 405.2310\n",
            "Epoch 5/10\n",
            "9/9 [==============================] - 0s 5ms/step - loss: 415.7266 - mse: 415.7266 - val_loss: 137.3820 - val_mse: 137.3820\n",
            "Epoch 6/10\n",
            "9/9 [==============================] - 0s 5ms/step - loss: 181.2757 - mse: 181.2757 - val_loss: 349.1423 - val_mse: 349.1423\n",
            "Epoch 7/10\n",
            "9/9 [==============================] - 0s 4ms/step - loss: 241.5480 - mse: 241.5480 - val_loss: 628.4697 - val_mse: 628.4697\n",
            "Epoch 8/10\n",
            "9/9 [==============================] - 0s 4ms/step - loss: 427.2863 - mse: 427.2863 - val_loss: 153.9367 - val_mse: 153.9367\n",
            "Epoch 9/10\n",
            "9/9 [==============================] - 0s 5ms/step - loss: 121.7307 - mse: 121.7307 - val_loss: 87.7117 - val_mse: 87.7117\n",
            "Epoch 10/10\n",
            "9/9 [==============================] - 0s 4ms/step - loss: 143.4021 - mse: 143.4021 - val_loss: 3868.4473 - val_mse: 3868.4473\n",
            "Epoch 1/10\n",
            "9/9 [==============================] - 0s 17ms/step - loss: 7119.2725 - mse: 7119.2725 - val_loss: 49.7455 - val_mse: 49.7455\n",
            "Epoch 2/10\n",
            "9/9 [==============================] - 0s 5ms/step - loss: 94.0848 - mse: 94.0848 - val_loss: 119.7478 - val_mse: 119.7478\n",
            "Epoch 3/10\n",
            "9/9 [==============================] - 0s 4ms/step - loss: 106.9504 - mse: 106.9504 - val_loss: 200.1315 - val_mse: 200.1315\n",
            "Epoch 4/10\n",
            "9/9 [==============================] - 0s 4ms/step - loss: 133.2470 - mse: 133.2470 - val_loss: 1621.7432 - val_mse: 1621.7432\n",
            "Epoch 5/10\n",
            "9/9 [==============================] - 0s 4ms/step - loss: 542.2847 - mse: 542.2847 - val_loss: 259.2349 - val_mse: 259.2349\n",
            "Epoch 6/10\n",
            "9/9 [==============================] - 0s 4ms/step - loss: 167.7371 - mse: 167.7371 - val_loss: 133.8815 - val_mse: 133.8815\n",
            "Epoch 7/10\n",
            "9/9 [==============================] - 0s 4ms/step - loss: 219.6196 - mse: 219.6196 - val_loss: 6029.8018 - val_mse: 6029.8018\n",
            "Epoch 8/10\n",
            "9/9 [==============================] - 0s 4ms/step - loss: 1249.7904 - mse: 1249.7904 - val_loss: 331.4357 - val_mse: 331.4357\n",
            "Epoch 9/10\n",
            "9/9 [==============================] - 0s 4ms/step - loss: 394.7971 - mse: 394.7971 - val_loss: 235.2882 - val_mse: 235.2882\n",
            "Epoch 10/10\n",
            "9/9 [==============================] - 0s 3ms/step - loss: 273.5750 - mse: 273.5750 - val_loss: 115.4428 - val_mse: 115.4428\n"
          ],
          "name": "stdout"
        },
        {
          "output_type": "display_data",
          "data": {
            "text/html": [
              "<span style=\"color:#4527A0\"><h1 style=\"font-size:18px\">Trial complete</h1></span>"
            ],
            "text/plain": [
              "<IPython.core.display.HTML object>"
            ]
          },
          "metadata": {
            "tags": []
          }
        },
        {
          "output_type": "display_data",
          "data": {
            "text/html": [
              "<span style=\"color:#4527A0\"><h1 style=\"font-size:18px\">Trial summary</h1></span>"
            ],
            "text/plain": [
              "<IPython.core.display.HTML object>"
            ]
          },
          "metadata": {
            "tags": []
          }
        },
        {
          "output_type": "display_data",
          "data": {
            "text/html": [
              "<span style=\"color:cyan\"> |-Trial ID: a22ee1034e8ea2401e4b61fb1a0173b2</span>"
            ],
            "text/plain": [
              "<IPython.core.display.HTML object>"
            ]
          },
          "metadata": {
            "tags": []
          }
        },
        {
          "output_type": "display_data",
          "data": {
            "text/html": [
              "<span style=\"color:cyan\"> |-Score: 107.90773391723633</span>"
            ],
            "text/plain": [
              "<IPython.core.display.HTML object>"
            ]
          },
          "metadata": {
            "tags": []
          }
        },
        {
          "output_type": "display_data",
          "data": {
            "text/html": [
              "<span style=\"color:cyan\"> |-Best step: 0</span>"
            ],
            "text/plain": [
              "<IPython.core.display.HTML object>"
            ]
          },
          "metadata": {
            "tags": []
          }
        },
        {
          "output_type": "display_data",
          "data": {
            "text/html": [
              "<span style=\"color:#7E57C2\"><h2 style=\"font-size:16px\">Hyperparameters:</h2></span>"
            ],
            "text/plain": [
              "<IPython.core.display.HTML object>"
            ]
          },
          "metadata": {
            "tags": []
          }
        },
        {
          "output_type": "display_data",
          "data": {
            "text/html": [
              "<span style=\"color:cyan\"> |-learning_rate: 0.1</span>"
            ],
            "text/plain": [
              "<IPython.core.display.HTML object>"
            ]
          },
          "metadata": {
            "tags": []
          }
        },
        {
          "output_type": "stream",
          "text": [
            "Epoch 1/10\n",
            "9/9 [==============================] - 0s 18ms/step - loss: 2369.5652 - mse: 2369.5652 - val_loss: 2086.2415 - val_mse: 2086.2415\n",
            "Epoch 2/10\n",
            "9/9 [==============================] - 0s 5ms/step - loss: 2319.8223 - mse: 2319.8223 - val_loss: 2047.9214 - val_mse: 2047.9214\n",
            "Epoch 3/10\n",
            "9/9 [==============================] - 0s 5ms/step - loss: 2281.5579 - mse: 2281.5579 - val_loss: 2013.5859 - val_mse: 2013.5859\n",
            "Epoch 4/10\n",
            "9/9 [==============================] - 0s 5ms/step - loss: 2246.2014 - mse: 2246.2014 - val_loss: 1980.2305 - val_mse: 1980.2305\n",
            "Epoch 5/10\n",
            "9/9 [==============================] - 0s 5ms/step - loss: 2211.8816 - mse: 2211.8816 - val_loss: 1951.4897 - val_mse: 1951.4897\n",
            "Epoch 6/10\n",
            "9/9 [==============================] - 0s 5ms/step - loss: 2181.1345 - mse: 2181.1345 - val_loss: 1919.9293 - val_mse: 1919.9293\n",
            "Epoch 7/10\n",
            "9/9 [==============================] - 0s 5ms/step - loss: 2148.5950 - mse: 2148.5950 - val_loss: 1888.0750 - val_mse: 1888.0750\n",
            "Epoch 8/10\n",
            "9/9 [==============================] - 0s 5ms/step - loss: 2116.1487 - mse: 2116.1487 - val_loss: 1857.7325 - val_mse: 1857.7325\n",
            "Epoch 9/10\n",
            "9/9 [==============================] - 0s 5ms/step - loss: 2084.9092 - mse: 2084.9092 - val_loss: 1827.8527 - val_mse: 1827.8527\n",
            "Epoch 10/10\n",
            "9/9 [==============================] - 0s 5ms/step - loss: 2054.2222 - mse: 2054.2222 - val_loss: 1798.5969 - val_mse: 1798.5969\n",
            "Epoch 1/10\n",
            "9/9 [==============================] - 0s 17ms/step - loss: 46262.2500 - mse: 46262.2500 - val_loss: 52689.9102 - val_mse: 52689.9102\n",
            "Epoch 2/10\n",
            "9/9 [==============================] - 0s 4ms/step - loss: 44406.0391 - mse: 44406.0391 - val_loss: 51135.9492 - val_mse: 51135.9492\n",
            "Epoch 3/10\n",
            "9/9 [==============================] - 0s 4ms/step - loss: 43084.2109 - mse: 43084.2109 - val_loss: 49638.4531 - val_mse: 49638.4531\n",
            "Epoch 4/10\n",
            "9/9 [==============================] - 0s 4ms/step - loss: 41827.6094 - mse: 41827.6094 - val_loss: 48166.7031 - val_mse: 48166.7031\n",
            "Epoch 5/10\n",
            "9/9 [==============================] - 0s 4ms/step - loss: 40603.2734 - mse: 40603.2734 - val_loss: 46720.9102 - val_mse: 46720.9102\n",
            "Epoch 6/10\n",
            "9/9 [==============================] - 0s 4ms/step - loss: 39382.1953 - mse: 39382.1953 - val_loss: 45200.4766 - val_mse: 45200.4766\n",
            "Epoch 7/10\n",
            "9/9 [==============================] - 0s 4ms/step - loss: 38124.4648 - mse: 38124.4648 - val_loss: 43779.2305 - val_mse: 43779.2305\n",
            "Epoch 8/10\n",
            "9/9 [==============================] - 0s 4ms/step - loss: 36953.8125 - mse: 36953.8125 - val_loss: 42453.3242 - val_mse: 42453.3242\n",
            "Epoch 9/10\n",
            "9/9 [==============================] - 0s 4ms/step - loss: 35829.7500 - mse: 35829.7500 - val_loss: 41130.1445 - val_mse: 41130.1445\n",
            "Epoch 10/10\n",
            "9/9 [==============================] - 0s 4ms/step - loss: 34717.1055 - mse: 34717.1055 - val_loss: 39952.5430 - val_mse: 39952.5430\n"
          ],
          "name": "stdout"
        },
        {
          "output_type": "display_data",
          "data": {
            "text/html": [
              "<span style=\"color:#4527A0\"><h1 style=\"font-size:18px\">Trial complete</h1></span>"
            ],
            "text/plain": [
              "<IPython.core.display.HTML object>"
            ]
          },
          "metadata": {
            "tags": []
          }
        },
        {
          "output_type": "display_data",
          "data": {
            "text/html": [
              "<span style=\"color:#4527A0\"><h1 style=\"font-size:18px\">Trial summary</h1></span>"
            ],
            "text/plain": [
              "<IPython.core.display.HTML object>"
            ]
          },
          "metadata": {
            "tags": []
          }
        },
        {
          "output_type": "display_data",
          "data": {
            "text/html": [
              "<span style=\"color:cyan\"> |-Trial ID: cafa3fde4808ac9b513957c21fb1bb15</span>"
            ],
            "text/plain": [
              "<IPython.core.display.HTML object>"
            ]
          },
          "metadata": {
            "tags": []
          }
        },
        {
          "output_type": "display_data",
          "data": {
            "text/html": [
              "<span style=\"color:cyan\"> |-Score: 18385.663818359375</span>"
            ],
            "text/plain": [
              "<IPython.core.display.HTML object>"
            ]
          },
          "metadata": {
            "tags": []
          }
        },
        {
          "output_type": "display_data",
          "data": {
            "text/html": [
              "<span style=\"color:cyan\"> |-Best step: 0</span>"
            ],
            "text/plain": [
              "<IPython.core.display.HTML object>"
            ]
          },
          "metadata": {
            "tags": []
          }
        },
        {
          "output_type": "display_data",
          "data": {
            "text/html": [
              "<span style=\"color:#7E57C2\"><h2 style=\"font-size:16px\">Hyperparameters:</h2></span>"
            ],
            "text/plain": [
              "<IPython.core.display.HTML object>"
            ]
          },
          "metadata": {
            "tags": []
          }
        },
        {
          "output_type": "display_data",
          "data": {
            "text/html": [
              "<span style=\"color:cyan\"> |-learning_rate: 0.0001</span>"
            ],
            "text/plain": [
              "<IPython.core.display.HTML object>"
            ]
          },
          "metadata": {
            "tags": []
          }
        },
        {
          "output_type": "stream",
          "text": [
            "Epoch 1/10\n",
            "9/9 [==============================] - 0s 21ms/step - loss: 167.4187 - mse: 167.4187 - val_loss: 111.0479 - val_mse: 111.0479\n",
            "Epoch 2/10\n",
            "9/9 [==============================] - 0s 5ms/step - loss: 152.3961 - mse: 152.3961 - val_loss: 99.7410 - val_mse: 99.7410\n",
            "Epoch 3/10\n",
            "9/9 [==============================] - 0s 6ms/step - loss: 144.1482 - mse: 144.1482 - val_loss: 91.9177 - val_mse: 91.9177\n",
            "Epoch 4/10\n",
            "9/9 [==============================] - 0s 5ms/step - loss: 137.6506 - mse: 137.6506 - val_loss: 85.9139 - val_mse: 85.9139\n",
            "Epoch 5/10\n",
            "9/9 [==============================] - 0s 5ms/step - loss: 133.1032 - mse: 133.1032 - val_loss: 81.7799 - val_mse: 81.7799\n",
            "Epoch 6/10\n",
            "9/9 [==============================] - 0s 5ms/step - loss: 128.7415 - mse: 128.7415 - val_loss: 78.0218 - val_mse: 78.0218\n",
            "Epoch 7/10\n",
            "9/9 [==============================] - 0s 5ms/step - loss: 124.9512 - mse: 124.9512 - val_loss: 74.4188 - val_mse: 74.4188\n",
            "Epoch 8/10\n",
            "9/9 [==============================] - 0s 5ms/step - loss: 121.6608 - mse: 121.6608 - val_loss: 71.6401 - val_mse: 71.6401\n",
            "Epoch 9/10\n",
            "9/9 [==============================] - 0s 5ms/step - loss: 118.4186 - mse: 118.4186 - val_loss: 68.5571 - val_mse: 68.5571\n",
            "Epoch 10/10\n",
            "9/9 [==============================] - 0s 5ms/step - loss: 114.7115 - mse: 114.7115 - val_loss: 66.8739 - val_mse: 66.8739\n",
            "Epoch 1/10\n",
            "9/9 [==============================] - 0s 17ms/step - loss: 36598.7344 - mse: 36598.7344 - val_loss: 22937.0820 - val_mse: 22937.0820\n",
            "Epoch 2/10\n",
            "9/9 [==============================] - 0s 4ms/step - loss: 19166.4160 - mse: 19166.4160 - val_loss: 12131.9092 - val_mse: 12131.9092\n",
            "Epoch 3/10\n",
            "9/9 [==============================] - 0s 4ms/step - loss: 10303.7236 - mse: 10303.7236 - val_loss: 5962.5356 - val_mse: 5962.5356\n",
            "Epoch 4/10\n",
            "9/9 [==============================] - 0s 4ms/step - loss: 5258.7271 - mse: 5258.7271 - val_loss: 3021.6514 - val_mse: 3021.6514\n",
            "Epoch 5/10\n",
            "9/9 [==============================] - 0s 4ms/step - loss: 2794.2710 - mse: 2794.2710 - val_loss: 2153.0938 - val_mse: 2153.0938\n",
            "Epoch 6/10\n",
            "9/9 [==============================] - 0s 3ms/step - loss: 1964.4718 - mse: 1964.4718 - val_loss: 1860.6332 - val_mse: 1860.6332\n",
            "Epoch 7/10\n",
            "9/9 [==============================] - 0s 4ms/step - loss: 1626.5642 - mse: 1626.5642 - val_loss: 1628.3406 - val_mse: 1628.3406\n",
            "Epoch 8/10\n",
            "9/9 [==============================] - 0s 4ms/step - loss: 1364.4591 - mse: 1364.4591 - val_loss: 1365.9147 - val_mse: 1365.9147\n",
            "Epoch 9/10\n",
            "9/9 [==============================] - 0s 4ms/step - loss: 1132.6879 - mse: 1132.6879 - val_loss: 1114.1368 - val_mse: 1114.1368\n",
            "Epoch 10/10\n",
            "9/9 [==============================] - 0s 4ms/step - loss: 934.8654 - mse: 934.8654 - val_loss: 1227.3302 - val_mse: 1227.3302\n"
          ],
          "name": "stdout"
        },
        {
          "output_type": "display_data",
          "data": {
            "text/html": [
              "<span style=\"color:#4527A0\"><h1 style=\"font-size:18px\">Trial complete</h1></span>"
            ],
            "text/plain": [
              "<IPython.core.display.HTML object>"
            ]
          },
          "metadata": {
            "tags": []
          }
        },
        {
          "output_type": "display_data",
          "data": {
            "text/html": [
              "<span style=\"color:#4527A0\"><h1 style=\"font-size:18px\">Trial summary</h1></span>"
            ],
            "text/plain": [
              "<IPython.core.display.HTML object>"
            ]
          },
          "metadata": {
            "tags": []
          }
        },
        {
          "output_type": "display_data",
          "data": {
            "text/html": [
              "<span style=\"color:cyan\"> |-Trial ID: 0ceae8bd9ae08bcb7b22c37b7bff1f56</span>"
            ],
            "text/plain": [
              "<IPython.core.display.HTML object>"
            ]
          },
          "metadata": {
            "tags": []
          }
        },
        {
          "output_type": "display_data",
          "data": {
            "text/html": [
              "<span style=\"color:cyan\"> |-Score: 524.7884521484375</span>"
            ],
            "text/plain": [
              "<IPython.core.display.HTML object>"
            ]
          },
          "metadata": {
            "tags": []
          }
        },
        {
          "output_type": "display_data",
          "data": {
            "text/html": [
              "<span style=\"color:cyan\"> |-Best step: 0</span>"
            ],
            "text/plain": [
              "<IPython.core.display.HTML object>"
            ]
          },
          "metadata": {
            "tags": []
          }
        },
        {
          "output_type": "display_data",
          "data": {
            "text/html": [
              "<span style=\"color:#7E57C2\"><h2 style=\"font-size:16px\">Hyperparameters:</h2></span>"
            ],
            "text/plain": [
              "<IPython.core.display.HTML object>"
            ]
          },
          "metadata": {
            "tags": []
          }
        },
        {
          "output_type": "display_data",
          "data": {
            "text/html": [
              "<span style=\"color:cyan\"> |-learning_rate: 0.001</span>"
            ],
            "text/plain": [
              "<IPython.core.display.HTML object>"
            ]
          },
          "metadata": {
            "tags": []
          }
        },
        {
          "output_type": "stream",
          "text": [
            "Epoch 1/10\n",
            "9/9 [==============================] - 0s 19ms/step - loss: 344.1214 - mse: 344.1214 - val_loss: 285.5694 - val_mse: 285.5694\n",
            "Epoch 2/10\n",
            "9/9 [==============================] - 0s 5ms/step - loss: 159.7777 - mse: 159.7777 - val_loss: 238.0298 - val_mse: 238.0298\n",
            "Epoch 3/10\n",
            "9/9 [==============================] - 0s 4ms/step - loss: 165.3195 - mse: 165.3195 - val_loss: 193.2417 - val_mse: 193.2417\n",
            "Epoch 4/10\n",
            "9/9 [==============================] - 0s 5ms/step - loss: 141.4814 - mse: 141.4814 - val_loss: 584.3061 - val_mse: 584.3061\n",
            "Epoch 5/10\n",
            "9/9 [==============================] - 0s 4ms/step - loss: 141.6709 - mse: 141.6709 - val_loss: 136.0439 - val_mse: 136.0439\n",
            "Epoch 6/10\n",
            "9/9 [==============================] - 0s 5ms/step - loss: 135.3921 - mse: 135.3921 - val_loss: 522.0715 - val_mse: 522.0715\n",
            "Epoch 7/10\n",
            "9/9 [==============================] - 0s 4ms/step - loss: 150.2538 - mse: 150.2538 - val_loss: 673.9136 - val_mse: 673.9136\n",
            "Epoch 8/10\n",
            "9/9 [==============================] - 0s 4ms/step - loss: 190.2688 - mse: 190.2688 - val_loss: 150.2733 - val_mse: 150.2733\n",
            "Epoch 9/10\n",
            "9/9 [==============================] - 0s 5ms/step - loss: 95.3549 - mse: 95.3549 - val_loss: 45.8120 - val_mse: 45.8120\n",
            "Epoch 10/10\n",
            "9/9 [==============================] - 0s 5ms/step - loss: 112.0679 - mse: 112.0679 - val_loss: 621.9553 - val_mse: 621.9553\n",
            "Epoch 1/10\n",
            "9/9 [==============================] - 0s 18ms/step - loss: 686.0698 - mse: 686.0698 - val_loss: 226.5338 - val_mse: 226.5338\n",
            "Epoch 2/10\n",
            "9/9 [==============================] - 0s 4ms/step - loss: 135.9570 - mse: 135.9570 - val_loss: 60.8812 - val_mse: 60.8812\n",
            "Epoch 3/10\n",
            "9/9 [==============================] - 0s 5ms/step - loss: 79.1926 - mse: 79.1926 - val_loss: 72.5660 - val_mse: 72.5660\n",
            "Epoch 4/10\n",
            "9/9 [==============================] - 0s 4ms/step - loss: 99.2560 - mse: 99.2560 - val_loss: 435.5785 - val_mse: 435.5785\n",
            "Epoch 5/10\n",
            "9/9 [==============================] - 0s 4ms/step - loss: 107.4537 - mse: 107.4537 - val_loss: 59.1401 - val_mse: 59.1401\n",
            "Epoch 6/10\n",
            "9/9 [==============================] - 0s 4ms/step - loss: 101.4841 - mse: 101.4841 - val_loss: 237.7310 - val_mse: 237.7310\n",
            "Epoch 7/10\n",
            "9/9 [==============================] - 0s 4ms/step - loss: 114.9605 - mse: 114.9605 - val_loss: 618.4346 - val_mse: 618.4346\n",
            "Epoch 8/10\n",
            "9/9 [==============================] - 0s 3ms/step - loss: 156.3545 - mse: 156.3545 - val_loss: 52.5405 - val_mse: 52.5405\n",
            "Epoch 9/10\n",
            "9/9 [==============================] - 0s 5ms/step - loss: 73.1649 - mse: 73.1649 - val_loss: 35.8674 - val_mse: 35.8674\n",
            "Epoch 10/10\n",
            "9/9 [==============================] - 0s 4ms/step - loss: 80.7216 - mse: 80.7216 - val_loss: 505.6774 - val_mse: 505.6774\n"
          ],
          "name": "stdout"
        },
        {
          "output_type": "display_data",
          "data": {
            "text/html": [
              "<span style=\"color:#4527A0\"><h1 style=\"font-size:18px\">Trial complete</h1></span>"
            ],
            "text/plain": [
              "<IPython.core.display.HTML object>"
            ]
          },
          "metadata": {
            "tags": []
          }
        },
        {
          "output_type": "display_data",
          "data": {
            "text/html": [
              "<span style=\"color:#4527A0\"><h1 style=\"font-size:18px\">Trial summary</h1></span>"
            ],
            "text/plain": [
              "<IPython.core.display.HTML object>"
            ]
          },
          "metadata": {
            "tags": []
          }
        },
        {
          "output_type": "display_data",
          "data": {
            "text/html": [
              "<span style=\"color:cyan\"> |-Trial ID: e92a94e0c97a452405ab725f169fff93</span>"
            ],
            "text/plain": [
              "<IPython.core.display.HTML object>"
            ]
          },
          "metadata": {
            "tags": []
          }
        },
        {
          "output_type": "display_data",
          "data": {
            "text/html": [
              "<span style=\"color:cyan\"> |-Score: 84.25988388061523</span>"
            ],
            "text/plain": [
              "<IPython.core.display.HTML object>"
            ]
          },
          "metadata": {
            "tags": []
          }
        },
        {
          "output_type": "display_data",
          "data": {
            "text/html": [
              "<span style=\"color:cyan\"> |-Best step: 0</span>"
            ],
            "text/plain": [
              "<IPython.core.display.HTML object>"
            ]
          },
          "metadata": {
            "tags": []
          }
        },
        {
          "output_type": "display_data",
          "data": {
            "text/html": [
              "<span style=\"color:#7E57C2\"><h2 style=\"font-size:16px\">Hyperparameters:</h2></span>"
            ],
            "text/plain": [
              "<IPython.core.display.HTML object>"
            ]
          },
          "metadata": {
            "tags": []
          }
        },
        {
          "output_type": "display_data",
          "data": {
            "text/html": [
              "<span style=\"color:cyan\"> |-learning_rate: 0.01</span>"
            ],
            "text/plain": [
              "<IPython.core.display.HTML object>"
            ]
          },
          "metadata": {
            "tags": []
          }
        },
        {
          "output_type": "stream",
          "text": [
            "INFO:tensorflow:Oracle triggered exit\n"
          ],
          "name": "stdout"
        }
      ]
    },
    {
      "cell_type": "code",
      "metadata": {
        "id": "gRy9Aaby_dQt",
        "colab": {
          "base_uri": "https://localhost:8080/",
          "height": 675
        },
        "outputId": "2af1db5e-1e08-4a73-9381-a5827d057dca"
      },
      "source": [
        "# 4.1. Print the summary results of the hyperparameter tuning procedure\n",
        "tuner_rs.results_summary()"
      ],
      "execution_count": null,
      "outputs": [
        {
          "output_type": "display_data",
          "data": {
            "text/html": [
              "<span style=\"color:#4527A0\"><h1 style=\"font-size:18px\">Results summary</h1></span>"
            ],
            "text/plain": [
              "<IPython.core.display.HTML object>"
            ]
          },
          "metadata": {
            "tags": []
          }
        },
        {
          "output_type": "display_data",
          "data": {
            "text/html": [
              "<span style=\"color:cyan\"> |-Results in random_search/untitled_project</span>"
            ],
            "text/plain": [
              "<IPython.core.display.HTML object>"
            ]
          },
          "metadata": {
            "tags": []
          }
        },
        {
          "output_type": "display_data",
          "data": {
            "text/html": [
              "<span style=\"color:cyan\"> |-Showing 10 best trials</span>"
            ],
            "text/plain": [
              "<IPython.core.display.HTML object>"
            ]
          },
          "metadata": {
            "tags": []
          }
        },
        {
          "output_type": "display_data",
          "data": {
            "text/html": [
              "<span style=\"color:cyan\"> |-Objective(name='mse', direction='min')</span>"
            ],
            "text/plain": [
              "<IPython.core.display.HTML object>"
            ]
          },
          "metadata": {
            "tags": []
          }
        },
        {
          "output_type": "display_data",
          "data": {
            "text/html": [
              "<span style=\"color:#4527A0\"><h1 style=\"font-size:18px\">Trial summary</h1></span>"
            ],
            "text/plain": [
              "<IPython.core.display.HTML object>"
            ]
          },
          "metadata": {
            "tags": []
          }
        },
        {
          "output_type": "display_data",
          "data": {
            "text/html": [
              "<span style=\"color:cyan\"> |-Trial ID: e92a94e0c97a452405ab725f169fff93</span>"
            ],
            "text/plain": [
              "<IPython.core.display.HTML object>"
            ]
          },
          "metadata": {
            "tags": []
          }
        },
        {
          "output_type": "display_data",
          "data": {
            "text/html": [
              "<span style=\"color:cyan\"> |-Score: 84.25988388061523</span>"
            ],
            "text/plain": [
              "<IPython.core.display.HTML object>"
            ]
          },
          "metadata": {
            "tags": []
          }
        },
        {
          "output_type": "display_data",
          "data": {
            "text/html": [
              "<span style=\"color:cyan\"> |-Best step: 0</span>"
            ],
            "text/plain": [
              "<IPython.core.display.HTML object>"
            ]
          },
          "metadata": {
            "tags": []
          }
        },
        {
          "output_type": "display_data",
          "data": {
            "text/html": [
              "<span style=\"color:#7E57C2\"><h2 style=\"font-size:16px\">Hyperparameters:</h2></span>"
            ],
            "text/plain": [
              "<IPython.core.display.HTML object>"
            ]
          },
          "metadata": {
            "tags": []
          }
        },
        {
          "output_type": "display_data",
          "data": {
            "text/html": [
              "<span style=\"color:cyan\"> |-learning_rate: 0.01</span>"
            ],
            "text/plain": [
              "<IPython.core.display.HTML object>"
            ]
          },
          "metadata": {
            "tags": []
          }
        },
        {
          "output_type": "display_data",
          "data": {
            "text/html": [
              "<span style=\"color:#4527A0\"><h1 style=\"font-size:18px\">Trial summary</h1></span>"
            ],
            "text/plain": [
              "<IPython.core.display.HTML object>"
            ]
          },
          "metadata": {
            "tags": []
          }
        },
        {
          "output_type": "display_data",
          "data": {
            "text/html": [
              "<span style=\"color:cyan\"> |-Trial ID: a22ee1034e8ea2401e4b61fb1a0173b2</span>"
            ],
            "text/plain": [
              "<IPython.core.display.HTML object>"
            ]
          },
          "metadata": {
            "tags": []
          }
        },
        {
          "output_type": "display_data",
          "data": {
            "text/html": [
              "<span style=\"color:cyan\"> |-Score: 107.90773391723633</span>"
            ],
            "text/plain": [
              "<IPython.core.display.HTML object>"
            ]
          },
          "metadata": {
            "tags": []
          }
        },
        {
          "output_type": "display_data",
          "data": {
            "text/html": [
              "<span style=\"color:cyan\"> |-Best step: 0</span>"
            ],
            "text/plain": [
              "<IPython.core.display.HTML object>"
            ]
          },
          "metadata": {
            "tags": []
          }
        },
        {
          "output_type": "display_data",
          "data": {
            "text/html": [
              "<span style=\"color:#7E57C2\"><h2 style=\"font-size:16px\">Hyperparameters:</h2></span>"
            ],
            "text/plain": [
              "<IPython.core.display.HTML object>"
            ]
          },
          "metadata": {
            "tags": []
          }
        },
        {
          "output_type": "display_data",
          "data": {
            "text/html": [
              "<span style=\"color:cyan\"> |-learning_rate: 0.1</span>"
            ],
            "text/plain": [
              "<IPython.core.display.HTML object>"
            ]
          },
          "metadata": {
            "tags": []
          }
        },
        {
          "output_type": "display_data",
          "data": {
            "text/html": [
              "<span style=\"color:#4527A0\"><h1 style=\"font-size:18px\">Trial summary</h1></span>"
            ],
            "text/plain": [
              "<IPython.core.display.HTML object>"
            ]
          },
          "metadata": {
            "tags": []
          }
        },
        {
          "output_type": "display_data",
          "data": {
            "text/html": [
              "<span style=\"color:cyan\"> |-Trial ID: 0ceae8bd9ae08bcb7b22c37b7bff1f56</span>"
            ],
            "text/plain": [
              "<IPython.core.display.HTML object>"
            ]
          },
          "metadata": {
            "tags": []
          }
        },
        {
          "output_type": "display_data",
          "data": {
            "text/html": [
              "<span style=\"color:cyan\"> |-Score: 524.7884521484375</span>"
            ],
            "text/plain": [
              "<IPython.core.display.HTML object>"
            ]
          },
          "metadata": {
            "tags": []
          }
        },
        {
          "output_type": "display_data",
          "data": {
            "text/html": [
              "<span style=\"color:cyan\"> |-Best step: 0</span>"
            ],
            "text/plain": [
              "<IPython.core.display.HTML object>"
            ]
          },
          "metadata": {
            "tags": []
          }
        },
        {
          "output_type": "display_data",
          "data": {
            "text/html": [
              "<span style=\"color:#7E57C2\"><h2 style=\"font-size:16px\">Hyperparameters:</h2></span>"
            ],
            "text/plain": [
              "<IPython.core.display.HTML object>"
            ]
          },
          "metadata": {
            "tags": []
          }
        },
        {
          "output_type": "display_data",
          "data": {
            "text/html": [
              "<span style=\"color:cyan\"> |-learning_rate: 0.001</span>"
            ],
            "text/plain": [
              "<IPython.core.display.HTML object>"
            ]
          },
          "metadata": {
            "tags": []
          }
        },
        {
          "output_type": "display_data",
          "data": {
            "text/html": [
              "<span style=\"color:#4527A0\"><h1 style=\"font-size:18px\">Trial summary</h1></span>"
            ],
            "text/plain": [
              "<IPython.core.display.HTML object>"
            ]
          },
          "metadata": {
            "tags": []
          }
        },
        {
          "output_type": "display_data",
          "data": {
            "text/html": [
              "<span style=\"color:cyan\"> |-Trial ID: cafa3fde4808ac9b513957c21fb1bb15</span>"
            ],
            "text/plain": [
              "<IPython.core.display.HTML object>"
            ]
          },
          "metadata": {
            "tags": []
          }
        },
        {
          "output_type": "display_data",
          "data": {
            "text/html": [
              "<span style=\"color:cyan\"> |-Score: 18385.663818359375</span>"
            ],
            "text/plain": [
              "<IPython.core.display.HTML object>"
            ]
          },
          "metadata": {
            "tags": []
          }
        },
        {
          "output_type": "display_data",
          "data": {
            "text/html": [
              "<span style=\"color:cyan\"> |-Best step: 0</span>"
            ],
            "text/plain": [
              "<IPython.core.display.HTML object>"
            ]
          },
          "metadata": {
            "tags": []
          }
        },
        {
          "output_type": "display_data",
          "data": {
            "text/html": [
              "<span style=\"color:#7E57C2\"><h2 style=\"font-size:16px\">Hyperparameters:</h2></span>"
            ],
            "text/plain": [
              "<IPython.core.display.HTML object>"
            ]
          },
          "metadata": {
            "tags": []
          }
        },
        {
          "output_type": "display_data",
          "data": {
            "text/html": [
              "<span style=\"color:cyan\"> |-learning_rate: 0.0001</span>"
            ],
            "text/plain": [
              "<IPython.core.display.HTML object>"
            ]
          },
          "metadata": {
            "tags": []
          }
        }
      ]
    },
    {
      "cell_type": "code",
      "metadata": {
        "id": "Rq_625b19g6P",
        "colab": {
          "base_uri": "https://localhost:8080/",
          "height": 51
        },
        "outputId": "72326de4-7d9c-4648-b45c-27ac8224154c"
      },
      "source": [
        "# 4.2. Print the results of the best model\n",
        "best_model = tuner_rs.get_best_models(num_models=1)[0]\n",
        "best_model.evaluate(X_test, y_test)"
      ],
      "execution_count": null,
      "outputs": [
        {
          "output_type": "stream",
          "text": [
            "3/3 [==============================] - 0s 3ms/step - loss: 48.6127 - mse: 48.6127\n"
          ],
          "name": "stdout"
        },
        {
          "output_type": "execute_result",
          "data": {
            "text/plain": [
              "[48.612728118896484, 48.612728118896484]"
            ]
          },
          "metadata": {
            "tags": []
          },
          "execution_count": 79
        }
      ]
    },
    {
      "cell_type": "code",
      "metadata": {
        "id": "gBxM4hL6r9Vz",
        "colab": {
          "base_uri": "https://localhost:8080/",
          "height": 255
        },
        "outputId": "029bf07d-26ce-4db9-a409-cdcb04052e45"
      },
      "source": [
        "# 4.3. Print the best model's architecture\n",
        "best_model.summary()"
      ],
      "execution_count": null,
      "outputs": [
        {
          "output_type": "stream",
          "text": [
            "Model: \"sequential\"\n",
            "_________________________________________________________________\n",
            "Layer (type)                 Output Shape              Param #   \n",
            "=================================================================\n",
            "dense (Dense)                (None, 10)                140       \n",
            "_________________________________________________________________\n",
            "dense_1 (Dense)              (None, 8)                 88        \n",
            "_________________________________________________________________\n",
            "dense_2 (Dense)              (None, 1)                 9         \n",
            "=================================================================\n",
            "Total params: 237\n",
            "Trainable params: 237\n",
            "Non-trainable params: 0\n",
            "_________________________________________________________________\n"
          ],
          "name": "stdout"
        }
      ]
    },
    {
      "cell_type": "code",
      "metadata": {
        "id": "s-fWHtrMe8U_"
      },
      "source": [
        "# Load new test data\n",
        "new_test_data = pd.read_csv('https://raw.githubusercontent.com/dphi-official/Datasets/master/Boston_Housing/Testing_set_boston.csv')"
      ],
      "execution_count": null,
      "outputs": []
    },
    {
      "cell_type": "code",
      "metadata": {
        "id": "crRYu0YtiO5G"
      },
      "source": [
        "# make a prediction\n",
        "model.predict(new_test_data)"
      ],
      "execution_count": null,
      "outputs": []
    }
  ]
}